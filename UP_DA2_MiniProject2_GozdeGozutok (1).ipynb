{
  "nbformat": 4,
  "nbformat_minor": 0,
  "metadata": {
    "colab": {
      "name": "UP-DA2-Project2-GozdeGozutok.ipynb",
      "provenance": [],
      "collapsed_sections": []
    },
    "kernelspec": {
      "name": "python3",
      "display_name": "Python 3"
    },
    "language_info": {
      "name": "python"
    }
  },
  "cells": [
    {
      "cell_type": "code",
      "metadata": {
        "id": "ZajTmZL24Fdq"
      },
      "source": [
        "import pandas as pd\n",
        "import numpy as np\n",
        "import seaborn as sns\n",
        "import matplotlib.pyplot as plt\n",
        "%matplotlib inline"
      ],
      "execution_count": null,
      "outputs": []
    },
    {
      "cell_type": "code",
      "metadata": {
        "colab": {
          "base_uri": "https://localhost:8080/"
        },
        "id": "bE2WKhhcB5s6",
        "outputId": "10c30f81-8389-4400-bafa-7f1e3421ba86"
      },
      "source": [
        "!unzip UP-DA2-P2.zip"
      ],
      "execution_count": null,
      "outputs": [
        {
          "output_type": "stream",
          "name": "stdout",
          "text": [
            "Archive:  UP-DA2-P2.zip\n",
            "replace patcomp-p1.csv? [y]es, [n]o, [A]ll, [N]one, [r]ename: "
          ]
        }
      ]
    },
    {
      "cell_type": "markdown",
      "metadata": {
        "id": "mknR72LLGe11"
      },
      "source": [
        "PART A\n",
        "\n",
        "We are working with patcomp data.\n",
        "\n",
        "1. Determine the accuracy (correct response rates) for three participants.\n",
        "2. Calculate the correct response rates for \"same\" and \"diff\" conditions.\n",
        "3. Calculate the reaction time average with respect to the correct responses.\n",
        "4. Neglect the reaction times of the incorrect responses.\n"
      ]
    },
    {
      "cell_type": "markdown",
      "metadata": {
        "id": "GnEOJnELd7hL"
      },
      "source": [
        "# Determine the accuracy (correct response rates) for three participants."
      ]
    },
    {
      "cell_type": "code",
      "metadata": {
        "id": "201WAIESejpm"
      },
      "source": [
        "def accuracyrate(data):\n",
        "  true_count = 0\n",
        "  for i in range(len(data)):\n",
        "      if data.iloc[i]['corr']==1:\n",
        "        true_count+=1\n",
        "  print('Length of the data data is:', len(data))\n",
        "\n",
        "  print('Correct response count is: ', true_count)\n",
        "  print('Correct response rate ', true_count/(len(data)))"
      ],
      "execution_count": null,
      "outputs": []
    },
    {
      "cell_type": "code",
      "metadata": {
        "colab": {
          "base_uri": "https://localhost:8080/"
        },
        "id": "_PXOhRxvfDfs",
        "outputId": "c8cc4a26-9d62-4d17-a0d8-d0b2714254ba"
      },
      "source": [
        "accuracyrate(patcomp1)"
      ],
      "execution_count": null,
      "outputs": [
        {
          "output_type": "stream",
          "name": "stdout",
          "text": [
            "Length of the data data is: 60\n",
            "Correct response count is:  56\n",
            "Correct response rate  0.9333333333333333\n"
          ]
        }
      ]
    },
    {
      "cell_type": "code",
      "metadata": {
        "colab": {
          "base_uri": "https://localhost:8080/"
        },
        "id": "tBo97kOPfMjT",
        "outputId": "93763956-82bc-4450-97e7-e33a67d8f50b"
      },
      "source": [
        "accuracyrate(patcomp2)"
      ],
      "execution_count": null,
      "outputs": [
        {
          "output_type": "stream",
          "name": "stdout",
          "text": [
            "Length of the data data is: 60\n",
            "Correct response count is:  58\n",
            "Correct response rate  0.9666666666666667\n"
          ]
        }
      ]
    },
    {
      "cell_type": "code",
      "metadata": {
        "colab": {
          "base_uri": "https://localhost:8080/"
        },
        "id": "pwmKHPmIfPUB",
        "outputId": "e7286774-4b02-4703-9fd8-af34be1726bf"
      },
      "source": [
        "accuracyrate(patcomp3)"
      ],
      "execution_count": null,
      "outputs": [
        {
          "output_type": "stream",
          "name": "stdout",
          "text": [
            "Length of the data data is: 60\n",
            "Correct response count is:  58\n",
            "Correct response rate  0.9666666666666667\n"
          ]
        }
      ]
    },
    {
      "cell_type": "markdown",
      "metadata": {
        "id": "pZ5Ed7TBHU-v"
      },
      "source": [
        "# Correct response rates for \"same\" and \"diff\" conditions."
      ]
    },
    {
      "cell_type": "code",
      "metadata": {
        "colab": {
          "base_uri": "https://localhost:8080/",
          "height": 204
        },
        "id": "baDiwbq9GhYO",
        "outputId": "4726f2e6-1b7d-46f7-c0fd-3366ab01e635"
      },
      "source": [
        "patcomp1 = pd.read_csv('patcomp-p1.csv')\n",
        "patcomp1.head()"
      ],
      "execution_count": null,
      "outputs": [
        {
          "output_type": "execute_result",
          "data": {
            "text/html": [
              "<div>\n",
              "<style scoped>\n",
              "    .dataframe tbody tr th:only-of-type {\n",
              "        vertical-align: middle;\n",
              "    }\n",
              "\n",
              "    .dataframe tbody tr th {\n",
              "        vertical-align: top;\n",
              "    }\n",
              "\n",
              "    .dataframe thead th {\n",
              "        text-align: right;\n",
              "    }\n",
              "</style>\n",
              "<table border=\"1\" class=\"dataframe\">\n",
              "  <thead>\n",
              "    <tr style=\"text-align: right;\">\n",
              "      <th></th>\n",
              "      <th>subnum</th>\n",
              "      <th>trial</th>\n",
              "      <th>samediff</th>\n",
              "      <th>mat1</th>\n",
              "      <th>mat2</th>\n",
              "      <th>abstime</th>\n",
              "      <th>rt</th>\n",
              "      <th>resp</th>\n",
              "      <th>corr</th>\n",
              "    </tr>\n",
              "  </thead>\n",
              "  <tbody>\n",
              "    <tr>\n",
              "      <th>0</th>\n",
              "      <td>Ahmetpattern</td>\n",
              "      <td>1</td>\n",
              "      <td>same</td>\n",
              "      <td>1.000000e+13</td>\n",
              "      <td>1.000000e+13</td>\n",
              "      <td>43367</td>\n",
              "      <td>1991</td>\n",
              "      <td>&lt;rshift&gt;</td>\n",
              "      <td>0</td>\n",
              "    </tr>\n",
              "    <tr>\n",
              "      <th>1</th>\n",
              "      <td>Ahmetpattern</td>\n",
              "      <td>2</td>\n",
              "      <td>same</td>\n",
              "      <td>1.010000e+14</td>\n",
              "      <td>1.010000e+14</td>\n",
              "      <td>45813</td>\n",
              "      <td>932</td>\n",
              "      <td>&lt;lshift&gt;</td>\n",
              "      <td>1</td>\n",
              "    </tr>\n",
              "    <tr>\n",
              "      <th>2</th>\n",
              "      <td>Ahmetpattern</td>\n",
              "      <td>3</td>\n",
              "      <td>same</td>\n",
              "      <td>1.100000e+14</td>\n",
              "      <td>1.100000e+14</td>\n",
              "      <td>47197</td>\n",
              "      <td>1215</td>\n",
              "      <td>&lt;lshift&gt;</td>\n",
              "      <td>1</td>\n",
              "    </tr>\n",
              "    <tr>\n",
              "      <th>3</th>\n",
              "      <td>Ahmetpattern</td>\n",
              "      <td>4</td>\n",
              "      <td>same</td>\n",
              "      <td>1.010000e+14</td>\n",
              "      <td>1.010000e+14</td>\n",
              "      <td>48865</td>\n",
              "      <td>1090</td>\n",
              "      <td>&lt;lshift&gt;</td>\n",
              "      <td>1</td>\n",
              "    </tr>\n",
              "    <tr>\n",
              "      <th>4</th>\n",
              "      <td>Ahmetpattern</td>\n",
              "      <td>5</td>\n",
              "      <td>diff</td>\n",
              "      <td>1.000000e+14</td>\n",
              "      <td>1.010000e+12</td>\n",
              "      <td>50394</td>\n",
              "      <td>1056</td>\n",
              "      <td>&lt;rshift&gt;</td>\n",
              "      <td>1</td>\n",
              "    </tr>\n",
              "  </tbody>\n",
              "</table>\n",
              "</div>"
            ],
            "text/plain": [
              "         subnum  trial samediff          mat1  ...  abstime    rt      resp corr\n",
              "0  Ahmetpattern      1     same  1.000000e+13  ...    43367  1991  <rshift>    0\n",
              "1  Ahmetpattern      2     same  1.010000e+14  ...    45813   932  <lshift>    1\n",
              "2  Ahmetpattern      3     same  1.100000e+14  ...    47197  1215  <lshift>    1\n",
              "3  Ahmetpattern      4     same  1.010000e+14  ...    48865  1090  <lshift>    1\n",
              "4  Ahmetpattern      5     diff  1.000000e+14  ...    50394  1056  <rshift>    1\n",
              "\n",
              "[5 rows x 9 columns]"
            ]
          },
          "metadata": {},
          "execution_count": 52
        }
      ]
    },
    {
      "cell_type": "code",
      "metadata": {
        "colab": {
          "base_uri": "https://localhost:8080/"
        },
        "id": "bPjk4Nz4HftH",
        "outputId": "a63952b7-c958-47a4-cae3-b0df69614885"
      },
      "source": [
        "same_true_count = 0\n",
        "diff_true_count = 0\n",
        "for i in range(len(patcomp1)):\n",
        "  if patcomp1.iloc[i]['samediff']=='same':\n",
        "    if patcomp1.iloc[i]['corr']==1:\n",
        "      same_true_count+=1\n",
        "  if patcomp1.iloc[i]['samediff']=='diff':\n",
        "    if patcomp1.iloc[i]['corr']==1:\n",
        "      diff_true_count+=1\n",
        "print('Length of the patcomp1 data is:', len(patcomp1))\n",
        "print('Length of the patcomp1 data when samediff is equal to same:',patcomp1[patcomp1['samediff']=='same']['corr'].count())\n",
        "print('When samediff is equal to same, correct response count is: ', same_true_count)\n",
        "print('When samediff is equal to same, correct response count is: ', same_true_count/(patcomp1[patcomp1['samediff']=='same']['corr'].count()))\n",
        "print('Length of the patcomp1 data when samediff is equal to diff:',patcomp1[patcomp1['samediff']=='diff']['corr'].count())\n",
        "print('When samediff is equal to diff, correct response count is: ', diff_true_count)\n",
        "print('When samediff is equal to diff, correct response count is: ', diff_true_count/(patcomp1[patcomp1['samediff']=='diff']['corr'].count()))"
      ],
      "execution_count": null,
      "outputs": [
        {
          "output_type": "stream",
          "name": "stdout",
          "text": [
            "Length of the patcomp1 data is: 60\n",
            "Length of the patcomp1 data when samediff is equal to same: 30\n",
            "When samediff is equal to same, correct response count is:  27\n",
            "When samediff is equal to same, correct response count is:  0.9\n",
            "Length of the patcomp1 data when samediff is equal to diff: 30\n",
            "When samediff is equal to diff, correct response count is:  29\n",
            "When samediff is equal to diff, correct response count is:  0.9666666666666667\n"
          ]
        }
      ]
    },
    {
      "cell_type": "code",
      "metadata": {
        "colab": {
          "base_uri": "https://localhost:8080/",
          "height": 204
        },
        "id": "h6b401kFGtRE",
        "outputId": "aaf24f68-7b47-4c75-db82-64aa715daf17"
      },
      "source": [
        "patcomp2 = pd.read_csv('patcomp-p2.csv')\n",
        "patcomp2.head()"
      ],
      "execution_count": null,
      "outputs": [
        {
          "output_type": "execute_result",
          "data": {
            "text/html": [
              "<div>\n",
              "<style scoped>\n",
              "    .dataframe tbody tr th:only-of-type {\n",
              "        vertical-align: middle;\n",
              "    }\n",
              "\n",
              "    .dataframe tbody tr th {\n",
              "        vertical-align: top;\n",
              "    }\n",
              "\n",
              "    .dataframe thead th {\n",
              "        text-align: right;\n",
              "    }\n",
              "</style>\n",
              "<table border=\"1\" class=\"dataframe\">\n",
              "  <thead>\n",
              "    <tr style=\"text-align: right;\">\n",
              "      <th></th>\n",
              "      <th>subnum</th>\n",
              "      <th>trial</th>\n",
              "      <th>samediff</th>\n",
              "      <th>mat1</th>\n",
              "      <th>mat2</th>\n",
              "      <th>abstime</th>\n",
              "      <th>rt</th>\n",
              "      <th>resp</th>\n",
              "      <th>corr</th>\n",
              "    </tr>\n",
              "  </thead>\n",
              "  <tbody>\n",
              "    <tr>\n",
              "      <th>0</th>\n",
              "      <td>Cengizhocapattern</td>\n",
              "      <td>1</td>\n",
              "      <td>diff</td>\n",
              "      <td>1.110000e+14</td>\n",
              "      <td>1.011000e+15</td>\n",
              "      <td>45546</td>\n",
              "      <td>4320</td>\n",
              "      <td>&lt;rshift&gt;</td>\n",
              "      <td>1</td>\n",
              "    </tr>\n",
              "    <tr>\n",
              "      <th>1</th>\n",
              "      <td>Cengizhocapattern</td>\n",
              "      <td>2</td>\n",
              "      <td>same</td>\n",
              "      <td>1.001010e+13</td>\n",
              "      <td>1.001010e+13</td>\n",
              "      <td>50316</td>\n",
              "      <td>3040</td>\n",
              "      <td>&lt;lshift&gt;</td>\n",
              "      <td>1</td>\n",
              "    </tr>\n",
              "    <tr>\n",
              "      <th>2</th>\n",
              "      <td>Cengizhocapattern</td>\n",
              "      <td>3</td>\n",
              "      <td>same</td>\n",
              "      <td>1.110001e+14</td>\n",
              "      <td>1.110001e+14</td>\n",
              "      <td>53798</td>\n",
              "      <td>3616</td>\n",
              "      <td>&lt;lshift&gt;</td>\n",
              "      <td>1</td>\n",
              "    </tr>\n",
              "    <tr>\n",
              "      <th>3</th>\n",
              "      <td>Cengizhocapattern</td>\n",
              "      <td>4</td>\n",
              "      <td>diff</td>\n",
              "      <td>1.001110e+14</td>\n",
              "      <td>1.101011e+12</td>\n",
              "      <td>57861</td>\n",
              "      <td>9305</td>\n",
              "      <td>&lt;rshift&gt;</td>\n",
              "      <td>1</td>\n",
              "    </tr>\n",
              "    <tr>\n",
              "      <th>4</th>\n",
              "      <td>Cengizhocapattern</td>\n",
              "      <td>5</td>\n",
              "      <td>same</td>\n",
              "      <td>1.010101e+14</td>\n",
              "      <td>1.010101e+14</td>\n",
              "      <td>67607</td>\n",
              "      <td>2780</td>\n",
              "      <td>&lt;lshift&gt;</td>\n",
              "      <td>1</td>\n",
              "    </tr>\n",
              "  </tbody>\n",
              "</table>\n",
              "</div>"
            ],
            "text/plain": [
              "              subnum  trial samediff  ...    rt      resp  corr\n",
              "0  Cengizhocapattern      1     diff  ...  4320  <rshift>     1\n",
              "1  Cengizhocapattern      2     same  ...  3040  <lshift>     1\n",
              "2  Cengizhocapattern      3     same  ...  3616  <lshift>     1\n",
              "3  Cengizhocapattern      4     diff  ...  9305  <rshift>     1\n",
              "4  Cengizhocapattern      5     same  ...  2780  <lshift>     1\n",
              "\n",
              "[5 rows x 9 columns]"
            ]
          },
          "metadata": {},
          "execution_count": 54
        }
      ]
    },
    {
      "cell_type": "code",
      "metadata": {
        "colab": {
          "base_uri": "https://localhost:8080/"
        },
        "id": "P9QoT2tTKsx3",
        "outputId": "9d17110e-919d-4384-9813-f508747d3da3"
      },
      "source": [
        "same_true_count = 0\n",
        "diff_true_count = 0\n",
        "for i in range(len(patcomp2)):\n",
        "  if patcomp2.iloc[i]['samediff']=='same':\n",
        "    if patcomp2.iloc[i]['corr']==1:\n",
        "      same_true_count+=1\n",
        "  if patcomp2.iloc[i]['samediff']=='diff':\n",
        "    if patcomp2.iloc[i]['corr']==1:\n",
        "      diff_true_count+=1\n",
        "print('Length of the patcomp2 data is:', len(patcomp2))\n",
        "print('Length of the patcomp2 data when samediff is equal to same:',patcomp2[patcomp2['samediff']=='same']['corr'].count())\n",
        "print('When samediff is equal to same, correct response count is: ', same_true_count)\n",
        "print('When samediff is equal to same, correct response count is: ', same_true_count/(patcomp2[patcomp2['samediff']=='same']['corr'].count()))\n",
        "print('Length of the patcomp2 data when samediff is equal to diff:',patcomp2[patcomp2['samediff']=='diff']['corr'].count())\n",
        "print('When samediff is equal to diff, correct response count is: ', diff_true_count)\n",
        "print('When samediff is equal to diff, correct response count is: ', diff_true_count/(patcomp2[patcomp2['samediff']=='diff']['corr'].count()))"
      ],
      "execution_count": null,
      "outputs": [
        {
          "output_type": "stream",
          "name": "stdout",
          "text": [
            "Length of the patcomp2 data is: 60\n",
            "Length of the patcomp2 data when samediff is equal to same: 30\n",
            "When samediff is equal to same, correct response count is:  30\n",
            "When samediff is equal to same, correct response count is:  1.0\n",
            "Length of the patcomp2 data when samediff is equal to diff: 30\n",
            "When samediff is equal to diff, correct response count is:  28\n",
            "When samediff is equal to diff, correct response count is:  0.9333333333333333\n"
          ]
        }
      ]
    },
    {
      "cell_type": "code",
      "metadata": {
        "colab": {
          "base_uri": "https://localhost:8080/",
          "height": 204
        },
        "id": "Mrt-AP3fGx1H",
        "outputId": "d4e1fb38-76ca-4a42-b0a6-93a27780cc78"
      },
      "source": [
        "patcomp3 = pd.read_csv('patcomp-p3.csv')\n",
        "patcomp3.head()"
      ],
      "execution_count": null,
      "outputs": [
        {
          "output_type": "execute_result",
          "data": {
            "text/html": [
              "<div>\n",
              "<style scoped>\n",
              "    .dataframe tbody tr th:only-of-type {\n",
              "        vertical-align: middle;\n",
              "    }\n",
              "\n",
              "    .dataframe tbody tr th {\n",
              "        vertical-align: top;\n",
              "    }\n",
              "\n",
              "    .dataframe thead th {\n",
              "        text-align: right;\n",
              "    }\n",
              "</style>\n",
              "<table border=\"1\" class=\"dataframe\">\n",
              "  <thead>\n",
              "    <tr style=\"text-align: right;\">\n",
              "      <th></th>\n",
              "      <th>subnum</th>\n",
              "      <th>trial</th>\n",
              "      <th>samediff</th>\n",
              "      <th>mat1</th>\n",
              "      <th>mat2</th>\n",
              "      <th>abstime</th>\n",
              "      <th>rt</th>\n",
              "      <th>resp</th>\n",
              "      <th>corr</th>\n",
              "    </tr>\n",
              "  </thead>\n",
              "  <tbody>\n",
              "    <tr>\n",
              "      <th>0</th>\n",
              "      <td>emiraltan2pattern</td>\n",
              "      <td>1</td>\n",
              "      <td>same</td>\n",
              "      <td>1.101101e+13</td>\n",
              "      <td>1.101101e+13</td>\n",
              "      <td>6469</td>\n",
              "      <td>1818</td>\n",
              "      <td>&lt;lshift&gt;</td>\n",
              "      <td>1</td>\n",
              "    </tr>\n",
              "    <tr>\n",
              "      <th>1</th>\n",
              "      <td>emiraltan2pattern</td>\n",
              "      <td>2</td>\n",
              "      <td>diff</td>\n",
              "      <td>1.001010e+15</td>\n",
              "      <td>1.110011e+12</td>\n",
              "      <td>8726</td>\n",
              "      <td>852</td>\n",
              "      <td>&lt;rshift&gt;</td>\n",
              "      <td>1</td>\n",
              "    </tr>\n",
              "    <tr>\n",
              "      <th>2</th>\n",
              "      <td>emiraltan2pattern</td>\n",
              "      <td>3</td>\n",
              "      <td>diff</td>\n",
              "      <td>1.011011e+12</td>\n",
              "      <td>1.010011e+15</td>\n",
              "      <td>10018</td>\n",
              "      <td>862</td>\n",
              "      <td>&lt;rshift&gt;</td>\n",
              "      <td>1</td>\n",
              "    </tr>\n",
              "    <tr>\n",
              "      <th>3</th>\n",
              "      <td>emiraltan2pattern</td>\n",
              "      <td>4</td>\n",
              "      <td>diff</td>\n",
              "      <td>1.100110e+15</td>\n",
              "      <td>1.111100e+14</td>\n",
              "      <td>11319</td>\n",
              "      <td>805</td>\n",
              "      <td>&lt;rshift&gt;</td>\n",
              "      <td>1</td>\n",
              "    </tr>\n",
              "    <tr>\n",
              "      <th>4</th>\n",
              "      <td>emiraltan2pattern</td>\n",
              "      <td>5</td>\n",
              "      <td>same</td>\n",
              "      <td>1.101110e+15</td>\n",
              "      <td>1.101110e+15</td>\n",
              "      <td>12563</td>\n",
              "      <td>924</td>\n",
              "      <td>&lt;lshift&gt;</td>\n",
              "      <td>1</td>\n",
              "    </tr>\n",
              "  </tbody>\n",
              "</table>\n",
              "</div>"
            ],
            "text/plain": [
              "              subnum  trial samediff  ...    rt      resp  corr\n",
              "0  emiraltan2pattern      1     same  ...  1818  <lshift>     1\n",
              "1  emiraltan2pattern      2     diff  ...   852  <rshift>     1\n",
              "2  emiraltan2pattern      3     diff  ...   862  <rshift>     1\n",
              "3  emiraltan2pattern      4     diff  ...   805  <rshift>     1\n",
              "4  emiraltan2pattern      5     same  ...   924  <lshift>     1\n",
              "\n",
              "[5 rows x 9 columns]"
            ]
          },
          "metadata": {},
          "execution_count": 56
        }
      ]
    },
    {
      "cell_type": "code",
      "metadata": {
        "colab": {
          "base_uri": "https://localhost:8080/"
        },
        "id": "vBq-FUTELIlF",
        "outputId": "3bb7931f-e7dc-418f-8632-6546761aa998"
      },
      "source": [
        "same_true_count = 0\n",
        "diff_true_count = 0\n",
        "for i in range(len(patcomp3)):\n",
        "  if patcomp3.iloc[i]['samediff']=='same':\n",
        "    if patcomp3.iloc[i]['corr']==1:\n",
        "      same_true_count+=1\n",
        "  if patcomp3.iloc[i]['samediff']=='diff':\n",
        "    if patcomp3.iloc[i]['corr']==1:\n",
        "      diff_true_count+=1\n",
        "print('Length of the patcomp3 data is:', len(patcomp3))\n",
        "print('Length of the patcomp3 data when samediff is equal to same:',patcomp3[patcomp3['samediff']=='same']['corr'].count())\n",
        "print('When samediff is equal to same, correct response count is: ', same_true_count)\n",
        "print('When samediff is equal to same, correct response count is: ', same_true_count/(patcomp3[patcomp3['samediff']=='same']['corr'].count()))\n",
        "print('Length of the patcomp3 data when samediff is equal to diff:',patcomp3[patcomp3['samediff']=='diff']['corr'].count())\n",
        "print('When samediff is equal to diff, correct response count is: ', diff_true_count)\n",
        "print('When samediff is equal to diff, correct response count is: ', diff_true_count/(patcomp3[patcomp3['samediff']=='diff']['corr'].count()))"
      ],
      "execution_count": null,
      "outputs": [
        {
          "output_type": "stream",
          "name": "stdout",
          "text": [
            "Length of the patcomp3 data is: 60\n",
            "Length of the patcomp3 data when samediff is equal to same: 30\n",
            "When samediff is equal to same, correct response count is:  29\n",
            "When samediff is equal to same, correct response count is:  0.9666666666666667\n",
            "Length of the patcomp3 data when samediff is equal to diff: 30\n",
            "When samediff is equal to diff, correct response count is:  29\n",
            "When samediff is equal to diff, correct response count is:  0.9666666666666667\n"
          ]
        }
      ]
    },
    {
      "cell_type": "markdown",
      "metadata": {
        "id": "qqqzr3H5dAW6"
      },
      "source": [
        "# All process above with function "
      ]
    },
    {
      "cell_type": "code",
      "metadata": {
        "id": "MeVYPvjVdG8U"
      },
      "source": [
        "def responserate(data):\n",
        "  same_true_count = 0\n",
        "  diff_true_count = 0\n",
        "  for i in range(len(data)):\n",
        "    if data.iloc[i]['samediff']=='same':\n",
        "      if data.iloc[i]['corr']==1:\n",
        "        same_true_count+=1\n",
        "    if data.iloc[i]['samediff']=='diff':\n",
        "      if data.iloc[i]['corr']==1:\n",
        "        diff_true_count+=1\n",
        "  print('Length of the data data is:', len(data))\n",
        "  print('Length of the data data when samediff is equal to same:',data[data['samediff']=='same']['corr'].count())\n",
        "  print('When samediff is equal to same, correct response count is: ', same_true_count)\n",
        "  print('When samediff is equal to same, correct response count is: ', same_true_count/(data[data['samediff']=='same']['corr'].count()))\n",
        "  print('Length of the data data when samediff is equal to diff:',data[data['samediff']=='diff']['corr'].count())\n",
        "  print('When samediff is equal to diff, correct response count is: ', diff_true_count)\n",
        "  print('When samediff is equal to diff, correct response count is: ', diff_true_count/(data[data['samediff']=='diff']['corr'].count()))\n"
      ],
      "execution_count": null,
      "outputs": []
    },
    {
      "cell_type": "code",
      "metadata": {
        "colab": {
          "base_uri": "https://localhost:8080/"
        },
        "id": "gJz_Cre-dpxz",
        "outputId": "f08052ae-258b-4db7-bf60-f628c1ec3fa4"
      },
      "source": [
        "responserate(patcomp1)"
      ],
      "execution_count": null,
      "outputs": [
        {
          "output_type": "stream",
          "name": "stdout",
          "text": [
            "Length of the data data is: 60\n",
            "Length of the data data when samediff is equal to same: 30\n",
            "When samediff is equal to same, correct response count is:  27\n",
            "When samediff is equal to same, correct response count is:  0.9\n",
            "Length of the data data when samediff is equal to diff: 30\n",
            "When samediff is equal to diff, correct response count is:  29\n",
            "When samediff is equal to diff, correct response count is:  0.9666666666666667\n"
          ]
        }
      ]
    },
    {
      "cell_type": "code",
      "metadata": {
        "colab": {
          "base_uri": "https://localhost:8080/"
        },
        "id": "9mBAxhJmds31",
        "outputId": "bfda12dc-4f02-4bfb-a949-b17a4a0ccafc"
      },
      "source": [
        "responserate(patcomp2)"
      ],
      "execution_count": null,
      "outputs": [
        {
          "output_type": "stream",
          "name": "stdout",
          "text": [
            "Length of the data data is: 60\n",
            "Length of the data data when samediff is equal to same: 30\n",
            "When samediff is equal to same, correct response count is:  30\n",
            "When samediff is equal to same, correct response count is:  1.0\n",
            "Length of the data data when samediff is equal to diff: 30\n",
            "When samediff is equal to diff, correct response count is:  28\n",
            "When samediff is equal to diff, correct response count is:  0.9333333333333333\n"
          ]
        }
      ]
    },
    {
      "cell_type": "code",
      "metadata": {
        "colab": {
          "base_uri": "https://localhost:8080/"
        },
        "id": "rD3oeHM8dvHv",
        "outputId": "3e033b4c-68a2-40a5-bdca-1a8eb1749056"
      },
      "source": [
        "responserate(patcomp3)"
      ],
      "execution_count": null,
      "outputs": [
        {
          "output_type": "stream",
          "name": "stdout",
          "text": [
            "Length of the data data is: 60\n",
            "Length of the data data when samediff is equal to same: 30\n",
            "When samediff is equal to same, correct response count is:  29\n",
            "When samediff is equal to same, correct response count is:  0.9666666666666667\n",
            "Length of the data data when samediff is equal to diff: 30\n",
            "When samediff is equal to diff, correct response count is:  29\n",
            "When samediff is equal to diff, correct response count is:  0.9666666666666667\n"
          ]
        }
      ]
    },
    {
      "cell_type": "markdown",
      "metadata": {
        "id": "V7i-1BpJLmMA"
      },
      "source": [
        "# Reaction time average with respect to the correct responses.\n",
        "\n",
        "I will calculates average reaction time with respect to three cases.\n",
        "\n",
        "When samediff=='same' i will calculate avg reaction time\n",
        "\n",
        "When samediff=='diff' i will calculate avg reaction time\n",
        "\n",
        "and also general avg reaction time"
      ]
    },
    {
      "cell_type": "code",
      "metadata": {
        "colab": {
          "base_uri": "https://localhost:8080/"
        },
        "id": "A5N53scxLtyF",
        "outputId": "909d5b84-bbd7-4a82-8c0d-ab080a62cbba"
      },
      "source": [
        "count = 0\n",
        "rt_Same = 0\n",
        "for i in range(len(patcomp3)):\n",
        "  if patcomp3.iloc[i]['samediff']=='same':\n",
        "    if patcomp3.iloc[i]['corr']==1:\n",
        "      rt_Same = rt_Same + patcomp3.iloc[i]['rt']\n",
        "      count+=1\n",
        "avg_rt = rt_Same/count\n",
        "print('Mean value is:', avg_rt)"
      ],
      "execution_count": null,
      "outputs": [
        {
          "output_type": "stream",
          "name": "stdout",
          "text": [
            "Mean value is: 921.8620689655172\n"
          ]
        }
      ]
    },
    {
      "cell_type": "code",
      "metadata": {
        "colab": {
          "base_uri": "https://localhost:8080/"
        },
        "id": "Y9_4t_-tVfTp",
        "outputId": "71df6b19-46fb-4e48-8d1f-f055036ec3da"
      },
      "source": [
        "count=0\n",
        "rt_Diff=0\n",
        "for i in range(len(patcomp3)):\n",
        "   if patcomp3.iloc[i]['samediff']=='diff':\n",
        "    if patcomp3.iloc[i]['corr']==1:\n",
        "      rt_Diff = rt_Diff + patcomp3.iloc[i]['rt']\n",
        "      count+=1\n",
        "avg_rt = rt_Diff/count\n",
        "print('Mean value is:', avg_rt)"
      ],
      "execution_count": null,
      "outputs": [
        {
          "output_type": "stream",
          "name": "stdout",
          "text": [
            "Mean value is: 892.6551724137931\n"
          ]
        }
      ]
    },
    {
      "cell_type": "code",
      "metadata": {
        "colab": {
          "base_uri": "https://localhost:8080/"
        },
        "id": "r3C3xyoPWAAK",
        "outputId": "060fdc4c-a364-492e-e4ee-345177408a53"
      },
      "source": [
        "count=0\n",
        "rt_general=0\n",
        "for i in range(len(patcomp3)):\n",
        "  if patcomp3.iloc[i]['corr']==1:\n",
        "      rt_general = rt_general + patcomp3.iloc[i]['rt']\n",
        "      count+=1\n",
        "avg_rt = rt_general/count\n",
        "print('Mean value is:', avg_rt)"
      ],
      "execution_count": null,
      "outputs": [
        {
          "output_type": "stream",
          "name": "stdout",
          "text": [
            "Mean value is: 907.2586206896551\n"
          ]
        }
      ]
    },
    {
      "cell_type": "markdown",
      "metadata": {
        "id": "irxM5mAlLqQq"
      },
      "source": [
        "# Neglect the reaction times of the incorrect responses."
      ]
    },
    {
      "cell_type": "code",
      "metadata": {
        "colab": {
          "base_uri": "https://localhost:8080/"
        },
        "id": "_qNIMPabfpde",
        "outputId": "929e2384-7909-43fb-e261-88551694d1f5"
      },
      "source": [
        "patcomp1[patcomp1['corr']==1]['rt'].mean() # mean of reaction time when wrong answers neglected"
      ],
      "execution_count": null,
      "outputs": [
        {
          "output_type": "execute_result",
          "data": {
            "text/plain": [
              "1070.2857142857142"
            ]
          },
          "metadata": {},
          "execution_count": 65
        }
      ]
    },
    {
      "cell_type": "code",
      "metadata": {
        "colab": {
          "base_uri": "https://localhost:8080/"
        },
        "id": "oeLUyxsTgECr",
        "outputId": "306da21b-e42f-4196-b4ab-993d787e5124"
      },
      "source": [
        "patcomp2[patcomp2['corr']==1]['rt'].mean() # mean of reaction time when wrong answers neglected"
      ],
      "execution_count": null,
      "outputs": [
        {
          "output_type": "execute_result",
          "data": {
            "text/plain": [
              "2818.2758620689656"
            ]
          },
          "metadata": {},
          "execution_count": 66
        }
      ]
    },
    {
      "cell_type": "code",
      "metadata": {
        "colab": {
          "base_uri": "https://localhost:8080/"
        },
        "id": "-_M7_4F0gD6Y",
        "outputId": "c69fabe5-7143-4605-d623-3c7b5027d0c0"
      },
      "source": [
        "patcomp3[patcomp3['corr']==1]['rt'].mean() # mean of reaction time when wrong answers neglected"
      ],
      "execution_count": null,
      "outputs": [
        {
          "output_type": "execute_result",
          "data": {
            "text/plain": [
              "907.2586206896551"
            ]
          },
          "metadata": {},
          "execution_count": 67
        }
      ]
    },
    {
      "cell_type": "markdown",
      "metadata": {
        "id": "0Nez32QUAwVF"
      },
      "source": [
        "\n",
        "# ** PART B **\n",
        "We are working with rotate data (without practice trials).\n",
        "\n",
        "Determine the accuracy (correct response rates) for three participants.\n",
        "\n",
        "Calculate the correct response rates for \"0\" and \"1\" conditions.\n",
        "\n",
        "Calculate the mean value.\n",
        "\n",
        "Calculate the mean values for \"0\" and \"1\" conditions."
      ]
    },
    {
      "cell_type": "markdown",
      "metadata": {
        "id": "6w8dJ7X4iG34"
      },
      "source": [
        "# Determine the accuracy (correct response rates) for three participants."
      ]
    },
    {
      "cell_type": "code",
      "metadata": {
        "colab": {
          "base_uri": "https://localhost:8080/"
        },
        "id": "xyrTCHQaiJMv",
        "outputId": "9aff7901-54b0-4783-df09-a61fece99b26"
      },
      "source": [
        "len(rotate_1[rotate_1['cond']==rotate_1['cor']])/len(rotate_1)"
      ],
      "execution_count": null,
      "outputs": [
        {
          "output_type": "execute_result",
          "data": {
            "text/plain": [
              "0.453125"
            ]
          },
          "metadata": {},
          "execution_count": 68
        }
      ]
    },
    {
      "cell_type": "code",
      "metadata": {
        "colab": {
          "base_uri": "https://localhost:8080/"
        },
        "id": "v9zTpjXTiJDw",
        "outputId": "cd5e1e54-072b-45a4-e03c-da3caabd63a7"
      },
      "source": [
        "len(rotate_2[rotate_2['cond']==rotate_2['cor']])/len(rotate_2)"
      ],
      "execution_count": null,
      "outputs": [
        {
          "output_type": "execute_result",
          "data": {
            "text/plain": [
              "0.546875"
            ]
          },
          "metadata": {},
          "execution_count": 69
        }
      ]
    },
    {
      "cell_type": "code",
      "metadata": {
        "colab": {
          "base_uri": "https://localhost:8080/"
        },
        "id": "R8omABnzmIw6",
        "outputId": "2d69cd4a-ac2a-41b9-bbb0-a7d7d1186f97"
      },
      "source": [
        "len(rotate_3[rotate_3['cond']==rotate_3['cor']])/len(rotate_3)"
      ],
      "execution_count": null,
      "outputs": [
        {
          "output_type": "execute_result",
          "data": {
            "text/plain": [
              "0.4375"
            ]
          },
          "metadata": {},
          "execution_count": 70
        }
      ]
    },
    {
      "cell_type": "markdown",
      "metadata": {
        "id": "gf7eFb7BGGh1"
      },
      "source": [
        "# Correct response rates for three participants"
      ]
    },
    {
      "cell_type": "code",
      "metadata": {
        "colab": {
          "base_uri": "https://localhost:8080/",
          "height": 204
        },
        "id": "bO-01q1SBLAt",
        "outputId": "cce31135-fea9-4838-a938-c60d4b9f2f6e"
      },
      "source": [
        "rotate1 = pd.read_csv('rotate-p1.csv')\n",
        "rotate_1 = rotate1[rotate1['type']=='TEST']\n",
        "rotate_1.head()"
      ],
      "execution_count": null,
      "outputs": [
        {
          "output_type": "execute_result",
          "data": {
            "text/html": [
              "<div>\n",
              "<style scoped>\n",
              "    .dataframe tbody tr th:only-of-type {\n",
              "        vertical-align: middle;\n",
              "    }\n",
              "\n",
              "    .dataframe tbody tr th {\n",
              "        vertical-align: top;\n",
              "    }\n",
              "\n",
              "    .dataframe thead th {\n",
              "        text-align: right;\n",
              "    }\n",
              "</style>\n",
              "<table border=\"1\" class=\"dataframe\">\n",
              "  <thead>\n",
              "    <tr style=\"text-align: right;\">\n",
              "      <th></th>\n",
              "      <th>subNum</th>\n",
              "      <th>type</th>\n",
              "      <th>trialnum</th>\n",
              "      <th>cond</th>\n",
              "      <th>stimid</th>\n",
              "      <th>rot</th>\n",
              "      <th>resp</th>\n",
              "      <th>cor</th>\n",
              "      <th>rt</th>\n",
              "    </tr>\n",
              "  </thead>\n",
              "  <tbody>\n",
              "    <tr>\n",
              "      <th>4</th>\n",
              "      <td>Ahmetrotas</td>\n",
              "      <td>TEST</td>\n",
              "      <td>1</td>\n",
              "      <td>0</td>\n",
              "      <td>2</td>\n",
              "      <td>2</td>\n",
              "      <td>&lt;LSHIFT&gt;</td>\n",
              "      <td>1</td>\n",
              "      <td>1336</td>\n",
              "    </tr>\n",
              "    <tr>\n",
              "      <th>5</th>\n",
              "      <td>Ahmetrotas</td>\n",
              "      <td>TEST</td>\n",
              "      <td>2</td>\n",
              "      <td>0</td>\n",
              "      <td>1</td>\n",
              "      <td>2</td>\n",
              "      <td>&lt;RSHIFT&gt;</td>\n",
              "      <td>0</td>\n",
              "      <td>1819</td>\n",
              "    </tr>\n",
              "    <tr>\n",
              "      <th>6</th>\n",
              "      <td>Ahmetrotas</td>\n",
              "      <td>TEST</td>\n",
              "      <td>3</td>\n",
              "      <td>1</td>\n",
              "      <td>1</td>\n",
              "      <td>-1</td>\n",
              "      <td>&lt;LSHIFT&gt;</td>\n",
              "      <td>0</td>\n",
              "      <td>1274</td>\n",
              "    </tr>\n",
              "    <tr>\n",
              "      <th>7</th>\n",
              "      <td>Ahmetrotas</td>\n",
              "      <td>TEST</td>\n",
              "      <td>4</td>\n",
              "      <td>1</td>\n",
              "      <td>2</td>\n",
              "      <td>4</td>\n",
              "      <td>&lt;RSHIFT&gt;</td>\n",
              "      <td>1</td>\n",
              "      <td>1040</td>\n",
              "    </tr>\n",
              "    <tr>\n",
              "      <th>8</th>\n",
              "      <td>Ahmetrotas</td>\n",
              "      <td>TEST</td>\n",
              "      <td>5</td>\n",
              "      <td>0</td>\n",
              "      <td>2</td>\n",
              "      <td>0</td>\n",
              "      <td>&lt;LSHIFT&gt;</td>\n",
              "      <td>1</td>\n",
              "      <td>1086</td>\n",
              "    </tr>\n",
              "  </tbody>\n",
              "</table>\n",
              "</div>"
            ],
            "text/plain": [
              "       subNum  type  trialnum  cond  stimid  rot      resp  cor    rt\n",
              "4  Ahmetrotas  TEST         1     0       2    2  <LSHIFT>    1  1336\n",
              "5  Ahmetrotas  TEST         2     0       1    2  <RSHIFT>    0  1819\n",
              "6  Ahmetrotas  TEST         3     1       1   -1  <LSHIFT>    0  1274\n",
              "7  Ahmetrotas  TEST         4     1       2    4  <RSHIFT>    1  1040\n",
              "8  Ahmetrotas  TEST         5     0       2    0  <LSHIFT>    1  1086"
            ]
          },
          "metadata": {},
          "execution_count": 71
        }
      ]
    },
    {
      "cell_type": "code",
      "metadata": {
        "colab": {
          "base_uri": "https://localhost:8080/"
        },
        "id": "VCJqLygCMaDf",
        "outputId": "438b06bd-bdc0-461b-95bf-ea3777edf5a1"
      },
      "source": [
        "rotate_1.info()"
      ],
      "execution_count": null,
      "outputs": [
        {
          "output_type": "stream",
          "name": "stdout",
          "text": [
            "<class 'pandas.core.frame.DataFrame'>\n",
            "Int64Index: 128 entries, 4 to 131\n",
            "Data columns (total 9 columns):\n",
            " #   Column    Non-Null Count  Dtype \n",
            "---  ------    --------------  ----- \n",
            " 0   subNum    128 non-null    object\n",
            " 1   type      128 non-null    object\n",
            " 2   trialnum  128 non-null    int64 \n",
            " 3   cond      128 non-null    int64 \n",
            " 4   stimid    128 non-null    int64 \n",
            " 5   rot       128 non-null    int64 \n",
            " 6   resp      128 non-null    object\n",
            " 7   cor       128 non-null    int64 \n",
            " 8   rt        128 non-null    int64 \n",
            "dtypes: int64(6), object(3)\n",
            "memory usage: 10.0+ KB\n"
          ]
        }
      ]
    },
    {
      "cell_type": "code",
      "metadata": {
        "colab": {
          "base_uri": "https://localhost:8080/"
        },
        "id": "4na3dOYyMm4K",
        "outputId": "899cb0c4-e723-4051-bd0c-cede400926c0"
      },
      "source": [
        "# with whole data\n",
        "true_count=0\n",
        "for i in range(len(rotate1)):\n",
        "  if (rotate1.iloc[i]['cond']==rotate1.iloc[i]['cor']):\n",
        "    true_count+=1\n",
        "\n",
        "print('This results belongs to :',rotate1.iloc[0]['subNum'])\n",
        "print('Length of the data is: ', len(rotate1))\n",
        "print('True response count is:',true_count)\n",
        "print('Correct response rates for \"0\" and \"1\" conditions:', (true_count/len(rotate1)))"
      ],
      "execution_count": null,
      "outputs": [
        {
          "output_type": "stream",
          "name": "stdout",
          "text": [
            "This results belongs to : Ahmetrotas\n",
            "Length of the data is:  132\n",
            "True response count is: 60\n",
            "Correct response rates for \"0\" and \"1\" conditions: 0.45454545454545453\n"
          ]
        }
      ]
    },
    {
      "cell_type": "code",
      "metadata": {
        "colab": {
          "base_uri": "https://localhost:8080/"
        },
        "id": "QypD8xQwCwAw",
        "outputId": "8bbb81df-29d4-4e2e-a253-56ad78e05c3c"
      },
      "source": [
        "# Only with test data\n",
        "true_count=0\n",
        "for i in range(len(rotate_1)):\n",
        "  if (rotate_1.iloc[i]['cond']==rotate_1.iloc[i]['cor']):\n",
        "    true_count+=1\n",
        "\n",
        "print('This results belongs to :',rotate_1.iloc[0]['subNum'])\n",
        "print('Length of the data is: ', len(rotate_1))\n",
        "print('True response count is:',true_count)\n",
        "print('Correct response rates for \"0\" and \"1\" conditions:', (true_count/len(rotate_1)))"
      ],
      "execution_count": null,
      "outputs": [
        {
          "output_type": "stream",
          "name": "stdout",
          "text": [
            "This results belongs to : Ahmetrotas\n",
            "Length of the data is:  128\n",
            "True response count is: 58\n",
            "Correct response rates for \"0\" and \"1\" conditions: 0.453125\n"
          ]
        }
      ]
    },
    {
      "cell_type": "code",
      "metadata": {
        "colab": {
          "base_uri": "https://localhost:8080/",
          "height": 204
        },
        "id": "45MZXjIrCBv1",
        "outputId": "f04069a2-de96-44cc-8392-599201a7f6de"
      },
      "source": [
        "rotate2 = pd.read_csv('rotate-p2.csv')\n",
        "rotate_2= rotate2[rotate2['type']=='TEST']\n",
        "rotate_2.head()"
      ],
      "execution_count": null,
      "outputs": [
        {
          "output_type": "execute_result",
          "data": {
            "text/html": [
              "<div>\n",
              "<style scoped>\n",
              "    .dataframe tbody tr th:only-of-type {\n",
              "        vertical-align: middle;\n",
              "    }\n",
              "\n",
              "    .dataframe tbody tr th {\n",
              "        vertical-align: top;\n",
              "    }\n",
              "\n",
              "    .dataframe thead th {\n",
              "        text-align: right;\n",
              "    }\n",
              "</style>\n",
              "<table border=\"1\" class=\"dataframe\">\n",
              "  <thead>\n",
              "    <tr style=\"text-align: right;\">\n",
              "      <th></th>\n",
              "      <th>subNum</th>\n",
              "      <th>type</th>\n",
              "      <th>trialnum</th>\n",
              "      <th>cond</th>\n",
              "      <th>stimid</th>\n",
              "      <th>rot</th>\n",
              "      <th>resp</th>\n",
              "      <th>cor</th>\n",
              "      <th>rt</th>\n",
              "    </tr>\n",
              "  </thead>\n",
              "  <tbody>\n",
              "    <tr>\n",
              "      <th>4</th>\n",
              "      <td>cengizhocarotasy</td>\n",
              "      <td>TEST</td>\n",
              "      <td>1</td>\n",
              "      <td>0</td>\n",
              "      <td>1</td>\n",
              "      <td>0</td>\n",
              "      <td>&lt;LSHIFT&gt;</td>\n",
              "      <td>1</td>\n",
              "      <td>1427</td>\n",
              "    </tr>\n",
              "    <tr>\n",
              "      <th>5</th>\n",
              "      <td>cengizhocarotasy</td>\n",
              "      <td>TEST</td>\n",
              "      <td>2</td>\n",
              "      <td>1</td>\n",
              "      <td>2</td>\n",
              "      <td>4</td>\n",
              "      <td>&lt;LSHIFT&gt;</td>\n",
              "      <td>0</td>\n",
              "      <td>2842</td>\n",
              "    </tr>\n",
              "    <tr>\n",
              "      <th>6</th>\n",
              "      <td>cengizhocarotasy</td>\n",
              "      <td>TEST</td>\n",
              "      <td>3</td>\n",
              "      <td>1</td>\n",
              "      <td>2</td>\n",
              "      <td>-2</td>\n",
              "      <td>&lt;RSHIFT&gt;</td>\n",
              "      <td>1</td>\n",
              "      <td>1704</td>\n",
              "    </tr>\n",
              "    <tr>\n",
              "      <th>7</th>\n",
              "      <td>cengizhocarotasy</td>\n",
              "      <td>TEST</td>\n",
              "      <td>4</td>\n",
              "      <td>0</td>\n",
              "      <td>2</td>\n",
              "      <td>-3</td>\n",
              "      <td>&lt;LSHIFT&gt;</td>\n",
              "      <td>1</td>\n",
              "      <td>2014</td>\n",
              "    </tr>\n",
              "    <tr>\n",
              "      <th>8</th>\n",
              "      <td>cengizhocarotasy</td>\n",
              "      <td>TEST</td>\n",
              "      <td>5</td>\n",
              "      <td>0</td>\n",
              "      <td>1</td>\n",
              "      <td>-3</td>\n",
              "      <td>&lt;LSHIFT&gt;</td>\n",
              "      <td>1</td>\n",
              "      <td>1342</td>\n",
              "    </tr>\n",
              "  </tbody>\n",
              "</table>\n",
              "</div>"
            ],
            "text/plain": [
              "             subNum  type  trialnum  cond  stimid  rot      resp  cor    rt\n",
              "4  cengizhocarotasy  TEST         1     0       1    0  <LSHIFT>    1  1427\n",
              "5  cengizhocarotasy  TEST         2     1       2    4  <LSHIFT>    0  2842\n",
              "6  cengizhocarotasy  TEST         3     1       2   -2  <RSHIFT>    1  1704\n",
              "7  cengizhocarotasy  TEST         4     0       2   -3  <LSHIFT>    1  2014\n",
              "8  cengizhocarotasy  TEST         5     0       1   -3  <LSHIFT>    1  1342"
            ]
          },
          "metadata": {},
          "execution_count": 75
        }
      ]
    },
    {
      "cell_type": "code",
      "metadata": {
        "colab": {
          "base_uri": "https://localhost:8080/"
        },
        "id": "DIstsbBjEXJU",
        "outputId": "4a3c5d86-aca9-4d36-b844-436f5430dae3"
      },
      "source": [
        "true_count=0\n",
        "for i in range(len(rotate_2)):\n",
        "  if (rotate_2.iloc[i]['cond']==rotate_2.iloc[i]['cor']):\n",
        "    true_count+=1\n",
        "\n",
        "print('This results belongs to :',rotate_2.iloc[0]['subNum'])\n",
        "print('Length of the data is: ', len(rotate_2))\n",
        "print('True response count is:',true_count)\n",
        "print('Correct response rates for \"0\" and \"1\" conditions:', (true_count/(len(rotate_2))))"
      ],
      "execution_count": null,
      "outputs": [
        {
          "output_type": "stream",
          "name": "stdout",
          "text": [
            "This results belongs to : cengizhocarotasy\n",
            "Length of the data is:  128\n",
            "True response count is: 70\n",
            "Correct response rates for \"0\" and \"1\" conditions: 0.546875\n"
          ]
        }
      ]
    },
    {
      "cell_type": "code",
      "metadata": {
        "colab": {
          "base_uri": "https://localhost:8080/",
          "height": 204
        },
        "id": "Mfkie-bqCJqO",
        "outputId": "184d0347-f3e4-4298-9a3f-d2295c8a11fe"
      },
      "source": [
        "rotate3 = pd.read_csv('rotate-p3.csv')\n",
        "rotate_3= rotate3[rotate3['type']=='TEST']\n",
        "rotate_3.head()"
      ],
      "execution_count": null,
      "outputs": [
        {
          "output_type": "execute_result",
          "data": {
            "text/html": [
              "<div>\n",
              "<style scoped>\n",
              "    .dataframe tbody tr th:only-of-type {\n",
              "        vertical-align: middle;\n",
              "    }\n",
              "\n",
              "    .dataframe tbody tr th {\n",
              "        vertical-align: top;\n",
              "    }\n",
              "\n",
              "    .dataframe thead th {\n",
              "        text-align: right;\n",
              "    }\n",
              "</style>\n",
              "<table border=\"1\" class=\"dataframe\">\n",
              "  <thead>\n",
              "    <tr style=\"text-align: right;\">\n",
              "      <th></th>\n",
              "      <th>subNum</th>\n",
              "      <th>type</th>\n",
              "      <th>trialnum</th>\n",
              "      <th>cond</th>\n",
              "      <th>stimid</th>\n",
              "      <th>rot</th>\n",
              "      <th>resp</th>\n",
              "      <th>cor</th>\n",
              "      <th>rt</th>\n",
              "    </tr>\n",
              "  </thead>\n",
              "  <tbody>\n",
              "    <tr>\n",
              "      <th>4</th>\n",
              "      <td>emiraltan2rota</td>\n",
              "      <td>TEST</td>\n",
              "      <td>1</td>\n",
              "      <td>1</td>\n",
              "      <td>1</td>\n",
              "      <td>-3</td>\n",
              "      <td>&lt;LSHIFT&gt;</td>\n",
              "      <td>0</td>\n",
              "      <td>1445</td>\n",
              "    </tr>\n",
              "    <tr>\n",
              "      <th>5</th>\n",
              "      <td>emiraltan2rota</td>\n",
              "      <td>TEST</td>\n",
              "      <td>2</td>\n",
              "      <td>0</td>\n",
              "      <td>2</td>\n",
              "      <td>3</td>\n",
              "      <td>&lt;LSHIFT&gt;</td>\n",
              "      <td>1</td>\n",
              "      <td>821</td>\n",
              "    </tr>\n",
              "    <tr>\n",
              "      <th>6</th>\n",
              "      <td>emiraltan2rota</td>\n",
              "      <td>TEST</td>\n",
              "      <td>3</td>\n",
              "      <td>0</td>\n",
              "      <td>2</td>\n",
              "      <td>1</td>\n",
              "      <td>&lt;LSHIFT&gt;</td>\n",
              "      <td>1</td>\n",
              "      <td>1028</td>\n",
              "    </tr>\n",
              "    <tr>\n",
              "      <th>7</th>\n",
              "      <td>emiraltan2rota</td>\n",
              "      <td>TEST</td>\n",
              "      <td>4</td>\n",
              "      <td>0</td>\n",
              "      <td>1</td>\n",
              "      <td>2</td>\n",
              "      <td>&lt;RSHIFT&gt;</td>\n",
              "      <td>0</td>\n",
              "      <td>1051</td>\n",
              "    </tr>\n",
              "    <tr>\n",
              "      <th>8</th>\n",
              "      <td>emiraltan2rota</td>\n",
              "      <td>TEST</td>\n",
              "      <td>5</td>\n",
              "      <td>0</td>\n",
              "      <td>1</td>\n",
              "      <td>4</td>\n",
              "      <td>&lt;LSHIFT&gt;</td>\n",
              "      <td>1</td>\n",
              "      <td>1076</td>\n",
              "    </tr>\n",
              "  </tbody>\n",
              "</table>\n",
              "</div>"
            ],
            "text/plain": [
              "           subNum  type  trialnum  cond  stimid  rot      resp  cor    rt\n",
              "4  emiraltan2rota  TEST         1     1       1   -3  <LSHIFT>    0  1445\n",
              "5  emiraltan2rota  TEST         2     0       2    3  <LSHIFT>    1   821\n",
              "6  emiraltan2rota  TEST         3     0       2    1  <LSHIFT>    1  1028\n",
              "7  emiraltan2rota  TEST         4     0       1    2  <RSHIFT>    0  1051\n",
              "8  emiraltan2rota  TEST         5     0       1    4  <LSHIFT>    1  1076"
            ]
          },
          "metadata": {},
          "execution_count": 77
        }
      ]
    },
    {
      "cell_type": "code",
      "metadata": {
        "colab": {
          "base_uri": "https://localhost:8080/"
        },
        "id": "EsLEG6pjF6xy",
        "outputId": "4211caa2-13a2-4372-bc84-34c98c5b95c6"
      },
      "source": [
        "true_count=0\n",
        "for i in range(len(rotate_3)):\n",
        "  if (rotate_3.iloc[i]['cond']==rotate_3.iloc[i]['cor']):\n",
        "    true_count+=1\n",
        "\n",
        "print('This results belongs to :',rotate_3.iloc[0]['subNum'])\n",
        "print('Length of the data is: ', len(rotate_3))\n",
        "print('True response count is:',true_count)\n",
        "print('Correct response rates for \"0\" and \"1\" conditions:', (true_count/(len(rotate_3))))"
      ],
      "execution_count": null,
      "outputs": [
        {
          "output_type": "stream",
          "name": "stdout",
          "text": [
            "This results belongs to : emiraltan2rota\n",
            "Length of the data is:  128\n",
            "True response count is: 56\n",
            "Correct response rates for \"0\" and \"1\" conditions: 0.4375\n"
          ]
        }
      ]
    },
    {
      "cell_type": "markdown",
      "metadata": {
        "id": "Tzk6U6PUV85G"
      },
      "source": [
        "# Again all process but this time with function"
      ]
    },
    {
      "cell_type": "code",
      "metadata": {
        "id": "XTgIlD5QV8K-"
      },
      "source": [
        "def response_rate(data):\n",
        "  true_count=0\n",
        "  for i in range(len(data)):\n",
        "    if (data.iloc[i]['cond']==data.iloc[i]['cor']):\n",
        "      true_count+=1\n",
        "\n",
        "  print('This results belongs to :',data.iloc[0]['subNum'])\n",
        "  print('Length of the data is: ', len(data))\n",
        "  print('True response count is:',true_count)\n",
        "  print('Correct response rates for \"0\" and \"1\" conditions:', (true_count/(len(data))))"
      ],
      "execution_count": null,
      "outputs": []
    },
    {
      "cell_type": "code",
      "metadata": {
        "colab": {
          "base_uri": "https://localhost:8080/"
        },
        "id": "_-YOk_cmWbWP",
        "outputId": "a83fb3cb-6279-4532-8690-cb2cada01c27"
      },
      "source": [
        "response_rate(rotate_1)"
      ],
      "execution_count": null,
      "outputs": [
        {
          "output_type": "stream",
          "name": "stdout",
          "text": [
            "This results belongs to : Ahmetrotas\n",
            "Length of the data is:  128\n",
            "True response count is: 58\n",
            "Correct response rates for \"0\" and \"1\" conditions: 0.453125\n"
          ]
        }
      ]
    },
    {
      "cell_type": "code",
      "metadata": {
        "colab": {
          "base_uri": "https://localhost:8080/"
        },
        "id": "5wE-zL0JcCU7",
        "outputId": "378662eb-8ebe-43e1-b82d-a758c5b6e87f"
      },
      "source": [
        "response_rate(rotate_2)"
      ],
      "execution_count": null,
      "outputs": [
        {
          "output_type": "stream",
          "name": "stdout",
          "text": [
            "This results belongs to : cengizhocarotasy\n",
            "Length of the data is:  128\n",
            "True response count is: 70\n",
            "Correct response rates for \"0\" and \"1\" conditions: 0.546875\n"
          ]
        }
      ]
    },
    {
      "cell_type": "code",
      "metadata": {
        "colab": {
          "base_uri": "https://localhost:8080/"
        },
        "id": "QYj0c2shcFpS",
        "outputId": "205e7978-8539-4d6c-bfb5-3140da715bf3"
      },
      "source": [
        "response_rate(rotate_3)"
      ],
      "execution_count": null,
      "outputs": [
        {
          "output_type": "stream",
          "name": "stdout",
          "text": [
            "This results belongs to : emiraltan2rota\n",
            "Length of the data is:  128\n",
            "True response count is: 56\n",
            "Correct response rates for \"0\" and \"1\" conditions: 0.4375\n"
          ]
        }
      ]
    },
    {
      "cell_type": "markdown",
      "metadata": {
        "id": "m_wwZnJYNdnx"
      },
      "source": [
        "\n",
        "Calculate the correct response rates for \"0\" and \"1\" conditions.\n",
        "---\n",
        "\n"
      ]
    },
    {
      "cell_type": "code",
      "metadata": {
        "colab": {
          "base_uri": "https://localhost:8080/"
        },
        "id": "sViemvGCN41B",
        "outputId": "736fc0e3-be9e-4466-aaa2-3af2349e43b4"
      },
      "source": [
        "rotate_1.info()"
      ],
      "execution_count": null,
      "outputs": [
        {
          "output_type": "stream",
          "name": "stdout",
          "text": [
            "<class 'pandas.core.frame.DataFrame'>\n",
            "Int64Index: 128 entries, 4 to 131\n",
            "Data columns (total 9 columns):\n",
            " #   Column    Non-Null Count  Dtype \n",
            "---  ------    --------------  ----- \n",
            " 0   subNum    128 non-null    object\n",
            " 1   type      128 non-null    object\n",
            " 2   trialnum  128 non-null    int64 \n",
            " 3   cond      128 non-null    int64 \n",
            " 4   stimid    128 non-null    int64 \n",
            " 5   rot       128 non-null    int64 \n",
            " 6   resp      128 non-null    object\n",
            " 7   cor       128 non-null    int64 \n",
            " 8   rt        128 non-null    int64 \n",
            "dtypes: int64(6), object(3)\n",
            "memory usage: 10.0+ KB\n"
          ]
        }
      ]
    },
    {
      "cell_type": "code",
      "metadata": {
        "id": "LeLy3skEF_2d",
        "colab": {
          "base_uri": "https://localhost:8080/",
          "height": 204
        },
        "outputId": "eda5af8b-42a0-41fb-9698-8b6f2fa1044f"
      },
      "source": [
        "rotate_1.head()"
      ],
      "execution_count": null,
      "outputs": [
        {
          "output_type": "execute_result",
          "data": {
            "text/html": [
              "<div>\n",
              "<style scoped>\n",
              "    .dataframe tbody tr th:only-of-type {\n",
              "        vertical-align: middle;\n",
              "    }\n",
              "\n",
              "    .dataframe tbody tr th {\n",
              "        vertical-align: top;\n",
              "    }\n",
              "\n",
              "    .dataframe thead th {\n",
              "        text-align: right;\n",
              "    }\n",
              "</style>\n",
              "<table border=\"1\" class=\"dataframe\">\n",
              "  <thead>\n",
              "    <tr style=\"text-align: right;\">\n",
              "      <th></th>\n",
              "      <th>subNum</th>\n",
              "      <th>type</th>\n",
              "      <th>trialnum</th>\n",
              "      <th>cond</th>\n",
              "      <th>stimid</th>\n",
              "      <th>rot</th>\n",
              "      <th>resp</th>\n",
              "      <th>cor</th>\n",
              "      <th>rt</th>\n",
              "    </tr>\n",
              "  </thead>\n",
              "  <tbody>\n",
              "    <tr>\n",
              "      <th>4</th>\n",
              "      <td>Ahmetrotas</td>\n",
              "      <td>TEST</td>\n",
              "      <td>1</td>\n",
              "      <td>0</td>\n",
              "      <td>2</td>\n",
              "      <td>2</td>\n",
              "      <td>&lt;LSHIFT&gt;</td>\n",
              "      <td>1</td>\n",
              "      <td>1336</td>\n",
              "    </tr>\n",
              "    <tr>\n",
              "      <th>5</th>\n",
              "      <td>Ahmetrotas</td>\n",
              "      <td>TEST</td>\n",
              "      <td>2</td>\n",
              "      <td>0</td>\n",
              "      <td>1</td>\n",
              "      <td>2</td>\n",
              "      <td>&lt;RSHIFT&gt;</td>\n",
              "      <td>0</td>\n",
              "      <td>1819</td>\n",
              "    </tr>\n",
              "    <tr>\n",
              "      <th>6</th>\n",
              "      <td>Ahmetrotas</td>\n",
              "      <td>TEST</td>\n",
              "      <td>3</td>\n",
              "      <td>1</td>\n",
              "      <td>1</td>\n",
              "      <td>-1</td>\n",
              "      <td>&lt;LSHIFT&gt;</td>\n",
              "      <td>0</td>\n",
              "      <td>1274</td>\n",
              "    </tr>\n",
              "    <tr>\n",
              "      <th>7</th>\n",
              "      <td>Ahmetrotas</td>\n",
              "      <td>TEST</td>\n",
              "      <td>4</td>\n",
              "      <td>1</td>\n",
              "      <td>2</td>\n",
              "      <td>4</td>\n",
              "      <td>&lt;RSHIFT&gt;</td>\n",
              "      <td>1</td>\n",
              "      <td>1040</td>\n",
              "    </tr>\n",
              "    <tr>\n",
              "      <th>8</th>\n",
              "      <td>Ahmetrotas</td>\n",
              "      <td>TEST</td>\n",
              "      <td>5</td>\n",
              "      <td>0</td>\n",
              "      <td>2</td>\n",
              "      <td>0</td>\n",
              "      <td>&lt;LSHIFT&gt;</td>\n",
              "      <td>1</td>\n",
              "      <td>1086</td>\n",
              "    </tr>\n",
              "  </tbody>\n",
              "</table>\n",
              "</div>"
            ],
            "text/plain": [
              "       subNum  type  trialnum  cond  stimid  rot      resp  cor    rt\n",
              "4  Ahmetrotas  TEST         1     0       2    2  <LSHIFT>    1  1336\n",
              "5  Ahmetrotas  TEST         2     0       1    2  <RSHIFT>    0  1819\n",
              "6  Ahmetrotas  TEST         3     1       1   -1  <LSHIFT>    0  1274\n",
              "7  Ahmetrotas  TEST         4     1       2    4  <RSHIFT>    1  1040\n",
              "8  Ahmetrotas  TEST         5     0       2    0  <LSHIFT>    1  1086"
            ]
          },
          "metadata": {},
          "execution_count": 84
        }
      ]
    },
    {
      "cell_type": "code",
      "metadata": {
        "colab": {
          "base_uri": "https://localhost:8080/"
        },
        "id": "tb2YixDuNgUy",
        "outputId": "a7f5e66b-8543-4f10-8717-9932e66f7aa4"
      },
      "source": [
        "# This is correct response rates for the first participant  Ahmet\n",
        "cond_0_count = 0 # condition 0 count\n",
        "cond_1_count = 0 # condition 1 count \n",
        "for i in range(len(rotate_1)):\n",
        "  if (rotate_1.iloc[i]['cond']==0):                         # when condition is equal to zero it enters the if statement\n",
        "    if (rotate_1.iloc[i]['cond']==rotate_1.iloc[i]['cor']): #  if cor value is equal to cond value cond_0_count increases\n",
        "      cond_0_count+=1\n",
        "  else:\n",
        "    if(rotate_1.iloc[i]['cond']==rotate_1.iloc[i]['cor']):  # similar process above\n",
        "      cond_1_count+=1\n",
        "\n",
        "print('Condition 0 true count is:', cond_0_count)\n",
        "print('Correct response rates for \"0\" condition is:', cond_0_count/len(rotate_1[rotate_1['cond']==0])) # here true count is divided by len of rotate_1[rotate_1['cond']==0\n",
        "print('Condition 1 true count is:', cond_1_count)\n",
        "print('Correct response rates for \"1\" condition is:', cond_1_count/len(rotate_1[rotate_1['cond']==1]))\n"
      ],
      "execution_count": null,
      "outputs": [
        {
          "output_type": "stream",
          "name": "stdout",
          "text": [
            "Condition 0 true count is: 29\n",
            "Correct response rates for \"0\" condition is: 0.453125\n",
            "Condition 1 true count is: 29\n",
            "Correct response rates for \"1\" condition is: 0.453125\n"
          ]
        }
      ]
    },
    {
      "cell_type": "code",
      "metadata": {
        "colab": {
          "base_uri": "https://localhost:8080/",
          "height": 204
        },
        "id": "CXQW4W4LRUDb",
        "outputId": "b2770ebc-95b7-4dd8-a536-6b0e64667eeb"
      },
      "source": [
        "rotate_2.head()"
      ],
      "execution_count": null,
      "outputs": [
        {
          "output_type": "execute_result",
          "data": {
            "text/html": [
              "<div>\n",
              "<style scoped>\n",
              "    .dataframe tbody tr th:only-of-type {\n",
              "        vertical-align: middle;\n",
              "    }\n",
              "\n",
              "    .dataframe tbody tr th {\n",
              "        vertical-align: top;\n",
              "    }\n",
              "\n",
              "    .dataframe thead th {\n",
              "        text-align: right;\n",
              "    }\n",
              "</style>\n",
              "<table border=\"1\" class=\"dataframe\">\n",
              "  <thead>\n",
              "    <tr style=\"text-align: right;\">\n",
              "      <th></th>\n",
              "      <th>subNum</th>\n",
              "      <th>type</th>\n",
              "      <th>trialnum</th>\n",
              "      <th>cond</th>\n",
              "      <th>stimid</th>\n",
              "      <th>rot</th>\n",
              "      <th>resp</th>\n",
              "      <th>cor</th>\n",
              "      <th>rt</th>\n",
              "    </tr>\n",
              "  </thead>\n",
              "  <tbody>\n",
              "    <tr>\n",
              "      <th>4</th>\n",
              "      <td>cengizhocarotasy</td>\n",
              "      <td>TEST</td>\n",
              "      <td>1</td>\n",
              "      <td>0</td>\n",
              "      <td>1</td>\n",
              "      <td>0</td>\n",
              "      <td>&lt;LSHIFT&gt;</td>\n",
              "      <td>1</td>\n",
              "      <td>1427</td>\n",
              "    </tr>\n",
              "    <tr>\n",
              "      <th>5</th>\n",
              "      <td>cengizhocarotasy</td>\n",
              "      <td>TEST</td>\n",
              "      <td>2</td>\n",
              "      <td>1</td>\n",
              "      <td>2</td>\n",
              "      <td>4</td>\n",
              "      <td>&lt;LSHIFT&gt;</td>\n",
              "      <td>0</td>\n",
              "      <td>2842</td>\n",
              "    </tr>\n",
              "    <tr>\n",
              "      <th>6</th>\n",
              "      <td>cengizhocarotasy</td>\n",
              "      <td>TEST</td>\n",
              "      <td>3</td>\n",
              "      <td>1</td>\n",
              "      <td>2</td>\n",
              "      <td>-2</td>\n",
              "      <td>&lt;RSHIFT&gt;</td>\n",
              "      <td>1</td>\n",
              "      <td>1704</td>\n",
              "    </tr>\n",
              "    <tr>\n",
              "      <th>7</th>\n",
              "      <td>cengizhocarotasy</td>\n",
              "      <td>TEST</td>\n",
              "      <td>4</td>\n",
              "      <td>0</td>\n",
              "      <td>2</td>\n",
              "      <td>-3</td>\n",
              "      <td>&lt;LSHIFT&gt;</td>\n",
              "      <td>1</td>\n",
              "      <td>2014</td>\n",
              "    </tr>\n",
              "    <tr>\n",
              "      <th>8</th>\n",
              "      <td>cengizhocarotasy</td>\n",
              "      <td>TEST</td>\n",
              "      <td>5</td>\n",
              "      <td>0</td>\n",
              "      <td>1</td>\n",
              "      <td>-3</td>\n",
              "      <td>&lt;LSHIFT&gt;</td>\n",
              "      <td>1</td>\n",
              "      <td>1342</td>\n",
              "    </tr>\n",
              "  </tbody>\n",
              "</table>\n",
              "</div>"
            ],
            "text/plain": [
              "             subNum  type  trialnum  cond  stimid  rot      resp  cor    rt\n",
              "4  cengizhocarotasy  TEST         1     0       1    0  <LSHIFT>    1  1427\n",
              "5  cengizhocarotasy  TEST         2     1       2    4  <LSHIFT>    0  2842\n",
              "6  cengizhocarotasy  TEST         3     1       2   -2  <RSHIFT>    1  1704\n",
              "7  cengizhocarotasy  TEST         4     0       2   -3  <LSHIFT>    1  2014\n",
              "8  cengizhocarotasy  TEST         5     0       1   -3  <LSHIFT>    1  1342"
            ]
          },
          "metadata": {},
          "execution_count": 86
        }
      ]
    },
    {
      "cell_type": "code",
      "metadata": {
        "colab": {
          "base_uri": "https://localhost:8080/"
        },
        "id": "f86UDTAGPUod",
        "outputId": "d68da442-30e8-4bdb-95f9-9eabeb425d13"
      },
      "source": [
        "# This is correct response rates for the first participant  Cengiz Hoca\n",
        "cond_0_count = 0 # condition 0 count\n",
        "cond_1_count = 0 # condition 1 count \n",
        "for i in range(len(rotate_2)):\n",
        "  if (rotate_2.iloc[i]['cond']==0):                         # when condition is equal to zero it enters the if statement\n",
        "    if (rotate_2.iloc[i]['cond']==rotate_2.iloc[i]['cor']): #  if cor value is equal to cond value cond_0_count increases\n",
        "      cond_0_count+=1\n",
        "  else:\n",
        "    if(rotate_2.iloc[i]['cond']==rotate_2.iloc[i]['cor']):  # similar process above\n",
        "      cond_1_count+=1\n",
        "\n",
        "print('Condition 0 true count is:', cond_0_count)\n",
        "print('Correct response rates for \"0\" condition is:', cond_0_count/len(rotate_2[rotate_2['cond']==0])) # here true count is divided by len of rotate_1[rotate_1['cond']==0\n",
        "print('Condition 1 true count is:', cond_1_count)\n",
        "print('Correct response rates for \"1\" condition is:', cond_1_count/len(rotate_2[rotate_2['cond']==1]))\n"
      ],
      "execution_count": null,
      "outputs": [
        {
          "output_type": "stream",
          "name": "stdout",
          "text": [
            "Condition 0 true count is: 32\n",
            "Correct response rates for \"0\" condition is: 0.5\n",
            "Condition 1 true count is: 38\n",
            "Correct response rates for \"1\" condition is: 0.59375\n"
          ]
        }
      ]
    },
    {
      "cell_type": "code",
      "metadata": {
        "colab": {
          "base_uri": "https://localhost:8080/",
          "height": 204
        },
        "id": "QjYyBErcRzQn",
        "outputId": "606261e8-3115-4399-a3c5-059f0021482e"
      },
      "source": [
        "rotate_3.head()"
      ],
      "execution_count": null,
      "outputs": [
        {
          "output_type": "execute_result",
          "data": {
            "text/html": [
              "<div>\n",
              "<style scoped>\n",
              "    .dataframe tbody tr th:only-of-type {\n",
              "        vertical-align: middle;\n",
              "    }\n",
              "\n",
              "    .dataframe tbody tr th {\n",
              "        vertical-align: top;\n",
              "    }\n",
              "\n",
              "    .dataframe thead th {\n",
              "        text-align: right;\n",
              "    }\n",
              "</style>\n",
              "<table border=\"1\" class=\"dataframe\">\n",
              "  <thead>\n",
              "    <tr style=\"text-align: right;\">\n",
              "      <th></th>\n",
              "      <th>subNum</th>\n",
              "      <th>type</th>\n",
              "      <th>trialnum</th>\n",
              "      <th>cond</th>\n",
              "      <th>stimid</th>\n",
              "      <th>rot</th>\n",
              "      <th>resp</th>\n",
              "      <th>cor</th>\n",
              "      <th>rt</th>\n",
              "    </tr>\n",
              "  </thead>\n",
              "  <tbody>\n",
              "    <tr>\n",
              "      <th>4</th>\n",
              "      <td>emiraltan2rota</td>\n",
              "      <td>TEST</td>\n",
              "      <td>1</td>\n",
              "      <td>1</td>\n",
              "      <td>1</td>\n",
              "      <td>-3</td>\n",
              "      <td>&lt;LSHIFT&gt;</td>\n",
              "      <td>0</td>\n",
              "      <td>1445</td>\n",
              "    </tr>\n",
              "    <tr>\n",
              "      <th>5</th>\n",
              "      <td>emiraltan2rota</td>\n",
              "      <td>TEST</td>\n",
              "      <td>2</td>\n",
              "      <td>0</td>\n",
              "      <td>2</td>\n",
              "      <td>3</td>\n",
              "      <td>&lt;LSHIFT&gt;</td>\n",
              "      <td>1</td>\n",
              "      <td>821</td>\n",
              "    </tr>\n",
              "    <tr>\n",
              "      <th>6</th>\n",
              "      <td>emiraltan2rota</td>\n",
              "      <td>TEST</td>\n",
              "      <td>3</td>\n",
              "      <td>0</td>\n",
              "      <td>2</td>\n",
              "      <td>1</td>\n",
              "      <td>&lt;LSHIFT&gt;</td>\n",
              "      <td>1</td>\n",
              "      <td>1028</td>\n",
              "    </tr>\n",
              "    <tr>\n",
              "      <th>7</th>\n",
              "      <td>emiraltan2rota</td>\n",
              "      <td>TEST</td>\n",
              "      <td>4</td>\n",
              "      <td>0</td>\n",
              "      <td>1</td>\n",
              "      <td>2</td>\n",
              "      <td>&lt;RSHIFT&gt;</td>\n",
              "      <td>0</td>\n",
              "      <td>1051</td>\n",
              "    </tr>\n",
              "    <tr>\n",
              "      <th>8</th>\n",
              "      <td>emiraltan2rota</td>\n",
              "      <td>TEST</td>\n",
              "      <td>5</td>\n",
              "      <td>0</td>\n",
              "      <td>1</td>\n",
              "      <td>4</td>\n",
              "      <td>&lt;LSHIFT&gt;</td>\n",
              "      <td>1</td>\n",
              "      <td>1076</td>\n",
              "    </tr>\n",
              "  </tbody>\n",
              "</table>\n",
              "</div>"
            ],
            "text/plain": [
              "           subNum  type  trialnum  cond  stimid  rot      resp  cor    rt\n",
              "4  emiraltan2rota  TEST         1     1       1   -3  <LSHIFT>    0  1445\n",
              "5  emiraltan2rota  TEST         2     0       2    3  <LSHIFT>    1   821\n",
              "6  emiraltan2rota  TEST         3     0       2    1  <LSHIFT>    1  1028\n",
              "7  emiraltan2rota  TEST         4     0       1    2  <RSHIFT>    0  1051\n",
              "8  emiraltan2rota  TEST         5     0       1    4  <LSHIFT>    1  1076"
            ]
          },
          "metadata": {},
          "execution_count": 88
        }
      ]
    },
    {
      "cell_type": "code",
      "metadata": {
        "colab": {
          "base_uri": "https://localhost:8080/"
        },
        "id": "axJeFaPDR0jT",
        "outputId": "7069f1ba-7e92-4351-da57-bca820edb9be"
      },
      "source": [
        "# This is correct response rates for the first participant  Emir altan\n",
        "cond_0_count = 0 # condition 0 count\n",
        "cond_1_count = 0 # condition 1 count \n",
        "for i in range(len(rotate_3)):\n",
        "  if (rotate_3.iloc[i]['cond']==0):                         # when condition is equal to zero it enters the if statement\n",
        "    if (rotate_3.iloc[i]['cond']==rotate_3.iloc[i]['cor']): #  if cor value is equal to cond value cond_0_count increases\n",
        "      cond_0_count+=1\n",
        "  else:\n",
        "    if(rotate_3.iloc[i]['cond']==rotate_3.iloc[i]['cor']):  # similar process above\n",
        "      cond_1_count+=1\n",
        "\n",
        "print('Condition 0 true count is:', cond_0_count)\n",
        "print('Correct response rates for \"0\" condition is:', cond_0_count/len(rotate_3[rotate_3['cond']==0])) # here true count is divided by len of rotate_1[rotate_1['cond']==0\n",
        "print('Condition 1 true count is:', cond_1_count)\n",
        "print('Correct response rates for \"1\" condition is:', cond_1_count/len(rotate_3[rotate_3['cond']==1]))"
      ],
      "execution_count": null,
      "outputs": [
        {
          "output_type": "stream",
          "name": "stdout",
          "text": [
            "Condition 0 true count is: 26\n",
            "Correct response rates for \"0\" condition is: 0.40625\n",
            "Condition 1 true count is: 30\n",
            "Correct response rates for \"1\" condition is: 0.46875\n"
          ]
        }
      ]
    },
    {
      "cell_type": "markdown",
      "metadata": {
        "id": "dywJNF0SVB_i"
      },
      "source": [
        "# !!! I lost a lot of time because I did not write functionally, I rewrote the operations I did above in the function. "
      ]
    },
    {
      "cell_type": "code",
      "metadata": {
        "id": "ApCx42Y0Sayj"
      },
      "source": [
        "def correct_rate(df):  # This is correct response rates function\n",
        "  cond_0_count = 0 # condition 0 count\n",
        "  cond_1_count = 0 # condition 1 count \n",
        "  for i in range(len(df)):\n",
        "    if (df.iloc[i]['cond']==0): # when condition is equal to zero it enters the if statement\n",
        "      if (df.iloc[i]['cond']==df.iloc[i]['cor']): #  if cor value is equal to cond value cond_0_count increases\n",
        "        cond_0_count+=1\n",
        "    else:\n",
        "      if(df.iloc[i]['cond']==df.iloc[i]['cor']):  # similar process above\n",
        "        cond_1_count+=1\n",
        "\n",
        "  print('Condition 0 true count is:', cond_0_count)\n",
        "  print('Correct response rates for \"0\" condition is:', cond_0_count/len(df[df['cond']==0]))  \n",
        "  print('Condition 1 true count is:', cond_1_count)\n",
        "  print('Correct response rates for \"1\" condition is:', cond_1_count/len(df[df['cond']==1]))"
      ],
      "execution_count": null,
      "outputs": []
    },
    {
      "cell_type": "code",
      "metadata": {
        "colab": {
          "base_uri": "https://localhost:8080/"
        },
        "id": "HBJ-ZD4qTWoI",
        "outputId": "bc731c05-082c-4aa7-96da-e3d7282ae76f"
      },
      "source": [
        "correct_rate(rotate_1) #This is correct response rates for the first participant  Ahmet"
      ],
      "execution_count": null,
      "outputs": [
        {
          "output_type": "stream",
          "name": "stdout",
          "text": [
            "Condition 0 true count is: 29\n",
            "Correct response rates for \"0\" condition is: 0.453125\n",
            "Condition 1 true count is: 29\n",
            "Correct response rates for \"1\" condition is: 0.453125\n"
          ]
        }
      ]
    },
    {
      "cell_type": "code",
      "metadata": {
        "colab": {
          "base_uri": "https://localhost:8080/"
        },
        "id": "FQVBKj52Uwi_",
        "outputId": "7a68fc39-9091-49ce-a6b6-27fb6c087813"
      },
      "source": [
        "correct_rate(rotate_2) # This is correct response rates for the first participant  Cengiz Hoca"
      ],
      "execution_count": null,
      "outputs": [
        {
          "output_type": "stream",
          "name": "stdout",
          "text": [
            "Condition 0 true count is: 32\n",
            "Correct response rates for \"0\" condition is: 0.5\n",
            "Condition 1 true count is: 38\n",
            "Correct response rates for \"1\" condition is: 0.59375\n"
          ]
        }
      ]
    },
    {
      "cell_type": "code",
      "metadata": {
        "colab": {
          "base_uri": "https://localhost:8080/"
        },
        "id": "YEW7boiSUxeT",
        "outputId": "e80cd9ea-3809-467f-9c63-7135af8e2415"
      },
      "source": [
        "correct_rate(rotate_3) # This is correct response rates for the first participant  Emir altan"
      ],
      "execution_count": null,
      "outputs": [
        {
          "output_type": "stream",
          "name": "stdout",
          "text": [
            "Condition 0 true count is: 26\n",
            "Correct response rates for \"0\" condition is: 0.40625\n",
            "Condition 1 true count is: 30\n",
            "Correct response rates for \"1\" condition is: 0.46875\n"
          ]
        }
      ]
    },
    {
      "cell_type": "markdown",
      "metadata": {
        "id": "QMzoo9hEVzr2"
      },
      "source": [
        "# Calculate the mean value."
      ]
    },
    {
      "cell_type": "code",
      "metadata": {
        "colab": {
          "base_uri": "https://localhost:8080/"
        },
        "id": "qPvUz7gqguGM",
        "outputId": "ebba79b3-4436-4fe3-b6f8-b3726f69b941"
      },
      "source": [
        "rotate_1['rt'].mean()"
      ],
      "execution_count": null,
      "outputs": [
        {
          "output_type": "execute_result",
          "data": {
            "text/plain": [
              "1887.6015625"
            ]
          },
          "metadata": {},
          "execution_count": 94
        }
      ]
    },
    {
      "cell_type": "code",
      "metadata": {
        "colab": {
          "base_uri": "https://localhost:8080/"
        },
        "id": "Xrv0Ia1Ig5yq",
        "outputId": "7ce20771-e939-4ff1-dc90-26ae6899a2b4"
      },
      "source": [
        "rotate_2['rt'].mean()"
      ],
      "execution_count": null,
      "outputs": [
        {
          "output_type": "execute_result",
          "data": {
            "text/plain": [
              "1542.65625"
            ]
          },
          "metadata": {},
          "execution_count": 95
        }
      ]
    },
    {
      "cell_type": "code",
      "metadata": {
        "colab": {
          "base_uri": "https://localhost:8080/"
        },
        "id": "P9x7wnIwg5qs",
        "outputId": "183fe4d2-8b51-4c07-f61a-c09e0a9f2e14"
      },
      "source": [
        "rotate_3['rt'].mean()"
      ],
      "execution_count": null,
      "outputs": [
        {
          "output_type": "execute_result",
          "data": {
            "text/plain": [
              "980.734375"
            ]
          },
          "metadata": {},
          "execution_count": 96
        }
      ]
    },
    {
      "cell_type": "markdown",
      "metadata": {
        "id": "goR4-eemcNQa"
      },
      "source": [
        "# Calculate the mean values for \"0\" and \"1\" conditions."
      ]
    },
    {
      "cell_type": "code",
      "metadata": {
        "colab": {
          "base_uri": "https://localhost:8080/"
        },
        "id": "oDB8OBHoU2Wo",
        "outputId": "4000ad6f-b6d3-4e77-8af7-f536ae6f31ea"
      },
      "source": [
        "rotate_1[rotate_1['cond']==0]['rt'].mean()"
      ],
      "execution_count": null,
      "outputs": [
        {
          "output_type": "execute_result",
          "data": {
            "text/plain": [
              "1875.96875"
            ]
          },
          "metadata": {},
          "execution_count": 97
        }
      ]
    },
    {
      "cell_type": "code",
      "metadata": {
        "colab": {
          "base_uri": "https://localhost:8080/"
        },
        "id": "pdV-y8v2crrB",
        "outputId": "98550c58-54c9-4822-c4b6-fe95faca74e1"
      },
      "source": [
        "rotate_1[rotate_1['cond']==1]['rt'].mean()"
      ],
      "execution_count": null,
      "outputs": [
        {
          "output_type": "execute_result",
          "data": {
            "text/plain": [
              "1899.234375"
            ]
          },
          "metadata": {},
          "execution_count": 98
        }
      ]
    },
    {
      "cell_type": "code",
      "metadata": {
        "colab": {
          "base_uri": "https://localhost:8080/"
        },
        "id": "xBSwLttRhLLN",
        "outputId": "7361d74a-5598-433e-e6ee-b8c3f1c45a39"
      },
      "source": [
        "rotate_2[rotate_2['cond']==0]['rt'].mean()"
      ],
      "execution_count": null,
      "outputs": [
        {
          "output_type": "execute_result",
          "data": {
            "text/plain": [
              "1544.3125"
            ]
          },
          "metadata": {},
          "execution_count": 99
        }
      ]
    },
    {
      "cell_type": "code",
      "metadata": {
        "colab": {
          "base_uri": "https://localhost:8080/"
        },
        "id": "L5saYd_chLEZ",
        "outputId": "97fb82ed-c759-4836-afe2-e1a1e0a9437d"
      },
      "source": [
        "rotate_2[rotate_2['cond']==1]['rt'].mean()"
      ],
      "execution_count": null,
      "outputs": [
        {
          "output_type": "execute_result",
          "data": {
            "text/plain": [
              "1541.0"
            ]
          },
          "metadata": {},
          "execution_count": 100
        }
      ]
    },
    {
      "cell_type": "code",
      "metadata": {
        "colab": {
          "base_uri": "https://localhost:8080/"
        },
        "id": "zaSi4mLehVLi",
        "outputId": "23de7a50-a369-4c9a-bb5e-1808dbc34c93"
      },
      "source": [
        "rotate_3[rotate_3['cond']==0]['rt'].mean()"
      ],
      "execution_count": null,
      "outputs": [
        {
          "output_type": "execute_result",
          "data": {
            "text/plain": [
              "940.578125"
            ]
          },
          "metadata": {},
          "execution_count": 101
        }
      ]
    },
    {
      "cell_type": "code",
      "metadata": {
        "colab": {
          "base_uri": "https://localhost:8080/"
        },
        "id": "fjnWqgMvhXlY",
        "outputId": "65049c1e-c3f3-4431-d184-6751be904fd4"
      },
      "source": [
        "rotate_3[rotate_3['cond']==1]['rt'].mean()"
      ],
      "execution_count": null,
      "outputs": [
        {
          "output_type": "execute_result",
          "data": {
            "text/plain": [
              "1020.890625"
            ]
          },
          "metadata": {},
          "execution_count": 102
        }
      ]
    },
    {
      "cell_type": "markdown",
      "metadata": {
        "id": "7-FUvQCbmc-K"
      },
      "source": [
        "# PART C\n",
        "1. Merge the dataframes from Part A (df1) and Part B (df2).\n",
        "2. Calculate the all descriptive (mean, median, max, min, std) for all columns in a separate\n",
        "dataframe.\n",
        "3. Extract these dataframes as csv and excel files.\n",
        "4. Make this process automated. This means the code should run from one end to the other\n",
        "without any intervention."
      ]
    },
    {
      "cell_type": "markdown",
      "metadata": {
        "id": "E2OOK3YeaEuA"
      },
      "source": [
        "In part A, we have patcomp1, patcomp2 and patcomp3 data\n",
        "\n",
        "I will merge these three data, let's say to it df1"
      ]
    },
    {
      "cell_type": "code",
      "metadata": {
        "id": "a9LV2rmhaPDX"
      },
      "source": [
        "frames = [patcomp1, patcomp2, patcomp3]\n",
        "\n",
        "df1 = pd.concat(frames)"
      ],
      "execution_count": null,
      "outputs": []
    },
    {
      "cell_type": "code",
      "metadata": {
        "colab": {
          "base_uri": "https://localhost:8080/",
          "height": 419
        },
        "id": "gKcPEZfAaYJX",
        "outputId": "623fce08-a947-4e29-816e-d62e6cc603bf"
      },
      "source": [
        "df1 # we have 180 rows, there is exactly 60 rows in every patcomp data"
      ],
      "execution_count": null,
      "outputs": [
        {
          "output_type": "execute_result",
          "data": {
            "text/html": [
              "<div>\n",
              "<style scoped>\n",
              "    .dataframe tbody tr th:only-of-type {\n",
              "        vertical-align: middle;\n",
              "    }\n",
              "\n",
              "    .dataframe tbody tr th {\n",
              "        vertical-align: top;\n",
              "    }\n",
              "\n",
              "    .dataframe thead th {\n",
              "        text-align: right;\n",
              "    }\n",
              "</style>\n",
              "<table border=\"1\" class=\"dataframe\">\n",
              "  <thead>\n",
              "    <tr style=\"text-align: right;\">\n",
              "      <th></th>\n",
              "      <th>subnum</th>\n",
              "      <th>trial</th>\n",
              "      <th>samediff</th>\n",
              "      <th>mat1</th>\n",
              "      <th>mat2</th>\n",
              "      <th>abstime</th>\n",
              "      <th>rt</th>\n",
              "      <th>resp</th>\n",
              "      <th>corr</th>\n",
              "    </tr>\n",
              "  </thead>\n",
              "  <tbody>\n",
              "    <tr>\n",
              "      <th>0</th>\n",
              "      <td>Ahmetpattern</td>\n",
              "      <td>1</td>\n",
              "      <td>same</td>\n",
              "      <td>1.000000e+13</td>\n",
              "      <td>1.000000e+13</td>\n",
              "      <td>43367</td>\n",
              "      <td>1991</td>\n",
              "      <td>&lt;rshift&gt;</td>\n",
              "      <td>0</td>\n",
              "    </tr>\n",
              "    <tr>\n",
              "      <th>1</th>\n",
              "      <td>Ahmetpattern</td>\n",
              "      <td>2</td>\n",
              "      <td>same</td>\n",
              "      <td>1.010000e+14</td>\n",
              "      <td>1.010000e+14</td>\n",
              "      <td>45813</td>\n",
              "      <td>932</td>\n",
              "      <td>&lt;lshift&gt;</td>\n",
              "      <td>1</td>\n",
              "    </tr>\n",
              "    <tr>\n",
              "      <th>2</th>\n",
              "      <td>Ahmetpattern</td>\n",
              "      <td>3</td>\n",
              "      <td>same</td>\n",
              "      <td>1.100000e+14</td>\n",
              "      <td>1.100000e+14</td>\n",
              "      <td>47197</td>\n",
              "      <td>1215</td>\n",
              "      <td>&lt;lshift&gt;</td>\n",
              "      <td>1</td>\n",
              "    </tr>\n",
              "    <tr>\n",
              "      <th>3</th>\n",
              "      <td>Ahmetpattern</td>\n",
              "      <td>4</td>\n",
              "      <td>same</td>\n",
              "      <td>1.010000e+14</td>\n",
              "      <td>1.010000e+14</td>\n",
              "      <td>48865</td>\n",
              "      <td>1090</td>\n",
              "      <td>&lt;lshift&gt;</td>\n",
              "      <td>1</td>\n",
              "    </tr>\n",
              "    <tr>\n",
              "      <th>4</th>\n",
              "      <td>Ahmetpattern</td>\n",
              "      <td>5</td>\n",
              "      <td>diff</td>\n",
              "      <td>1.000000e+14</td>\n",
              "      <td>1.010000e+12</td>\n",
              "      <td>50394</td>\n",
              "      <td>1056</td>\n",
              "      <td>&lt;rshift&gt;</td>\n",
              "      <td>1</td>\n",
              "    </tr>\n",
              "    <tr>\n",
              "      <th>...</th>\n",
              "      <td>...</td>\n",
              "      <td>...</td>\n",
              "      <td>...</td>\n",
              "      <td>...</td>\n",
              "      <td>...</td>\n",
              "      <td>...</td>\n",
              "      <td>...</td>\n",
              "      <td>...</td>\n",
              "      <td>...</td>\n",
              "    </tr>\n",
              "    <tr>\n",
              "      <th>55</th>\n",
              "      <td>emiraltan2pattern</td>\n",
              "      <td>56</td>\n",
              "      <td>diff</td>\n",
              "      <td>1.101010e+14</td>\n",
              "      <td>1.010111e+15</td>\n",
              "      <td>80534</td>\n",
              "      <td>786</td>\n",
              "      <td>&lt;rshift&gt;</td>\n",
              "      <td>1</td>\n",
              "    </tr>\n",
              "    <tr>\n",
              "      <th>56</th>\n",
              "      <td>emiraltan2pattern</td>\n",
              "      <td>57</td>\n",
              "      <td>same</td>\n",
              "      <td>1.110100e+13</td>\n",
              "      <td>1.110100e+13</td>\n",
              "      <td>81760</td>\n",
              "      <td>1080</td>\n",
              "      <td>&lt;lshift&gt;</td>\n",
              "      <td>1</td>\n",
              "    </tr>\n",
              "    <tr>\n",
              "      <th>57</th>\n",
              "      <td>emiraltan2pattern</td>\n",
              "      <td>58</td>\n",
              "      <td>same</td>\n",
              "      <td>1.001101e+14</td>\n",
              "      <td>1.001101e+14</td>\n",
              "      <td>83288</td>\n",
              "      <td>1177</td>\n",
              "      <td>&lt;rshift&gt;</td>\n",
              "      <td>0</td>\n",
              "    </tr>\n",
              "    <tr>\n",
              "      <th>58</th>\n",
              "      <td>emiraltan2pattern</td>\n",
              "      <td>59</td>\n",
              "      <td>diff</td>\n",
              "      <td>1.110110e+10</td>\n",
              "      <td>1.010011e+15</td>\n",
              "      <td>84915</td>\n",
              "      <td>945</td>\n",
              "      <td>&lt;rshift&gt;</td>\n",
              "      <td>1</td>\n",
              "    </tr>\n",
              "    <tr>\n",
              "      <th>59</th>\n",
              "      <td>emiraltan2pattern</td>\n",
              "      <td>60</td>\n",
              "      <td>same</td>\n",
              "      <td>1.101100e+15</td>\n",
              "      <td>1.101100e+15</td>\n",
              "      <td>86314</td>\n",
              "      <td>945</td>\n",
              "      <td>&lt;lshift&gt;</td>\n",
              "      <td>1</td>\n",
              "    </tr>\n",
              "  </tbody>\n",
              "</table>\n",
              "<p>180 rows × 9 columns</p>\n",
              "</div>"
            ],
            "text/plain": [
              "               subnum  trial samediff  ...    rt      resp  corr\n",
              "0        Ahmetpattern      1     same  ...  1991  <rshift>     0\n",
              "1        Ahmetpattern      2     same  ...   932  <lshift>     1\n",
              "2        Ahmetpattern      3     same  ...  1215  <lshift>     1\n",
              "3        Ahmetpattern      4     same  ...  1090  <lshift>     1\n",
              "4        Ahmetpattern      5     diff  ...  1056  <rshift>     1\n",
              "..                ...    ...      ...  ...   ...       ...   ...\n",
              "55  emiraltan2pattern     56     diff  ...   786  <rshift>     1\n",
              "56  emiraltan2pattern     57     same  ...  1080  <lshift>     1\n",
              "57  emiraltan2pattern     58     same  ...  1177  <rshift>     0\n",
              "58  emiraltan2pattern     59     diff  ...   945  <rshift>     1\n",
              "59  emiraltan2pattern     60     same  ...   945  <lshift>     1\n",
              "\n",
              "[180 rows x 9 columns]"
            ]
          },
          "metadata": {},
          "execution_count": 106
        }
      ]
    },
    {
      "cell_type": "code",
      "metadata": {
        "colab": {
          "base_uri": "https://localhost:8080/",
          "height": 419
        },
        "id": "nptKCTKEmwQ8",
        "outputId": "75f05342-4124-4d8d-c2eb-92f6db2f2bdd"
      },
      "source": [
        "frames2 = [rotate_1, rotate_2, rotate_3]\n",
        "df2 = pd.concat(frames2)\n",
        "df2"
      ],
      "execution_count": null,
      "outputs": [
        {
          "output_type": "execute_result",
          "data": {
            "text/html": [
              "<div>\n",
              "<style scoped>\n",
              "    .dataframe tbody tr th:only-of-type {\n",
              "        vertical-align: middle;\n",
              "    }\n",
              "\n",
              "    .dataframe tbody tr th {\n",
              "        vertical-align: top;\n",
              "    }\n",
              "\n",
              "    .dataframe thead th {\n",
              "        text-align: right;\n",
              "    }\n",
              "</style>\n",
              "<table border=\"1\" class=\"dataframe\">\n",
              "  <thead>\n",
              "    <tr style=\"text-align: right;\">\n",
              "      <th></th>\n",
              "      <th>subNum</th>\n",
              "      <th>type</th>\n",
              "      <th>trialnum</th>\n",
              "      <th>cond</th>\n",
              "      <th>stimid</th>\n",
              "      <th>rot</th>\n",
              "      <th>resp</th>\n",
              "      <th>cor</th>\n",
              "      <th>rt</th>\n",
              "    </tr>\n",
              "  </thead>\n",
              "  <tbody>\n",
              "    <tr>\n",
              "      <th>4</th>\n",
              "      <td>Ahmetrotas</td>\n",
              "      <td>TEST</td>\n",
              "      <td>1</td>\n",
              "      <td>0</td>\n",
              "      <td>2</td>\n",
              "      <td>2</td>\n",
              "      <td>&lt;LSHIFT&gt;</td>\n",
              "      <td>1</td>\n",
              "      <td>1336</td>\n",
              "    </tr>\n",
              "    <tr>\n",
              "      <th>5</th>\n",
              "      <td>Ahmetrotas</td>\n",
              "      <td>TEST</td>\n",
              "      <td>2</td>\n",
              "      <td>0</td>\n",
              "      <td>1</td>\n",
              "      <td>2</td>\n",
              "      <td>&lt;RSHIFT&gt;</td>\n",
              "      <td>0</td>\n",
              "      <td>1819</td>\n",
              "    </tr>\n",
              "    <tr>\n",
              "      <th>6</th>\n",
              "      <td>Ahmetrotas</td>\n",
              "      <td>TEST</td>\n",
              "      <td>3</td>\n",
              "      <td>1</td>\n",
              "      <td>1</td>\n",
              "      <td>-1</td>\n",
              "      <td>&lt;LSHIFT&gt;</td>\n",
              "      <td>0</td>\n",
              "      <td>1274</td>\n",
              "    </tr>\n",
              "    <tr>\n",
              "      <th>7</th>\n",
              "      <td>Ahmetrotas</td>\n",
              "      <td>TEST</td>\n",
              "      <td>4</td>\n",
              "      <td>1</td>\n",
              "      <td>2</td>\n",
              "      <td>4</td>\n",
              "      <td>&lt;RSHIFT&gt;</td>\n",
              "      <td>1</td>\n",
              "      <td>1040</td>\n",
              "    </tr>\n",
              "    <tr>\n",
              "      <th>8</th>\n",
              "      <td>Ahmetrotas</td>\n",
              "      <td>TEST</td>\n",
              "      <td>5</td>\n",
              "      <td>0</td>\n",
              "      <td>2</td>\n",
              "      <td>0</td>\n",
              "      <td>&lt;LSHIFT&gt;</td>\n",
              "      <td>1</td>\n",
              "      <td>1086</td>\n",
              "    </tr>\n",
              "    <tr>\n",
              "      <th>...</th>\n",
              "      <td>...</td>\n",
              "      <td>...</td>\n",
              "      <td>...</td>\n",
              "      <td>...</td>\n",
              "      <td>...</td>\n",
              "      <td>...</td>\n",
              "      <td>...</td>\n",
              "      <td>...</td>\n",
              "      <td>...</td>\n",
              "    </tr>\n",
              "    <tr>\n",
              "      <th>127</th>\n",
              "      <td>emiraltan2rota</td>\n",
              "      <td>TEST</td>\n",
              "      <td>124</td>\n",
              "      <td>1</td>\n",
              "      <td>1</td>\n",
              "      <td>1</td>\n",
              "      <td>&lt;RSHIFT&gt;</td>\n",
              "      <td>1</td>\n",
              "      <td>1038</td>\n",
              "    </tr>\n",
              "    <tr>\n",
              "      <th>128</th>\n",
              "      <td>emiraltan2rota</td>\n",
              "      <td>TEST</td>\n",
              "      <td>125</td>\n",
              "      <td>0</td>\n",
              "      <td>1</td>\n",
              "      <td>1</td>\n",
              "      <td>&lt;RSHIFT&gt;</td>\n",
              "      <td>0</td>\n",
              "      <td>1178</td>\n",
              "    </tr>\n",
              "    <tr>\n",
              "      <th>129</th>\n",
              "      <td>emiraltan2rota</td>\n",
              "      <td>TEST</td>\n",
              "      <td>126</td>\n",
              "      <td>0</td>\n",
              "      <td>2</td>\n",
              "      <td>0</td>\n",
              "      <td>&lt;LSHIFT&gt;</td>\n",
              "      <td>1</td>\n",
              "      <td>427</td>\n",
              "    </tr>\n",
              "    <tr>\n",
              "      <th>130</th>\n",
              "      <td>emiraltan2rota</td>\n",
              "      <td>TEST</td>\n",
              "      <td>127</td>\n",
              "      <td>0</td>\n",
              "      <td>1</td>\n",
              "      <td>-2</td>\n",
              "      <td>&lt;LSHIFT&gt;</td>\n",
              "      <td>1</td>\n",
              "      <td>1156</td>\n",
              "    </tr>\n",
              "    <tr>\n",
              "      <th>131</th>\n",
              "      <td>emiraltan2rota</td>\n",
              "      <td>TEST</td>\n",
              "      <td>128</td>\n",
              "      <td>1</td>\n",
              "      <td>2</td>\n",
              "      <td>-3</td>\n",
              "      <td>&lt;RSHIFT&gt;</td>\n",
              "      <td>1</td>\n",
              "      <td>750</td>\n",
              "    </tr>\n",
              "  </tbody>\n",
              "</table>\n",
              "<p>384 rows × 9 columns</p>\n",
              "</div>"
            ],
            "text/plain": [
              "             subNum  type  trialnum  cond  stimid  rot      resp  cor    rt\n",
              "4        Ahmetrotas  TEST         1     0       2    2  <LSHIFT>    1  1336\n",
              "5        Ahmetrotas  TEST         2     0       1    2  <RSHIFT>    0  1819\n",
              "6        Ahmetrotas  TEST         3     1       1   -1  <LSHIFT>    0  1274\n",
              "7        Ahmetrotas  TEST         4     1       2    4  <RSHIFT>    1  1040\n",
              "8        Ahmetrotas  TEST         5     0       2    0  <LSHIFT>    1  1086\n",
              "..              ...   ...       ...   ...     ...  ...       ...  ...   ...\n",
              "127  emiraltan2rota  TEST       124     1       1    1  <RSHIFT>    1  1038\n",
              "128  emiraltan2rota  TEST       125     0       1    1  <RSHIFT>    0  1178\n",
              "129  emiraltan2rota  TEST       126     0       2    0  <LSHIFT>    1   427\n",
              "130  emiraltan2rota  TEST       127     0       1   -2  <LSHIFT>    1  1156\n",
              "131  emiraltan2rota  TEST       128     1       2   -3  <RSHIFT>    1   750\n",
              "\n",
              "[384 rows x 9 columns]"
            ]
          },
          "metadata": {},
          "execution_count": 124
        }
      ]
    },
    {
      "cell_type": "markdown",
      "metadata": {
        "id": "oRGVmpzRbRze"
      },
      "source": [
        "Calculate the all descriptive (mean, median, max, min, std) for all columns in a separate dataframe."
      ]
    },
    {
      "cell_type": "code",
      "metadata": {
        "colab": {
          "base_uri": "https://localhost:8080/",
          "height": 173
        },
        "id": "VKnjkxxQiSRb",
        "outputId": "0df84a0d-707a-4eb8-e218-a586b6e82266"
      },
      "source": [
        "cols = ['mat1', 'mat2', 'abstime', 'rt']   # DESCRİPTIVE ANALYSIS\n",
        "\n",
        "mean = df1[cols].mean()\n",
        "max = df1[cols].max()\n",
        "min = df1[cols].min()\n",
        "std = df1[cols].std()\n",
        "median = df1[cols].median()\n",
        "\n",
        "frame = { 'Mean': mean, 'Max': max, 'Min': min, 'Std':std, 'Median':median}\n",
        "pd.DataFrame(frame)"
      ],
      "execution_count": null,
      "outputs": [
        {
          "output_type": "execute_result",
          "data": {
            "text/html": [
              "<div>\n",
              "<style scoped>\n",
              "    .dataframe tbody tr th:only-of-type {\n",
              "        vertical-align: middle;\n",
              "    }\n",
              "\n",
              "    .dataframe tbody tr th {\n",
              "        vertical-align: top;\n",
              "    }\n",
              "\n",
              "    .dataframe thead th {\n",
              "        text-align: right;\n",
              "    }\n",
              "</style>\n",
              "<table border=\"1\" class=\"dataframe\">\n",
              "  <thead>\n",
              "    <tr style=\"text-align: right;\">\n",
              "      <th></th>\n",
              "      <th>Mean</th>\n",
              "      <th>Max</th>\n",
              "      <th>Min</th>\n",
              "      <th>Std</th>\n",
              "      <th>Median</th>\n",
              "    </tr>\n",
              "  </thead>\n",
              "  <tbody>\n",
              "    <tr>\n",
              "      <th>mat1</th>\n",
              "      <td>5.199297e+14</td>\n",
              "      <td>1.111100e+15</td>\n",
              "      <td>1.110110e+10</td>\n",
              "      <td>4.959953e+14</td>\n",
              "      <td>1.110001e+14</td>\n",
              "    </tr>\n",
              "    <tr>\n",
              "      <th>mat2</th>\n",
              "      <td>4.773241e+14</td>\n",
              "      <td>1.111100e+15</td>\n",
              "      <td>1.001110e+11</td>\n",
              "      <td>4.890916e+14</td>\n",
              "      <td>1.105550e+14</td>\n",
              "    </tr>\n",
              "    <tr>\n",
              "      <th>abstime</th>\n",
              "      <td>9.231147e+04</td>\n",
              "      <td>2.371240e+05</td>\n",
              "      <td>6.469000e+03</td>\n",
              "      <td>5.446459e+04</td>\n",
              "      <td>8.055450e+04</td>\n",
              "    </tr>\n",
              "    <tr>\n",
              "      <th>rt</th>\n",
              "      <td>1.594267e+03</td>\n",
              "      <td>9.305000e+03</td>\n",
              "      <td>6.590000e+02</td>\n",
              "      <td>1.145387e+03</td>\n",
              "      <td>1.089000e+03</td>\n",
              "    </tr>\n",
              "  </tbody>\n",
              "</table>\n",
              "</div>"
            ],
            "text/plain": [
              "                 Mean           Max           Min           Std        Median\n",
              "mat1     5.199297e+14  1.111100e+15  1.110110e+10  4.959953e+14  1.110001e+14\n",
              "mat2     4.773241e+14  1.111100e+15  1.001110e+11  4.890916e+14  1.105550e+14\n",
              "abstime  9.231147e+04  2.371240e+05  6.469000e+03  5.446459e+04  8.055450e+04\n",
              "rt       1.594267e+03  9.305000e+03  6.590000e+02  1.145387e+03  1.089000e+03"
            ]
          },
          "metadata": {},
          "execution_count": 142
        }
      ]
    },
    {
      "cell_type": "code",
      "metadata": {
        "id": "fgJPj1x1myhP",
        "colab": {
          "base_uri": "https://localhost:8080/",
          "height": 297
        },
        "outputId": "3c1c72c6-b5b6-4486-c0a0-66165fd52db9"
      },
      "source": [
        "df1.describe()"
      ],
      "execution_count": null,
      "outputs": [
        {
          "output_type": "execute_result",
          "data": {
            "text/html": [
              "<div>\n",
              "<style scoped>\n",
              "    .dataframe tbody tr th:only-of-type {\n",
              "        vertical-align: middle;\n",
              "    }\n",
              "\n",
              "    .dataframe tbody tr th {\n",
              "        vertical-align: top;\n",
              "    }\n",
              "\n",
              "    .dataframe thead th {\n",
              "        text-align: right;\n",
              "    }\n",
              "</style>\n",
              "<table border=\"1\" class=\"dataframe\">\n",
              "  <thead>\n",
              "    <tr style=\"text-align: right;\">\n",
              "      <th></th>\n",
              "      <th>trial</th>\n",
              "      <th>mat1</th>\n",
              "      <th>mat2</th>\n",
              "      <th>abstime</th>\n",
              "      <th>rt</th>\n",
              "      <th>corr</th>\n",
              "    </tr>\n",
              "  </thead>\n",
              "  <tbody>\n",
              "    <tr>\n",
              "      <th>count</th>\n",
              "      <td>180.000000</td>\n",
              "      <td>1.800000e+02</td>\n",
              "      <td>1.800000e+02</td>\n",
              "      <td>180.000000</td>\n",
              "      <td>180.000000</td>\n",
              "      <td>180.000000</td>\n",
              "    </tr>\n",
              "    <tr>\n",
              "      <th>mean</th>\n",
              "      <td>30.500000</td>\n",
              "      <td>5.199297e+14</td>\n",
              "      <td>4.773241e+14</td>\n",
              "      <td>92311.472222</td>\n",
              "      <td>1594.266667</td>\n",
              "      <td>0.955556</td>\n",
              "    </tr>\n",
              "    <tr>\n",
              "      <th>std</th>\n",
              "      <td>17.366409</td>\n",
              "      <td>4.959953e+14</td>\n",
              "      <td>4.890916e+14</td>\n",
              "      <td>54464.591236</td>\n",
              "      <td>1145.387225</td>\n",
              "      <td>0.206655</td>\n",
              "    </tr>\n",
              "    <tr>\n",
              "      <th>min</th>\n",
              "      <td>1.000000</td>\n",
              "      <td>1.110110e+10</td>\n",
              "      <td>1.001110e+11</td>\n",
              "      <td>6469.000000</td>\n",
              "      <td>659.000000</td>\n",
              "      <td>0.000000</td>\n",
              "    </tr>\n",
              "    <tr>\n",
              "      <th>25%</th>\n",
              "      <td>15.750000</td>\n",
              "      <td>1.000079e+14</td>\n",
              "      <td>1.110001e+13</td>\n",
              "      <td>53743.500000</td>\n",
              "      <td>896.000000</td>\n",
              "      <td>1.000000</td>\n",
              "    </tr>\n",
              "    <tr>\n",
              "      <th>50%</th>\n",
              "      <td>30.500000</td>\n",
              "      <td>1.110001e+14</td>\n",
              "      <td>1.105550e+14</td>\n",
              "      <td>80554.500000</td>\n",
              "      <td>1089.000000</td>\n",
              "      <td>1.000000</td>\n",
              "    </tr>\n",
              "    <tr>\n",
              "      <th>75%</th>\n",
              "      <td>45.250000</td>\n",
              "      <td>1.010103e+15</td>\n",
              "      <td>1.010000e+15</td>\n",
              "      <td>121242.750000</td>\n",
              "      <td>1940.750000</td>\n",
              "      <td>1.000000</td>\n",
              "    </tr>\n",
              "    <tr>\n",
              "      <th>max</th>\n",
              "      <td>60.000000</td>\n",
              "      <td>1.111100e+15</td>\n",
              "      <td>1.111100e+15</td>\n",
              "      <td>237124.000000</td>\n",
              "      <td>9305.000000</td>\n",
              "      <td>1.000000</td>\n",
              "    </tr>\n",
              "  </tbody>\n",
              "</table>\n",
              "</div>"
            ],
            "text/plain": [
              "            trial          mat1  ...           rt        corr\n",
              "count  180.000000  1.800000e+02  ...   180.000000  180.000000\n",
              "mean    30.500000  5.199297e+14  ...  1594.266667    0.955556\n",
              "std     17.366409  4.959953e+14  ...  1145.387225    0.206655\n",
              "min      1.000000  1.110110e+10  ...   659.000000    0.000000\n",
              "25%     15.750000  1.000079e+14  ...   896.000000    1.000000\n",
              "50%     30.500000  1.110001e+14  ...  1089.000000    1.000000\n",
              "75%     45.250000  1.010103e+15  ...  1940.750000    1.000000\n",
              "max     60.000000  1.111100e+15  ...  9305.000000    1.000000\n",
              "\n",
              "[8 rows x 6 columns]"
            ]
          },
          "metadata": {},
          "execution_count": 112
        }
      ]
    },
    {
      "cell_type": "code",
      "metadata": {
        "colab": {
          "base_uri": "https://localhost:8080/",
          "height": 173
        },
        "id": "8KkoDrxolivF",
        "outputId": "883b1568-3b5a-47dd-aa4b-88a50761fa02"
      },
      "source": [
        "cols = ['stimid', 'rot', 'cor', 'rt']   # DESCRİPTIVE ANALYSIS\n",
        "\n",
        "mean = df2[cols].mean()\n",
        "max = df2[cols].max()\n",
        "min = df2[cols].min()\n",
        "std = df2[cols].std()\n",
        "median = df2[cols].median()\n",
        "\n",
        "frames = { 'Mean': mean, 'Max': max, 'Min': min, 'Std':std, 'Median':median}\n",
        "pd.DataFrame(frames)"
      ],
      "execution_count": null,
      "outputs": [
        {
          "output_type": "execute_result",
          "data": {
            "text/html": [
              "<div>\n",
              "<style scoped>\n",
              "    .dataframe tbody tr th:only-of-type {\n",
              "        vertical-align: middle;\n",
              "    }\n",
              "\n",
              "    .dataframe tbody tr th {\n",
              "        vertical-align: top;\n",
              "    }\n",
              "\n",
              "    .dataframe thead th {\n",
              "        text-align: right;\n",
              "    }\n",
              "</style>\n",
              "<table border=\"1\" class=\"dataframe\">\n",
              "  <thead>\n",
              "    <tr style=\"text-align: right;\">\n",
              "      <th></th>\n",
              "      <th>Mean</th>\n",
              "      <th>Max</th>\n",
              "      <th>Min</th>\n",
              "      <th>Std</th>\n",
              "      <th>Median</th>\n",
              "    </tr>\n",
              "  </thead>\n",
              "  <tbody>\n",
              "    <tr>\n",
              "      <th>stimid</th>\n",
              "      <td>1.500000</td>\n",
              "      <td>2</td>\n",
              "      <td>1</td>\n",
              "      <td>0.500652</td>\n",
              "      <td>1.5</td>\n",
              "    </tr>\n",
              "    <tr>\n",
              "      <th>rot</th>\n",
              "      <td>0.500000</td>\n",
              "      <td>4</td>\n",
              "      <td>-3</td>\n",
              "      <td>2.294277</td>\n",
              "      <td>0.5</td>\n",
              "    </tr>\n",
              "    <tr>\n",
              "      <th>cor</th>\n",
              "      <td>0.526042</td>\n",
              "      <td>1</td>\n",
              "      <td>0</td>\n",
              "      <td>0.499973</td>\n",
              "      <td>1.0</td>\n",
              "    </tr>\n",
              "    <tr>\n",
              "      <th>rt</th>\n",
              "      <td>1470.330729</td>\n",
              "      <td>3003</td>\n",
              "      <td>149</td>\n",
              "      <td>642.198519</td>\n",
              "      <td>1378.0</td>\n",
              "    </tr>\n",
              "  </tbody>\n",
              "</table>\n",
              "</div>"
            ],
            "text/plain": [
              "               Mean   Max  Min         Std  Median\n",
              "stimid     1.500000     2    1    0.500652     1.5\n",
              "rot        0.500000     4   -3    2.294277     0.5\n",
              "cor        0.526042     1    0    0.499973     1.0\n",
              "rt      1470.330729  3003  149  642.198519  1378.0"
            ]
          },
          "metadata": {},
          "execution_count": 144
        }
      ]
    },
    {
      "cell_type": "code",
      "metadata": {
        "colab": {
          "base_uri": "https://localhost:8080/",
          "height": 297
        },
        "id": "qUvdNrZSliiX",
        "outputId": "86da218f-52a2-4cc5-c016-483521182e7c"
      },
      "source": [
        "df2.describe()"
      ],
      "execution_count": null,
      "outputs": [
        {
          "output_type": "execute_result",
          "data": {
            "text/html": [
              "<div>\n",
              "<style scoped>\n",
              "    .dataframe tbody tr th:only-of-type {\n",
              "        vertical-align: middle;\n",
              "    }\n",
              "\n",
              "    .dataframe tbody tr th {\n",
              "        vertical-align: top;\n",
              "    }\n",
              "\n",
              "    .dataframe thead th {\n",
              "        text-align: right;\n",
              "    }\n",
              "</style>\n",
              "<table border=\"1\" class=\"dataframe\">\n",
              "  <thead>\n",
              "    <tr style=\"text-align: right;\">\n",
              "      <th></th>\n",
              "      <th>trialnum</th>\n",
              "      <th>cond</th>\n",
              "      <th>stimid</th>\n",
              "      <th>rot</th>\n",
              "      <th>cor</th>\n",
              "      <th>rt</th>\n",
              "    </tr>\n",
              "  </thead>\n",
              "  <tbody>\n",
              "    <tr>\n",
              "      <th>count</th>\n",
              "      <td>384.000000</td>\n",
              "      <td>384.000000</td>\n",
              "      <td>384.000000</td>\n",
              "      <td>384.000000</td>\n",
              "      <td>384.000000</td>\n",
              "      <td>384.000000</td>\n",
              "    </tr>\n",
              "    <tr>\n",
              "      <th>mean</th>\n",
              "      <td>64.500000</td>\n",
              "      <td>0.500000</td>\n",
              "      <td>1.500000</td>\n",
              "      <td>0.500000</td>\n",
              "      <td>0.526042</td>\n",
              "      <td>1470.330729</td>\n",
              "    </tr>\n",
              "    <tr>\n",
              "      <th>std</th>\n",
              "      <td>36.997495</td>\n",
              "      <td>0.500652</td>\n",
              "      <td>0.500652</td>\n",
              "      <td>2.294277</td>\n",
              "      <td>0.499973</td>\n",
              "      <td>642.198519</td>\n",
              "    </tr>\n",
              "    <tr>\n",
              "      <th>min</th>\n",
              "      <td>1.000000</td>\n",
              "      <td>0.000000</td>\n",
              "      <td>1.000000</td>\n",
              "      <td>-3.000000</td>\n",
              "      <td>0.000000</td>\n",
              "      <td>149.000000</td>\n",
              "    </tr>\n",
              "    <tr>\n",
              "      <th>25%</th>\n",
              "      <td>32.750000</td>\n",
              "      <td>0.000000</td>\n",
              "      <td>1.000000</td>\n",
              "      <td>-1.250000</td>\n",
              "      <td>0.000000</td>\n",
              "      <td>1055.500000</td>\n",
              "    </tr>\n",
              "    <tr>\n",
              "      <th>50%</th>\n",
              "      <td>64.500000</td>\n",
              "      <td>0.500000</td>\n",
              "      <td>1.500000</td>\n",
              "      <td>0.500000</td>\n",
              "      <td>1.000000</td>\n",
              "      <td>1378.000000</td>\n",
              "    </tr>\n",
              "    <tr>\n",
              "      <th>75%</th>\n",
              "      <td>96.250000</td>\n",
              "      <td>1.000000</td>\n",
              "      <td>2.000000</td>\n",
              "      <td>2.250000</td>\n",
              "      <td>1.000000</td>\n",
              "      <td>1869.000000</td>\n",
              "    </tr>\n",
              "    <tr>\n",
              "      <th>max</th>\n",
              "      <td>128.000000</td>\n",
              "      <td>1.000000</td>\n",
              "      <td>2.000000</td>\n",
              "      <td>4.000000</td>\n",
              "      <td>1.000000</td>\n",
              "      <td>3003.000000</td>\n",
              "    </tr>\n",
              "  </tbody>\n",
              "</table>\n",
              "</div>"
            ],
            "text/plain": [
              "         trialnum        cond      stimid         rot         cor           rt\n",
              "count  384.000000  384.000000  384.000000  384.000000  384.000000   384.000000\n",
              "mean    64.500000    0.500000    1.500000    0.500000    0.526042  1470.330729\n",
              "std     36.997495    0.500652    0.500652    2.294277    0.499973   642.198519\n",
              "min      1.000000    0.000000    1.000000   -3.000000    0.000000   149.000000\n",
              "25%     32.750000    0.000000    1.000000   -1.250000    0.000000  1055.500000\n",
              "50%     64.500000    0.500000    1.500000    0.500000    1.000000  1378.000000\n",
              "75%     96.250000    1.000000    2.000000    2.250000    1.000000  1869.000000\n",
              "max    128.000000    1.000000    2.000000    4.000000    1.000000  3003.000000"
            ]
          },
          "metadata": {},
          "execution_count": 145
        }
      ]
    },
    {
      "cell_type": "markdown",
      "metadata": {
        "id": "A-JmhmwAenHy"
      },
      "source": [
        "Extract these dataframes as csv and excel files."
      ]
    },
    {
      "cell_type": "code",
      "metadata": {
        "id": "0EK1QPuzbUpA"
      },
      "source": [
        "df1_csv = df1.to_csv('df1.csv', index=False)"
      ],
      "execution_count": null,
      "outputs": []
    },
    {
      "cell_type": "code",
      "metadata": {
        "id": "CWP3so9ceTPj"
      },
      "source": [
        "df2_csv = df2.to_csv('df2.csv', index=False)"
      ],
      "execution_count": null,
      "outputs": []
    },
    {
      "cell_type": "code",
      "metadata": {
        "id": "byTRSzNNeh2o"
      },
      "source": [
        "df1_excel = df1.to_excel('df1.xlsx', sheet_name='df1-excel')"
      ],
      "execution_count": null,
      "outputs": []
    },
    {
      "cell_type": "code",
      "metadata": {
        "id": "8XDAz4lrhK2K"
      },
      "source": [
        "df2_excel = df2.to_excel('df1.xlsx', sheet_name='df2-excel')"
      ],
      "execution_count": null,
      "outputs": []
    }
  ]
}