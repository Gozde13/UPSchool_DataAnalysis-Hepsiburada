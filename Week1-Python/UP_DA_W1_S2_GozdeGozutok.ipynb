{
  "nbformat": 4,
  "nbformat_minor": 0,
  "metadata": {
    "colab": {
      "name": "UP-DA-W1-S2-GozdeGozutok.ipynb",
      "provenance": [],
      "collapsed_sections": []
    },
    "kernelspec": {
      "name": "python3",
      "display_name": "Python 3"
    },
    "language_info": {
      "name": "python"
    }
  },
  "cells": [
    {
      "cell_type": "markdown",
      "metadata": {
        "id": "5knBvyigOa0Z"
      },
      "source": [
        "# Task A \n",
        "\n",
        "Sum Function: summation of the entered number from 1 to n\n",
        "*  Only defined for nonnegative numbers."
      ]
    },
    {
      "cell_type": "code",
      "metadata": {
        "id": "tnBalIZuOdLE"
      },
      "source": [
        "def sum(num):                        # this function calculates the summation of the entered number(num) from 1 to n\n",
        "  if num>=0:                         # uses for-loop\n",
        "    total_sum = 0                   \n",
        "    for i in range(1,num+1):\n",
        "      total_sum = total_sum + i\n",
        "\n",
        "    return total_sum\n",
        "  \n",
        "  else:                                            # to prevent taking negative numbers, I used else statement.\n",
        "    print('Please, enter nonnegative numbers!')"
      ],
      "execution_count": null,
      "outputs": []
    },
    {
      "cell_type": "code",
      "metadata": {
        "colab": {
          "base_uri": "https://localhost:8080/"
        },
        "id": "eA13pa54O5Tp",
        "outputId": "d05d3160-fe0e-4ffa-b549-0df27333147f"
      },
      "source": [
        "sum(5)"
      ],
      "execution_count": null,
      "outputs": [
        {
          "output_type": "execute_result",
          "data": {
            "text/plain": [
              "15"
            ]
          },
          "metadata": {},
          "execution_count": 2
        }
      ]
    },
    {
      "cell_type": "code",
      "metadata": {
        "colab": {
          "base_uri": "https://localhost:8080/"
        },
        "id": "3CiD2tqjPMQ7",
        "outputId": "d3ece4cb-4337-462b-efe3-0ec19fd5a471"
      },
      "source": [
        "sum(3)"
      ],
      "execution_count": null,
      "outputs": [
        {
          "output_type": "execute_result",
          "data": {
            "text/plain": [
              "6"
            ]
          },
          "metadata": {},
          "execution_count": 3
        }
      ]
    },
    {
      "cell_type": "code",
      "metadata": {
        "colab": {
          "base_uri": "https://localhost:8080/"
        },
        "id": "6FFXLhkaPgML",
        "outputId": "00459664-64ad-4ee9-f149-f3a72ac19889"
      },
      "source": [
        "sum(0)"
      ],
      "execution_count": null,
      "outputs": [
        {
          "output_type": "execute_result",
          "data": {
            "text/plain": [
              "0"
            ]
          },
          "metadata": {},
          "execution_count": 4
        }
      ]
    },
    {
      "cell_type": "code",
      "metadata": {
        "colab": {
          "base_uri": "https://localhost:8080/"
        },
        "id": "xJBL79XNUAt2",
        "outputId": "dc89e496-00ba-49b8-b221-189dc77f85fe"
      },
      "source": [
        "sum(-6)"
      ],
      "execution_count": null,
      "outputs": [
        {
          "output_type": "stream",
          "name": "stdout",
          "text": [
            "Please, enter nonnegative numbers!\n"
          ]
        }
      ]
    },
    {
      "cell_type": "markdown",
      "metadata": {
        "id": "yQ3p0gPy8LGu"
      },
      "source": [
        "Production Function\n",
        "* "
      ]
    },
    {
      "cell_type": "code",
      "metadata": {
        "id": "YQO94sE87sKt"
      },
      "source": [
        "def production(num):                # The product function returns the product of numbers from 1 to the number entered.\n",
        "  total = 1\n",
        "  for i in range(1,num+1):\n",
        "    total = total*i\n",
        "    \n",
        "  return total"
      ],
      "execution_count": null,
      "outputs": []
    },
    {
      "cell_type": "code",
      "metadata": {
        "colab": {
          "base_uri": "https://localhost:8080/"
        },
        "id": "z-ePXkU-8rx9",
        "outputId": "746a868b-b8aa-4727-df32-a0c4f1b001dd"
      },
      "source": [
        "production(4)"
      ],
      "execution_count": null,
      "outputs": [
        {
          "output_type": "execute_result",
          "data": {
            "text/plain": [
              "24"
            ]
          },
          "metadata": {},
          "execution_count": 7
        }
      ]
    },
    {
      "cell_type": "code",
      "metadata": {
        "colab": {
          "base_uri": "https://localhost:8080/"
        },
        "id": "4c_N9xoE80lD",
        "outputId": "f624013b-47f0-43c4-e5b3-cea3c7c321a0"
      },
      "source": [
        "production(3)"
      ],
      "execution_count": null,
      "outputs": [
        {
          "output_type": "execute_result",
          "data": {
            "text/plain": [
              "6"
            ]
          },
          "metadata": {},
          "execution_count": 8
        }
      ]
    },
    {
      "cell_type": "code",
      "metadata": {
        "colab": {
          "base_uri": "https://localhost:8080/"
        },
        "id": "j1gQ44ki_i9b",
        "outputId": "102c50a1-c890-4992-8abc-e5f3271af3e9"
      },
      "source": [
        "production(-2) # when we enter negative number production function gives wrong answer."
      ],
      "execution_count": null,
      "outputs": [
        {
          "output_type": "execute_result",
          "data": {
            "text/plain": [
              "1"
            ]
          },
          "metadata": {},
          "execution_count": 9
        }
      ]
    },
    {
      "cell_type": "markdown",
      "metadata": {
        "id": "HfwFOrUr_2xS"
      },
      "source": [
        "Let's rearrange this function including zero and negative numbers.\n",
        "* Like factorial function"
      ]
    },
    {
      "cell_type": "code",
      "metadata": {
        "id": "zgSrrPvI_mO_"
      },
      "source": [
        "def productionn(num):   \n",
        "  if num>0:                          # when numbers are positive it works like factorial function.\n",
        "    total = 1\n",
        "    for i in range(1,num+1):\n",
        "      total = total*i\n",
        "\n",
        "    return total\n",
        "\n",
        "  elif (num==0):                     # when number is 0, it gives 1\n",
        "    total = 1\n",
        "    return total\n",
        "\n",
        "  else:     \n",
        "    print(\"Factorial function doesn't  work on negative values.\\n \")  \n",
        "    print(\"Please enter nonnegative numbers\") \n",
        "\n",
        "    # total = 1                       # Although factorial function doesn't define for negative numbers                               \n",
        "    # for i in range(num,0):          # when number is negative If we come to -1 by increasing the negative number from the entered value\n",
        "    #   total = total*i               #  we would write such a function.\n",
        "    # return total"
      ],
      "execution_count": null,
      "outputs": []
    },
    {
      "cell_type": "code",
      "metadata": {
        "colab": {
          "base_uri": "https://localhost:8080/"
        },
        "id": "hPvJtnOkAvNO",
        "outputId": "392a9650-5a64-4ace-80cd-4c0d0151cab3"
      },
      "source": [
        "productionn(0)"
      ],
      "execution_count": null,
      "outputs": [
        {
          "output_type": "execute_result",
          "data": {
            "text/plain": [
              "1"
            ]
          },
          "metadata": {},
          "execution_count": 11
        }
      ]
    },
    {
      "cell_type": "code",
      "metadata": {
        "colab": {
          "base_uri": "https://localhost:8080/"
        },
        "id": "hsFp-zCzAw6K",
        "outputId": "0ebc1754-bb04-40c0-c355-9aaccdb60971"
      },
      "source": [
        "productionn(4)"
      ],
      "execution_count": null,
      "outputs": [
        {
          "output_type": "execute_result",
          "data": {
            "text/plain": [
              "24"
            ]
          },
          "metadata": {},
          "execution_count": 12
        }
      ]
    },
    {
      "cell_type": "code",
      "metadata": {
        "colab": {
          "base_uri": "https://localhost:8080/"
        },
        "id": "WR6r5YJWAziV",
        "outputId": "3660081d-93d4-4f22-e439-54a425e5a308"
      },
      "source": [
        "productionn(-4)"
      ],
      "execution_count": null,
      "outputs": [
        {
          "output_type": "stream",
          "name": "stdout",
          "text": [
            "Factorial function doesn't  work on negative values.\n",
            " \n",
            "Please enter nonnegative numbers\n"
          ]
        }
      ]
    },
    {
      "cell_type": "code",
      "metadata": {
        "colab": {
          "base_uri": "https://localhost:8080/"
        },
        "id": "l-ViChWrA22s",
        "outputId": "3fdbc88c-48f6-4dfd-8739-a3249c7a15ce"
      },
      "source": [
        "productionn(-5)"
      ],
      "execution_count": null,
      "outputs": [
        {
          "output_type": "stream",
          "name": "stdout",
          "text": [
            "Factorial function doesn't  work on negative values.\n",
            " \n",
            "Please enter nonnegative numbers\n"
          ]
        }
      ]
    },
    {
      "cell_type": "code",
      "metadata": {
        "colab": {
          "base_uri": "https://localhost:8080/"
        },
        "id": "-JShA6ryCWqR",
        "outputId": "cbf9186c-0c20-4aa1-b0ec-aa20da85d792"
      },
      "source": [
        "productionn(2)"
      ],
      "execution_count": null,
      "outputs": [
        {
          "output_type": "execute_result",
          "data": {
            "text/plain": [
              "2"
            ]
          },
          "metadata": {},
          "execution_count": 15
        }
      ]
    },
    {
      "cell_type": "code",
      "metadata": {
        "colab": {
          "base_uri": "https://localhost:8080/"
        },
        "id": "ABD9aGSLE5kW",
        "outputId": "094a3b3e-5914-42bb-cd8a-6835ef384971"
      },
      "source": [
        "productionn(10) # below I tested via python function factorial."
      ],
      "execution_count": null,
      "outputs": [
        {
          "output_type": "execute_result",
          "data": {
            "text/plain": [
              "3628800"
            ]
          },
          "metadata": {},
          "execution_count": 16
        }
      ]
    },
    {
      "cell_type": "code",
      "metadata": {
        "colab": {
          "base_uri": "https://localhost:8080/"
        },
        "id": "E6CU4koDEEM6",
        "outputId": "d0471ca6-c446-49b7-c91a-0c4b7018d1b0"
      },
      "source": [
        "import math\n",
        "math.factorial(0)"
      ],
      "execution_count": null,
      "outputs": [
        {
          "output_type": "execute_result",
          "data": {
            "text/plain": [
              "1"
            ]
          },
          "metadata": {},
          "execution_count": 17
        }
      ]
    },
    {
      "cell_type": "code",
      "metadata": {
        "colab": {
          "base_uri": "https://localhost:8080/"
        },
        "id": "bBD98wqYEJYZ",
        "outputId": "6ea3d919-9a1f-4398-a286-20b7fd4a0287"
      },
      "source": [
        "math.factorial(10) # to test validation of the function I used factorial function."
      ],
      "execution_count": null,
      "outputs": [
        {
          "output_type": "execute_result",
          "data": {
            "text/plain": [
              "3628800"
            ]
          },
          "metadata": {},
          "execution_count": 18
        }
      ]
    },
    {
      "cell_type": "markdown",
      "metadata": {
        "id": "XkyYFnckUXZI"
      },
      "source": [
        "# Task B\n",
        "* Write a function that will calculate the sum of positive integers between \n",
        "* num1 and\n",
        "* num2 with the given incrementation value."
      ]
    },
    {
      "cell_type": "code",
      "metadata": {
        "id": "Z8H61zWDVOpR"
      },
      "source": [
        "def sum_between(num1, num2, inc):\n",
        "  total = num1\n",
        "  sum = 0\n",
        "  for i in range(num1,num2+1, inc):  # in the loop we incremented num2 because we wnat to add num2 also.\n",
        "    sum = sum + total\n",
        "    total = total + inc\n",
        "    \n",
        "  return sum"
      ],
      "execution_count": null,
      "outputs": []
    },
    {
      "cell_type": "code",
      "metadata": {
        "colab": {
          "base_uri": "https://localhost:8080/"
        },
        "id": "SAmAoTNiWZlM",
        "outputId": "6ed9fe8f-8c5a-4ca4-e643-ec03c927c54d"
      },
      "source": [
        "sum_between(1,5,2)"
      ],
      "execution_count": null,
      "outputs": [
        {
          "output_type": "execute_result",
          "data": {
            "text/plain": [
              "9"
            ]
          },
          "metadata": {},
          "execution_count": 32
        }
      ]
    },
    {
      "cell_type": "code",
      "metadata": {
        "colab": {
          "base_uri": "https://localhost:8080/"
        },
        "id": "NKFNFG5pWb86",
        "outputId": "19b24c20-c22c-4edf-bee7-7c7feef74a03"
      },
      "source": [
        "sum_between(1,10,3)"
      ],
      "execution_count": null,
      "outputs": [
        {
          "output_type": "execute_result",
          "data": {
            "text/plain": [
              "22"
            ]
          },
          "metadata": {},
          "execution_count": 33
        }
      ]
    },
    {
      "cell_type": "code",
      "metadata": {
        "id": "vPj9Jg0IWf6W",
        "colab": {
          "base_uri": "https://localhost:8080/"
        },
        "outputId": "b4b03c2c-3d4b-49d5-d18e-dfb1f001eea9"
      },
      "source": [
        "sum_between(3,5,2)"
      ],
      "execution_count": null,
      "outputs": [
        {
          "output_type": "execute_result",
          "data": {
            "text/plain": [
              "8"
            ]
          },
          "metadata": {},
          "execution_count": 34
        }
      ]
    },
    {
      "cell_type": "code",
      "metadata": {
        "id": "tup8JEUbYxYn",
        "colab": {
          "base_uri": "https://localhost:8080/"
        },
        "outputId": "7ddb588d-762b-4afe-f545-39c5a6181ac8"
      },
      "source": [
        "sum_between(5,15,2)"
      ],
      "execution_count": null,
      "outputs": [
        {
          "output_type": "execute_result",
          "data": {
            "text/plain": [
              "60"
            ]
          },
          "metadata": {},
          "execution_count": 35
        }
      ]
    },
    {
      "cell_type": "code",
      "metadata": {
        "id": "WXbhYcqKYxOP",
        "colab": {
          "base_uri": "https://localhost:8080/"
        },
        "outputId": "b5207bd4-279c-40ca-f9d8-f314a58dc5ab"
      },
      "source": [
        "sum_between(2,20,5)"
      ],
      "execution_count": null,
      "outputs": [
        {
          "output_type": "execute_result",
          "data": {
            "text/plain": [
              "38"
            ]
          },
          "metadata": {},
          "execution_count": 36
        }
      ]
    },
    {
      "cell_type": "markdown",
      "metadata": {
        "id": "07wVIoXSYx2B"
      },
      "source": [
        "# Task C\n",
        "* Summation: 1 to n... sum . This time with while statement"
      ]
    },
    {
      "cell_type": "code",
      "metadata": {
        "id": "SKQqxNprzqnU"
      },
      "source": [
        "def summation(num):                      # this function add numbers from 1 to entered number 'num'\n",
        "  if num>=0:                             # uses while loop\n",
        "    sum = 0 \n",
        "    i = 1                  \n",
        "    while i <= num:\n",
        "      sum = sum + i\n",
        "      i = i + 1\n",
        "\n",
        "    return sum\n",
        "  \n",
        "  else:\n",
        "    print('Please, enter nonnegative numbers!')"
      ],
      "execution_count": null,
      "outputs": []
    },
    {
      "cell_type": "code",
      "metadata": {
        "colab": {
          "base_uri": "https://localhost:8080/"
        },
        "id": "uGNK2nIaY1Qh",
        "outputId": "c79f63cd-a5b9-4ca3-c8dd-55e3a93e8bd4"
      },
      "source": [
        "summation(2)"
      ],
      "execution_count": null,
      "outputs": [
        {
          "output_type": "execute_result",
          "data": {
            "text/plain": [
              "3"
            ]
          },
          "metadata": {},
          "execution_count": 60
        }
      ]
    },
    {
      "cell_type": "code",
      "metadata": {
        "colab": {
          "base_uri": "https://localhost:8080/"
        },
        "id": "qpE5BkmYY1NX",
        "outputId": "945050be-6071-4285-ceb4-c87334b1e392"
      },
      "source": [
        "summation(5)"
      ],
      "execution_count": null,
      "outputs": [
        {
          "output_type": "execute_result",
          "data": {
            "text/plain": [
              "15"
            ]
          },
          "metadata": {},
          "execution_count": 61
        }
      ]
    },
    {
      "cell_type": "code",
      "metadata": {
        "colab": {
          "base_uri": "https://localhost:8080/"
        },
        "id": "s_P7MnfFY1KV",
        "outputId": "75a292b0-e30f-45bf-cb37-690b062e1ff6"
      },
      "source": [
        "summation(0)"
      ],
      "execution_count": null,
      "outputs": [
        {
          "output_type": "execute_result",
          "data": {
            "text/plain": [
              "0"
            ]
          },
          "metadata": {},
          "execution_count": 62
        }
      ]
    },
    {
      "cell_type": "code",
      "metadata": {
        "colab": {
          "base_uri": "https://localhost:8080/"
        },
        "id": "V5De6HFzY1oH",
        "outputId": "aef6638f-c95a-47cb-a048-1faf8dc52527"
      },
      "source": [
        "summation(-2) "
      ],
      "execution_count": null,
      "outputs": [
        {
          "output_type": "stream",
          "name": "stdout",
          "text": [
            "Please, enter nonnegative numbers!\n"
          ]
        }
      ]
    },
    {
      "cell_type": "code",
      "metadata": {
        "colab": {
          "base_uri": "https://localhost:8080/"
        },
        "id": "3ze8xuQAymwR",
        "outputId": "ee6f7e34-c9c1-47cb-9b22-8be30090d4b4"
      },
      "source": [
        "summation(-100)"
      ],
      "execution_count": null,
      "outputs": [
        {
          "output_type": "stream",
          "name": "stdout",
          "text": [
            "Please, enter nonnegative numbers!\n"
          ]
        }
      ]
    },
    {
      "cell_type": "markdown",
      "metadata": {
        "id": "WgSolwI-Y19R"
      },
      "source": [
        "# Task D\n",
        "* Please write a product function but this time with\n",
        "the use of while loop (instead of for loop)."
      ]
    },
    {
      "cell_type": "code",
      "metadata": {
        "id": "0gkywA63Y3qg"
      },
      "source": [
        "def production2(num):   \n",
        "  if num>=0:                          \n",
        "    total = 1\n",
        "    i = 1\n",
        "    while(i<=num):\n",
        "      total = total*i\n",
        "      i = i + 1\n",
        "\n",
        "    return total\n",
        "\n",
        "\n",
        "  else:     \n",
        "    print(\"Factorial function doesn't  work on negative values.\\n \")  \n",
        "    print(\"Please enter nonnegative numbers\") "
      ],
      "execution_count": null,
      "outputs": []
    },
    {
      "cell_type": "code",
      "metadata": {
        "id": "Z9hdu6BmY4bG",
        "colab": {
          "base_uri": "https://localhost:8080/"
        },
        "outputId": "15171d7d-726d-4494-c893-a231c114381c"
      },
      "source": [
        "production2(3)"
      ],
      "execution_count": null,
      "outputs": [
        {
          "output_type": "execute_result",
          "data": {
            "text/plain": [
              "6"
            ]
          },
          "metadata": {},
          "execution_count": 79
        }
      ]
    },
    {
      "cell_type": "code",
      "metadata": {
        "id": "yaP9E40kY4Yg",
        "colab": {
          "base_uri": "https://localhost:8080/"
        },
        "outputId": "3614ea8a-059a-49b4-dd9a-ad69e5908263"
      },
      "source": [
        "production2(4)"
      ],
      "execution_count": null,
      "outputs": [
        {
          "output_type": "execute_result",
          "data": {
            "text/plain": [
              "24"
            ]
          },
          "metadata": {},
          "execution_count": 80
        }
      ]
    },
    {
      "cell_type": "code",
      "metadata": {
        "id": "crYB4dr_Y4VG",
        "colab": {
          "base_uri": "https://localhost:8080/"
        },
        "outputId": "87d07028-c794-4523-f9e5-fc6ed9e9aea2"
      },
      "source": [
        "production2(0) # since I use this function like factorial function 0! equals to 1"
      ],
      "execution_count": null,
      "outputs": [
        {
          "output_type": "execute_result",
          "data": {
            "text/plain": [
              "1"
            ]
          },
          "metadata": {},
          "execution_count": 81
        }
      ]
    },
    {
      "cell_type": "code",
      "metadata": {
        "id": "UoTXF02eY4SX",
        "colab": {
          "base_uri": "https://localhost:8080/"
        },
        "outputId": "6ec336e8-a579-4949-e269-60745b1ac114"
      },
      "source": [
        "production2(-2)"
      ],
      "execution_count": null,
      "outputs": [
        {
          "output_type": "stream",
          "name": "stdout",
          "text": [
            "Factorial function doesn't  work on negative values.\n",
            " \n",
            "Please enter nonnegative numbers\n"
          ]
        }
      ]
    },
    {
      "cell_type": "code",
      "metadata": {
        "id": "VgqCpbpkY4PH",
        "colab": {
          "base_uri": "https://localhost:8080/"
        },
        "outputId": "dc8c4ea5-b4dc-489f-bfb0-f9ee92e44957"
      },
      "source": [
        "production2(-58)"
      ],
      "execution_count": null,
      "outputs": [
        {
          "output_type": "stream",
          "name": "stdout",
          "text": [
            "Factorial function doesn't  work on negative values.\n",
            " \n",
            "Please enter nonnegative numbers\n"
          ]
        }
      ]
    },
    {
      "cell_type": "markdown",
      "metadata": {
        "id": "ZheQ6My5Y5Wz"
      },
      "source": [
        "# Task E\n",
        "* Write a function that will calculate the sum of positive integers between num1 and\n",
        "num2 with the given incrementation value (num3) with the use of a while loop.\n",
        "* For instance:\n",
        "* 5.....15....2\n",
        "* 5 + 7 + 9 + 11 + 13 + 15 = 60\n",
        "* Please provide 5 test conditions and check whether the outputs are as expected or not."
      ]
    },
    {
      "cell_type": "code",
      "metadata": {
        "id": "FzZzu5BJY7wo"
      },
      "source": [
        "def sum_bet(num1, num2, num3):\n",
        "  i = num1\n",
        "  sum = 0\n",
        "  while (i <=num2):\n",
        "    sum = sum + i\n",
        "    i = i + num3\n",
        "    \n",
        "  return sum"
      ],
      "execution_count": null,
      "outputs": []
    },
    {
      "cell_type": "code",
      "metadata": {
        "colab": {
          "base_uri": "https://localhost:8080/"
        },
        "id": "EpsnNXnP4-RS",
        "outputId": "3b3ff62e-8c42-4670-aa3f-4deb8b71bb32"
      },
      "source": [
        "sum_bet(5,10,2)"
      ],
      "execution_count": null,
      "outputs": [
        {
          "output_type": "execute_result",
          "data": {
            "text/plain": [
              "21"
            ]
          },
          "metadata": {},
          "execution_count": 85
        }
      ]
    },
    {
      "cell_type": "code",
      "metadata": {
        "colab": {
          "base_uri": "https://localhost:8080/"
        },
        "id": "9o2cmHmq5BKx",
        "outputId": "e2ba744b-0603-4f72-8781-cec2f5129961"
      },
      "source": [
        "sum_bet(5,11,2)"
      ],
      "execution_count": null,
      "outputs": [
        {
          "output_type": "execute_result",
          "data": {
            "text/plain": [
              "32"
            ]
          },
          "metadata": {},
          "execution_count": 86
        }
      ]
    },
    {
      "cell_type": "code",
      "metadata": {
        "colab": {
          "base_uri": "https://localhost:8080/"
        },
        "id": "hHlzhhzP5KAh",
        "outputId": "c571d732-e61d-4bc0-96ab-9de5b43b7ac3"
      },
      "source": [
        "sum_bet(5,15,2)"
      ],
      "execution_count": null,
      "outputs": [
        {
          "output_type": "execute_result",
          "data": {
            "text/plain": [
              "60"
            ]
          },
          "metadata": {},
          "execution_count": 87
        }
      ]
    },
    {
      "cell_type": "code",
      "metadata": {
        "colab": {
          "base_uri": "https://localhost:8080/"
        },
        "id": "bML-Rb875N_h",
        "outputId": "f3decd9f-8931-4ace-ac5e-73650e72b35d"
      },
      "source": [
        "sum_bet(2,6,1)"
      ],
      "execution_count": null,
      "outputs": [
        {
          "output_type": "execute_result",
          "data": {
            "text/plain": [
              "20"
            ]
          },
          "metadata": {},
          "execution_count": 88
        }
      ]
    },
    {
      "cell_type": "code",
      "metadata": {
        "colab": {
          "base_uri": "https://localhost:8080/"
        },
        "id": "gP6ePTw_5Rbb",
        "outputId": "94e15976-1461-462f-cba1-d5568e7cb6f1"
      },
      "source": [
        "sum_bet(1,5,2)"
      ],
      "execution_count": null,
      "outputs": [
        {
          "output_type": "execute_result",
          "data": {
            "text/plain": [
              "9"
            ]
          },
          "metadata": {},
          "execution_count": 89
        }
      ]
    }
  ]
}