{
  "nbformat": 4,
  "nbformat_minor": 0,
  "metadata": {
    "colab": {
      "name": "UP-DA-W1-S1-GozdeGozutok.ipynb",
      "provenance": []
    },
    "kernelspec": {
      "name": "python3",
      "display_name": "Python 3"
    },
    "language_info": {
      "name": "python"
    }
  },
  "cells": [
    {
      "cell_type": "markdown",
      "metadata": {
        "id": "0jOeMnxz3Qs9"
      },
      "source": [
        "Task A\n",
        "* Please write a function/procedure that will take three input parameters and that will do the following operations: the square of the first parameter multiplied by the difference of the second and third parameters. \n",
        "\n"
      ]
    },
    {
      "cell_type": "code",
      "metadata": {
        "id": "8GSTTZZM3GwY"
      },
      "source": [
        "def three_inputs(a,b,c):   # this function takes three inputs and \n",
        "                           # multiplies square of the first one's with difference of the second and the third one\n",
        "      return (a*a)*(b-c)                   "
      ],
      "execution_count": 1,
      "outputs": []
    },
    {
      "cell_type": "markdown",
      "metadata": {
        "id": "bqZj_qCe7XSD"
      },
      "source": [
        "Testing Conditions"
      ]
    },
    {
      "cell_type": "code",
      "metadata": {
        "colab": {
          "base_uri": "https://localhost:8080/"
        },
        "id": "fkmlMe6X3rtf",
        "outputId": "fb1d42f1-3ba4-463d-e7f8-09158b4b5c01"
      },
      "source": [
        "three_inputs(0,1,2)"
      ],
      "execution_count": 2,
      "outputs": [
        {
          "output_type": "execute_result",
          "data": {
            "text/plain": [
              "0"
            ]
          },
          "metadata": {},
          "execution_count": 2
        }
      ]
    },
    {
      "cell_type": "code",
      "metadata": {
        "colab": {
          "base_uri": "https://localhost:8080/"
        },
        "id": "J0rNPpHZ3wWY",
        "outputId": "3322f21a-4d86-4bf1-c281-e23105c41523"
      },
      "source": [
        "three_inputs(2,1,2)"
      ],
      "execution_count": 3,
      "outputs": [
        {
          "output_type": "execute_result",
          "data": {
            "text/plain": [
              "-4"
            ]
          },
          "metadata": {},
          "execution_count": 3
        }
      ]
    },
    {
      "cell_type": "code",
      "metadata": {
        "colab": {
          "base_uri": "https://localhost:8080/"
        },
        "id": "SfTJnYJy30GH",
        "outputId": "35d093aa-1ca6-476d-88b7-7d89dcd1b4ea"
      },
      "source": [
        "three_inputs(8,2,2)"
      ],
      "execution_count": null,
      "outputs": [
        {
          "output_type": "execute_result",
          "data": {
            "text/plain": [
              "0"
            ]
          },
          "metadata": {},
          "execution_count": 4
        }
      ]
    },
    {
      "cell_type": "code",
      "metadata": {
        "colab": {
          "base_uri": "https://localhost:8080/"
        },
        "id": "JGQSG51f335j",
        "outputId": "e3f6d1f9-e354-4a5c-e1c8-0ad8884072b8"
      },
      "source": [
        "three_inputs(5,3,6)"
      ],
      "execution_count": null,
      "outputs": [
        {
          "output_type": "execute_result",
          "data": {
            "text/plain": [
              "-75"
            ]
          },
          "metadata": {},
          "execution_count": 5
        }
      ]
    },
    {
      "cell_type": "code",
      "metadata": {
        "colab": {
          "base_uri": "https://localhost:8080/"
        },
        "id": "blAjeHbd4UhH",
        "outputId": "192c1744-c1b6-454c-d9c9-0b5d3dbd2219"
      },
      "source": [
        "three_inputs(-2,9,12)"
      ],
      "execution_count": null,
      "outputs": [
        {
          "output_type": "execute_result",
          "data": {
            "text/plain": [
              "-12"
            ]
          },
          "metadata": {},
          "execution_count": 6
        }
      ]
    },
    {
      "cell_type": "code",
      "metadata": {
        "colab": {
          "base_uri": "https://localhost:8080/"
        },
        "id": "oITGsKky4l-X",
        "outputId": "7bd42a6d-3b13-4ef8-917f-6fd25debf61c"
      },
      "source": [
        "three_inputs(15,8,-8)"
      ],
      "execution_count": null,
      "outputs": [
        {
          "output_type": "execute_result",
          "data": {
            "text/plain": [
              "3600"
            ]
          },
          "metadata": {},
          "execution_count": 7
        }
      ]
    },
    {
      "cell_type": "markdown",
      "metadata": {
        "id": "FFQWlhil4w60"
      },
      "source": [
        "to show inputs' orders are important"
      ]
    },
    {
      "cell_type": "code",
      "metadata": {
        "colab": {
          "base_uri": "https://localhost:8080/"
        },
        "id": "EN0uTJt24qDV",
        "outputId": "9a6ad9c6-3e8e-40fb-aba8-87b978602e52"
      },
      "source": [
        "three_inputs(15,-8,8)"
      ],
      "execution_count": null,
      "outputs": [
        {
          "output_type": "execute_result",
          "data": {
            "text/plain": [
              "-3600"
            ]
          },
          "metadata": {},
          "execution_count": 8
        }
      ]
    },
    {
      "cell_type": "markdown",
      "metadata": {
        "id": "jlwDshPpVHRG"
      },
      "source": [
        "Task B\n",
        "* You are supposed to write a function that will determine whether an input number is divisible by 2 or 5. The return value should be True or False.\n",
        "\n",
        "If A\n",
        "\n",
        "elif B\n",
        "\n",
        "else"
      ]
    },
    {
      "cell_type": "code",
      "metadata": {
        "id": "od7wuFonVR1M"
      },
      "source": [
        "def is_divisible_2_or_5(num):        # this function return true if number is divisible by 2 or 5.\n",
        "  if num%2==0:\n",
        "    return True\n",
        "  elif num%5==0:\n",
        "    return True\n",
        "  else:\n",
        "    return False"
      ],
      "execution_count": 4,
      "outputs": []
    },
    {
      "cell_type": "code",
      "metadata": {
        "colab": {
          "base_uri": "https://localhost:8080/"
        },
        "id": "pkexrw5eVdZ_",
        "outputId": "2975eaec-acba-4a5a-a98f-ff6a9f376375"
      },
      "source": [
        "is_divisible_2_or_5(3)"
      ],
      "execution_count": 5,
      "outputs": [
        {
          "output_type": "execute_result",
          "data": {
            "text/plain": [
              "False"
            ]
          },
          "metadata": {},
          "execution_count": 5
        }
      ]
    },
    {
      "cell_type": "code",
      "metadata": {
        "colab": {
          "base_uri": "https://localhost:8080/"
        },
        "id": "MJ30akyKVfMr",
        "outputId": "3ca7fb35-a9f8-4449-94a6-415540845fc0"
      },
      "source": [
        "is_divisible_2_or_5(5)"
      ],
      "execution_count": 6,
      "outputs": [
        {
          "output_type": "execute_result",
          "data": {
            "text/plain": [
              "True"
            ]
          },
          "metadata": {},
          "execution_count": 6
        }
      ]
    },
    {
      "cell_type": "code",
      "metadata": {
        "colab": {
          "base_uri": "https://localhost:8080/"
        },
        "id": "uhOqf09IVhhB",
        "outputId": "2017f1ab-3e00-4d1d-d556-f42750eb3e40"
      },
      "source": [
        "is_divisible_2_or_5(2)"
      ],
      "execution_count": 7,
      "outputs": [
        {
          "output_type": "execute_result",
          "data": {
            "text/plain": [
              "True"
            ]
          },
          "metadata": {},
          "execution_count": 7
        }
      ]
    },
    {
      "cell_type": "code",
      "metadata": {
        "colab": {
          "base_uri": "https://localhost:8080/"
        },
        "id": "gbmUn3u5VjcT",
        "outputId": "f96f3f25-594b-482f-8e81-79e16bd1972b"
      },
      "source": [
        "is_divisible_2_or_5(15)"
      ],
      "execution_count": 8,
      "outputs": [
        {
          "output_type": "execute_result",
          "data": {
            "text/plain": [
              "True"
            ]
          },
          "metadata": {},
          "execution_count": 8
        }
      ]
    },
    {
      "cell_type": "code",
      "metadata": {
        "colab": {
          "base_uri": "https://localhost:8080/"
        },
        "id": "KCA4objvVl2v",
        "outputId": "ddf2a87d-6e7c-4408-e15b-99f8886739ae"
      },
      "source": [
        "is_divisible_2_or_5(10)"
      ],
      "execution_count": 9,
      "outputs": [
        {
          "output_type": "execute_result",
          "data": {
            "text/plain": [
              "True"
            ]
          },
          "metadata": {},
          "execution_count": 9
        }
      ]
    },
    {
      "cell_type": "markdown",
      "metadata": {
        "id": "kludHYTDWMhZ"
      },
      "source": [
        "Task C\n",
        "* You are supposed to write a function that will determine whether an input number is divisible by 2 or 5. The return value should be True or False.\n",
        "\n",
        "if A or B:\n",
        "\n",
        "return True\n",
        "\n",
        "Else:\n",
        "\n",
        "Return False\n"
      ]
    },
    {
      "cell_type": "code",
      "metadata": {
        "id": "v4wlZu0EWPBj"
      },
      "source": [
        "def is_divisible_10(num):      # A booelan function determines which number is divisible by 2 or 5\n",
        "  if (num%2==0) or (num%5==0):\n",
        "    return True\n",
        "  else:\n",
        "    return False"
      ],
      "execution_count": 10,
      "outputs": []
    },
    {
      "cell_type": "code",
      "metadata": {
        "colab": {
          "base_uri": "https://localhost:8080/"
        },
        "id": "ykU-G3S9WlTX",
        "outputId": "90d45fc0-d9d0-4267-a462-14dc3c122332"
      },
      "source": [
        "is_divisible_10(5)"
      ],
      "execution_count": 11,
      "outputs": [
        {
          "output_type": "execute_result",
          "data": {
            "text/plain": [
              "True"
            ]
          },
          "metadata": {},
          "execution_count": 11
        }
      ]
    },
    {
      "cell_type": "code",
      "metadata": {
        "colab": {
          "base_uri": "https://localhost:8080/"
        },
        "id": "aDXj6_u0WnGm",
        "outputId": "63c27273-4ccf-4bc2-b7ac-a8f869977545"
      },
      "source": [
        "is_divisible_10(2)"
      ],
      "execution_count": 12,
      "outputs": [
        {
          "output_type": "execute_result",
          "data": {
            "text/plain": [
              "True"
            ]
          },
          "metadata": {},
          "execution_count": 12
        }
      ]
    },
    {
      "cell_type": "code",
      "metadata": {
        "colab": {
          "base_uri": "https://localhost:8080/"
        },
        "id": "Iu4OVvVuWpbY",
        "outputId": "30affcf7-417e-4d83-cf84-3c8130e6636a"
      },
      "source": [
        "is_divisible_10(33)"
      ],
      "execution_count": 13,
      "outputs": [
        {
          "output_type": "execute_result",
          "data": {
            "text/plain": [
              "False"
            ]
          },
          "metadata": {},
          "execution_count": 13
        }
      ]
    },
    {
      "cell_type": "code",
      "metadata": {
        "colab": {
          "base_uri": "https://localhost:8080/"
        },
        "id": "k4ZXgKKeWrNa",
        "outputId": "a343e6c1-60bf-48a6-ea42-071cba41cc96"
      },
      "source": [
        "is_divisible_10(-20)"
      ],
      "execution_count": 14,
      "outputs": [
        {
          "output_type": "execute_result",
          "data": {
            "text/plain": [
              "True"
            ]
          },
          "metadata": {},
          "execution_count": 14
        }
      ]
    },
    {
      "cell_type": "code",
      "metadata": {
        "colab": {
          "base_uri": "https://localhost:8080/"
        },
        "id": "WrWK4jWlWtP_",
        "outputId": "34d1205f-a8ae-43b3-d97f-7fb79da98f56"
      },
      "source": [
        "is_divisible_10(-9)"
      ],
      "execution_count": 15,
      "outputs": [
        {
          "output_type": "execute_result",
          "data": {
            "text/plain": [
              "False"
            ]
          },
          "metadata": {},
          "execution_count": 15
        }
      ]
    },
    {
      "cell_type": "markdown",
      "metadata": {
        "id": "S1nKTo23WyzR"
      },
      "source": [
        "Task D\n",
        "* You are supposed to write a function that will determine whether an input number is divisible by 2 or 5. The return value should be True or False."
      ]
    },
    {
      "cell_type": "code",
      "metadata": {
        "id": "_i3coyKCW-4Q"
      },
      "source": [
        "def is_divisible_2_or_5(num):         # when number is divisible by 2 or 5 it returns true otherwise it returns false\n",
        "  return (num%2==0) or (num%5==0)"
      ],
      "execution_count": 16,
      "outputs": []
    },
    {
      "cell_type": "code",
      "metadata": {
        "colab": {
          "base_uri": "https://localhost:8080/"
        },
        "id": "TjU9mCuYXOZt",
        "outputId": "f7b8f7b7-fc21-46ce-c503-680a831858d0"
      },
      "source": [
        "is_divisible_2_or_5(99)"
      ],
      "execution_count": 17,
      "outputs": [
        {
          "output_type": "execute_result",
          "data": {
            "text/plain": [
              "False"
            ]
          },
          "metadata": {},
          "execution_count": 17
        }
      ]
    },
    {
      "cell_type": "code",
      "metadata": {
        "colab": {
          "base_uri": "https://localhost:8080/"
        },
        "id": "KzWCsNU0XOT1",
        "outputId": "2709cc97-d02c-4939-da71-c47cb1957705"
      },
      "source": [
        "is_divisible_2_or_5(-100)"
      ],
      "execution_count": 18,
      "outputs": [
        {
          "output_type": "execute_result",
          "data": {
            "text/plain": [
              "True"
            ]
          },
          "metadata": {},
          "execution_count": 18
        }
      ]
    },
    {
      "cell_type": "code",
      "metadata": {
        "colab": {
          "base_uri": "https://localhost:8080/"
        },
        "id": "GHmk3MxOXOPV",
        "outputId": "2ed0cd7b-dada-4f9f-af09-f66945da5f9c"
      },
      "source": [
        "is_divisible_2_or_5(-73)"
      ],
      "execution_count": 19,
      "outputs": [
        {
          "output_type": "execute_result",
          "data": {
            "text/plain": [
              "False"
            ]
          },
          "metadata": {},
          "execution_count": 19
        }
      ]
    },
    {
      "cell_type": "code",
      "metadata": {
        "colab": {
          "base_uri": "https://localhost:8080/"
        },
        "id": "XhPoox2jXTF6",
        "outputId": "15076bf1-d560-4622-e85c-55e7ff293264"
      },
      "source": [
        "is_divisible_2_or_5(80)"
      ],
      "execution_count": 20,
      "outputs": [
        {
          "output_type": "execute_result",
          "data": {
            "text/plain": [
              "True"
            ]
          },
          "metadata": {},
          "execution_count": 20
        }
      ]
    }
  ]
}