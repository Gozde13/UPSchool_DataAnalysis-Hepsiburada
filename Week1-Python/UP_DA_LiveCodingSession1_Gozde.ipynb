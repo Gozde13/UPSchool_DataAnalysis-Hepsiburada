{
  "nbformat": 4,
  "nbformat_minor": 0,
  "metadata": {
    "colab": {
      "name": "UP-DA-LiveCodingSession1-Gozde.ipynb",
      "provenance": [],
      "collapsed_sections": []
    },
    "kernelspec": {
      "name": "python3",
      "display_name": "Python 3"
    },
    "language_info": {
      "name": "python"
    }
  },
  "cells": [
    {
      "cell_type": "markdown",
      "metadata": {
        "id": "Z86vVN4sDmV4"
      },
      "source": [
        "Live Code Session-1"
      ]
    },
    {
      "cell_type": "code",
      "metadata": {
        "colab": {
          "base_uri": "https://localhost:8080/"
        },
        "id": "4ZCbTSpJDsQN",
        "outputId": "8dff1b7e-f3fe-4ab2-e1f5-2a77430c28b3"
      },
      "source": [
        "name = input('What is your name?\\n')\n",
        "surname = input('What is your surname?\\n')\n",
        "print('Hello, '+ name + ' '+ surname) "
      ],
      "execution_count": null,
      "outputs": [
        {
          "output_type": "stream",
          "name": "stdout",
          "text": [
            "What is your name?\n",
            "Gozde\n",
            "What is your surname?\n",
            "Gozutok\n",
            "Hello, Gozde Gozutok\n"
          ]
        }
      ]
    },
    {
      "cell_type": "markdown",
      "metadata": {
        "id": "jgxpr7ifEbT2"
      },
      "source": [
        "Please get three input integer numbers from the user and \n",
        "\n",
        "add the first two numbers and then multiply by the third one and print the  result."
      ]
    },
    {
      "cell_type": "code",
      "metadata": {
        "colab": {
          "base_uri": "https://localhost:8080/"
        },
        "id": "HAas3JR_EmEx",
        "outputId": "97aca288-597c-4dfd-802b-7567144b7dfe"
      },
      "source": [
        "num1 = int(input('Enter the first number \\n'))\n",
        "num2 = int(input('Enter the second number \\n'))\n",
        "num3 = int(input('Enter the third number \\n'))\n",
        "\n",
        "result = str((num1+num2)*num3)\n",
        "print('The result is: '+ result) # add first two numbers and then multiplies with the third one.\n"
      ],
      "execution_count": null,
      "outputs": [
        {
          "output_type": "stream",
          "name": "stdout",
          "text": [
            "Enter the first number \n",
            "12\n",
            "Enter the second number \n",
            "12\n",
            "Enter the third number \n",
            "2\n",
            " The result is: 48\n"
          ]
        }
      ]
    },
    {
      "cell_type": "markdown",
      "metadata": {
        "id": "KGdn98jUF3IF"
      },
      "source": [
        "Same question above this time with a function"
      ]
    },
    {
      "cell_type": "code",
      "metadata": {
        "colab": {
          "base_uri": "https://localhost:8080/"
        },
        "id": "VwLcj6y2F2sR",
        "outputId": "6f456876-ab72-48e3-8916-67dfd0e0bc3c"
      },
      "source": [
        "num1=int(input(' get the first number: '))   # we get three numbers to compute to function\n",
        "num2=int(input(' get the second number: '))\n",
        "num3=int(input(' get the third number: '))\n",
        "\n",
        "def three_num(a,b,c):    # This function takes three inputs, add first two and multply with third one\n",
        "  num4 = (a+b)*(c)\n",
        "  return num4\n",
        "\n",
        "\n",
        "three_num(num1,num2,num3)"
      ],
      "execution_count": null,
      "outputs": [
        {
          "name": "stdout",
          "output_type": "stream",
          "text": [
            " get the first number: 12\n",
            " get the second number: 12\n",
            " get the third number: 2\n"
          ]
        },
        {
          "output_type": "execute_result",
          "data": {
            "text/plain": [
              "48"
            ]
          },
          "metadata": {},
          "execution_count": 11
        }
      ]
    },
    {
      "cell_type": "code",
      "metadata": {
        "colab": {
          "base_uri": "https://localhost:8080/"
        },
        "id": "I4BTcwbZI2ay",
        "outputId": "782366f9-7333-45c9-d69a-1f5f27ac339b"
      },
      "source": [
        "three_num(-5,5,10)"
      ],
      "execution_count": null,
      "outputs": [
        {
          "output_type": "execute_result",
          "data": {
            "text/plain": [
              "0"
            ]
          },
          "metadata": {},
          "execution_count": 19
        }
      ]
    },
    {
      "cell_type": "markdown",
      "metadata": {
        "id": "UXneEMzDHDff"
      },
      "source": [
        "Write a remainder function without using remainder operator"
      ]
    },
    {
      "cell_type": "code",
      "metadata": {
        "colab": {
          "base_uri": "https://localhost:8080/"
        },
        "id": "FJBLlBBMHIw3",
        "outputId": "3d022d58-b284-4282-e1aa-4d68d1294dea"
      },
      "source": [
        "def remainder(num1, num2):                     # remainder function takes two numbers and finds the remainder.\n",
        "  remainder = num1-num2*(num1//num2)\n",
        "  return remainder\n",
        "\n",
        "num1 = int(input('Enter the first number\\n'))\n",
        "num2 = int(input('Enter the second number\\n'))\n",
        "\n",
        "remainder(num1, num2)"
      ],
      "execution_count": null,
      "outputs": [
        {
          "name": "stdout",
          "output_type": "stream",
          "text": [
            "Enter the first number\n",
            "15\n",
            "Enter the second number\n",
            "4\n"
          ]
        },
        {
          "output_type": "execute_result",
          "data": {
            "text/plain": [
              "3"
            ]
          },
          "metadata": {},
          "execution_count": 13
        }
      ]
    },
    {
      "cell_type": "markdown",
      "metadata": {
        "id": "8DVd42QrH92X"
      },
      "source": [
        "Write a function that search for a positive number, negative number or zero"
      ]
    },
    {
      "cell_type": "code",
      "metadata": {
        "colab": {
          "base_uri": "https://localhost:8080/"
        },
        "id": "aT2L-ef5hRa7",
        "outputId": "3859772a-3477-4368-ef42-e2b4b17bdd10"
      },
      "source": [
        "def sign(num):             # sign function takes one input and find which number is positive, negative or zero.\n",
        "  if(num>0):\n",
        "    print('Positive')\n",
        "  elif(num==0):\n",
        "    print('Zero')\n",
        "  else:\n",
        "    print('Negative')\n",
        "\n",
        "sign(78) # to test when numbers are positive"
      ],
      "execution_count": null,
      "outputs": [
        {
          "output_type": "stream",
          "name": "stdout",
          "text": [
            "Positive\n"
          ]
        }
      ]
    },
    {
      "cell_type": "code",
      "metadata": {
        "colab": {
          "base_uri": "https://localhost:8080/"
        },
        "id": "Ak4pVsGQIa2o",
        "outputId": "a0d718c0-0d5e-40e3-d5d2-0105000fc256"
      },
      "source": [
        "sign(-89)   # to test when numbers are negative"
      ],
      "execution_count": null,
      "outputs": [
        {
          "output_type": "stream",
          "name": "stdout",
          "text": [
            "Negative\n"
          ]
        }
      ]
    },
    {
      "cell_type": "code",
      "metadata": {
        "colab": {
          "base_uri": "https://localhost:8080/"
        },
        "id": "35m1URqzIiZb",
        "outputId": "86027b88-ca3e-4b71-c93b-26d7a9873e38"
      },
      "source": [
        "sign(0) #to test function works properly when number is zero"
      ],
      "execution_count": null,
      "outputs": [
        {
          "output_type": "stream",
          "name": "stdout",
          "text": [
            "Zero\n"
          ]
        }
      ]
    }
  ]
}