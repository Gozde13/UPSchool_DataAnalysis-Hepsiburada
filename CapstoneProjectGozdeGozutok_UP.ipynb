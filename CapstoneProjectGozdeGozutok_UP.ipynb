{
  "nbformat": 4,
  "nbformat_minor": 0,
  "metadata": {
    "colab": {
      "name": "CapstoneProjectGozdeGozutok.ipynb",
      "provenance": []
    },
    "kernelspec": {
      "name": "python3",
      "display_name": "Python 3"
    },
    "language_info": {
      "name": "python"
    }
  },
  "cells": [
    {
      "cell_type": "markdown",
      "source": [
        "## Link of the Capstone Project in google colab\n",
        "### since size was large I dind't put the ipynb file here"
      ],
      "metadata": {
        "id": "YUYN_FR3vR_c"
      }
    },
    {
      "cell_type": "markdown",
      "source": [
        "https://colab.research.google.com/drive/1QFjKxtJ6u0hQPVonCcaZRa04neQhSuLB"
      ],
      "metadata": {
        "id": "5-y1OYTbvObr"
      }
    }
  ]
}