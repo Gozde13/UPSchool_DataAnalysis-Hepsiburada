{
  "nbformat": 4,
  "nbformat_minor": 0,
  "metadata": {
    "colab": {
      "name": "CapstoneProjectGozdeGozutok.ipynb",
      "provenance": []
    },
    "kernelspec": {
      "name": "python3",
      "display_name": "Python 3"
    },
    "language_info": {
      "name": "python"
    }
  },
  "cells": [
    {
      "cell_type": "markdown",
      "source": [
        "## Capstone Project Link"
      ],
      "metadata": {
        "id": "VbdnpV_H5iZQ"
      }
    },
    {
      "cell_type": "markdown",
      "source": [
        "https://colab.research.google.com/drive/1mdkpLpUhO-A_O-k2D4emj0dPIWBxKNUr#scrollTo=d0175460#"
      ],
      "metadata": {
        "id": "y6p9sKNZ6U2e"
      }
    }
  ]
}