{
  "nbformat": 4,
  "nbformat_minor": 0,
  "metadata": {
    "colab": {
      "name": "LiveCodeSession5 AnswerKey.ipynb",
      "provenance": []
    },
    "kernelspec": {
      "name": "python3",
      "display_name": "Python 3"
    },
    "language_info": {
      "name": "python"
    }
  },
  "cells": [
    {
      "cell_type": "code",
      "metadata": {
        "colab": {
          "base_uri": "https://localhost:8080/"
        },
        "id": "dz9tR0lQs3nY",
        "outputId": "3468d69f-b4ab-4ff7-aeb1-19d2eb6f15ac"
      },
      "source": [
        "#TASK-A\n",
        "\"\"\"TASK 5A: Array outlier finder and deleter.\n",
        "\n",
        "1D numpy array (of size 99) filled with random numbers between 1.1 and 3.9\n",
        "Write a function that takes an array and do the following operations:\n",
        "if >mean + 2 * std : remove nan (np.nan)\n",
        "\n",
        "if <mean - 2 * std : replace by nan values\n",
        "\n",
        "Get into a function\"\"\"\n",
        "\n",
        "import numpy as np\n",
        "wanted_array=np.random.uniform(1.1,3.9,size=(99)) #creates an multidimensional array which has float numbers between 1.1 and 3.9\n",
        "# Different values are given so that the last two values of the array are outliers.\n",
        "wanted_array[97]=97 #97th index's value is changed\n",
        "wanted_array[98]=98 #98th index's value is changed\n",
        "print(wanted_array) # multidimensional array is printed on the console.\n",
        "\n",
        "print(\"\\n--------------------------------------------------------------------\\n\")\n",
        "\n",
        "def find_outlier(arr): # outliers are defined and returns as a nan in the given array \n",
        "    arr[arr > np.mean(arr) + 3 * np.std(arr)] = np.nan\n",
        "    arr[arr < np.mean(arr) - 3 * np.std(arr)] = np.nan\n",
        "    return arr\n",
        "\n",
        "print(find_outlier(wanted_array))"
      ],
      "execution_count": null,
      "outputs": [
        {
          "output_type": "stream",
          "name": "stdout",
          "text": [
            "[ 2.27376619  2.38027698  2.2209957   2.97050926  1.27242724  3.87088477\n",
            "  2.64083391  2.80260607  2.05764712  2.79894247  2.13786049  3.01304658\n",
            "  3.78232518  2.0306151   3.47733475  3.07202921  1.6344833   1.96824652\n",
            "  3.74747782  1.81534483  3.7876413   1.6019221   2.7176543   1.65964921\n",
            "  3.28728594  1.15023858  2.2232001   1.29570262  2.61645109  1.1711635\n",
            "  2.60594307  2.35703743  2.60342882  1.32557294  2.81461998  3.69448654\n",
            "  2.41665255  2.89760785  1.64259962  3.2068534   3.62630431  1.95914521\n",
            "  1.28737176  3.36787441  3.6446169   2.70935497  3.78468847  3.25460726\n",
            "  1.48923269  2.2982945   1.66835465  3.59293986  1.5622238   1.90850425\n",
            "  3.32668546  2.5773841   2.63790431  2.72994269  3.19766608  3.74579746\n",
            "  2.57901057  2.91143912  2.40135638  1.34009313  1.89837523  2.06542776\n",
            "  2.35520079  3.0052783   1.54876146  2.02897986  2.20589354  2.2510363\n",
            "  3.11613907  3.8027562   1.66698227  2.23817506  1.92681224  3.03706755\n",
            "  2.96403682  3.47079993  3.51738508  2.10471524  3.51078833  2.82167721\n",
            "  2.18218341  1.38012313  1.8330495   1.75251125  1.62231564  3.28945894\n",
            "  1.38386264  1.36850357  2.10597211  3.6476708   2.37460399  1.26551778\n",
            "  2.07692506 97.         98.        ]\n",
            "\n",
            "--------------------------------------------------------------------\n",
            "\n",
            "[2.27376619 2.38027698 2.2209957  2.97050926 1.27242724 3.87088477\n",
            " 2.64083391 2.80260607 2.05764712 2.79894247 2.13786049 3.01304658\n",
            " 3.78232518 2.0306151  3.47733475 3.07202921 1.6344833  1.96824652\n",
            " 3.74747782 1.81534483 3.7876413  1.6019221  2.7176543  1.65964921\n",
            " 3.28728594 1.15023858 2.2232001  1.29570262 2.61645109 1.1711635\n",
            " 2.60594307 2.35703743 2.60342882 1.32557294 2.81461998 3.69448654\n",
            " 2.41665255 2.89760785 1.64259962 3.2068534  3.62630431 1.95914521\n",
            " 1.28737176 3.36787441 3.6446169  2.70935497 3.78468847 3.25460726\n",
            " 1.48923269 2.2982945  1.66835465 3.59293986 1.5622238  1.90850425\n",
            " 3.32668546 2.5773841  2.63790431 2.72994269 3.19766608 3.74579746\n",
            " 2.57901057 2.91143912 2.40135638 1.34009313 1.89837523 2.06542776\n",
            " 2.35520079 3.0052783  1.54876146 2.02897986 2.20589354 2.2510363\n",
            " 3.11613907 3.8027562  1.66698227 2.23817506 1.92681224 3.03706755\n",
            " 2.96403682 3.47079993 3.51738508 2.10471524 3.51078833 2.82167721\n",
            " 2.18218341 1.38012313 1.8330495  1.75251125 1.62231564 3.28945894\n",
            " 1.38386264 1.36850357 2.10597211 3.6476708  2.37460399 1.26551778\n",
            " 2.07692506        nan        nan]\n"
          ]
        }
      ]
    },
    {
      "cell_type": "code",
      "metadata": {
        "colab": {
          "base_uri": "https://localhost:8080/"
        },
        "id": "_-4riaplvJPF",
        "outputId": "78dffd6e-d2db-43da-975e-a30b427a9363"
      },
      "source": [
        "#TASK-B\n",
        "#Please write a function that will take a 1D array and replace the nan values by the mean of the array.\n",
        "\n",
        "def convert_nan_to_mean(array):  # this method changes nan values to mean value of the array.\n",
        "  mean_array = np.nanmean(array)\n",
        "  array[np.isnan(array)]=mean_array\n",
        "  return array\n",
        "\n",
        "\n",
        "\n",
        "arr=np.random.uniform(1.1,3.9,size=(99))\n",
        "convert_nan_to_mean(find_outlier(arr)) #this gives array after finding outliers then changing them with the mean value.\n",
        "\n",
        "\n",
        "\n",
        "\n"
      ],
      "execution_count": null,
      "outputs": [
        {
          "output_type": "execute_result",
          "data": {
            "text/plain": [
              "array([2.4060383 , 1.78823465, 1.73842103, 1.81030767, 3.39216157,\n",
              "       1.93840158, 2.88464792, 2.08128594, 1.11757176, 3.00904483,\n",
              "       3.2582655 , 2.15056025, 1.11836719, 2.64816989, 3.85988926,\n",
              "       1.29809426, 1.19227131, 3.87398573, 2.67919017, 3.39958654,\n",
              "       2.21853733, 2.73068473, 1.94131377, 2.5418663 , 2.66237927,\n",
              "       1.48024062, 3.25970356, 2.21178205, 2.43298531, 2.39102733,\n",
              "       1.81001141, 3.119768  , 3.1932523 , 2.36673532, 3.50295231,\n",
              "       2.54444736, 1.38596219, 2.19864337, 2.73492371, 3.24964359,\n",
              "       1.55496405, 3.83939708, 3.79221224, 3.59571566, 1.91308468,\n",
              "       2.70991789, 2.14390403, 2.72226169, 3.42091131, 2.52633396,\n",
              "       3.16482254, 3.75851315, 3.31340418, 3.68202031, 2.06674866,\n",
              "       2.48522442, 3.73523052, 3.53751193, 2.36009356, 1.5051271 ,\n",
              "       2.83543317, 2.71403674, 3.03442864, 3.4055309 , 3.36260183,\n",
              "       2.40084893, 1.58119696, 2.75630619, 3.89461226, 1.63923352,\n",
              "       3.49750195, 2.08125226, 3.47033216, 2.81885121, 2.17688275,\n",
              "       1.83841857, 1.1320148 , 2.73909507, 2.43978907, 1.8510701 ,\n",
              "       1.101817  , 3.53412761, 2.1300989 , 2.6977689 , 3.68836649,\n",
              "       1.83416427, 1.42541536, 1.13454685, 1.39052366, 2.82801622,\n",
              "       3.63998737, 2.15243746, 1.42654874, 3.54330103, 2.1001947 ,\n",
              "       3.72629201, 3.31541147, 2.3449766 , 2.44135724])"
            ]
          },
          "metadata": {},
          "execution_count": 7
        }
      ]
    },
    {
      "cell_type": "code",
      "metadata": {
        "id": "WNszGDtMxxNq"
      },
      "source": [
        "#TASK-C\n",
        "\"\"\"If a distribution is non normal, how do we determine the outliers? (using median and iqr)\n",
        "\n",
        "median\n",
        "\n",
        "IQR = Q3-Q1(interquartile range)\n",
        "\n",
        "media + 1.5* IQR\n",
        "\n",
        "median -1.5*IQR\n",
        "\n",
        "change outlier values to nan\"\"\"\n",
        "\n",
        "def detecting_outlier(array):  #this function provides specifiying outliers by using iqr and median value.\n",
        "  iqr = np.percentile(array, 75)- np.percentile(array, 25)  # this gives the interquartile range.\n",
        "  #these provides obtaining nan when any outlier is found.\n",
        "  array[array> np.median(array)+1.5*iqr]=np.nan \n",
        "  array[array> np.median(array)-1.5*iqr]=np.nan\n",
        "  return array"
      ],
      "execution_count": null,
      "outputs": []
    },
    {
      "cell_type": "code",
      "metadata": {
        "id": "83_k5Ccnzfir"
      },
      "source": [
        "#TASK-D\n",
        "#Use a similar function as in Task C but this time do it with a for loop.\n",
        "\n",
        "def detecting_outlier_2(array):   #this function provides specifiying outliers by using iqr and median value.\n",
        "  iqr = np.percentile(array, 75)- np.percentile(array, 25)  # this gives the interquartile range.\n",
        "  median = np.nanmedian(array) \n",
        "   #with using this for loop, we checks all the elements in the array and if the element in the array is greater than or equal to the given value, they are changed with nan.\n",
        "  for i in range(len(array)):\n",
        "    if array[i]> (median + 1.5*iqr):\n",
        "      array[i]=np.nan\n",
        "    elif array[i]< (median-1.5*iqr):\n",
        "      array[i]=np.nan\n",
        "\n",
        "  return array\n",
        "\n"
      ],
      "execution_count": null,
      "outputs": []
    },
    {
      "cell_type": "code",
      "metadata": {
        "id": "SQppKfoe01DR"
      },
      "source": [
        "#TASK-E\n",
        "#Write the function in task A and B with using for loops in a new single function.\n",
        "\n",
        "def find_outlier2(arr): # outliers are defined and returns as a nan in the given array \n",
        "mean_arr = np.nanmean(array) #that gives the mean value of the array\n",
        "  std_arr = np.nanstd(array)\n",
        "  for i in range(len(array)):\n",
        "    if array[i] > mean_arr + 3*std_arr :\n",
        "      array[i]= np.nan\n",
        "    elif  array[i] < mean_arr- 3*std_arr:\n",
        "      array[i]= np.nan \n",
        "\n",
        "  return array\n",
        "\n",
        "\n",
        "\n",
        "def convert_nan_to_mean2(array):  # this method changes nan values to mean value of the array.\n",
        "  mean_arr = np.nanmean(array)\n",
        "  #with using loop, all the array is scanned and when an outlier is obtained, that will be changed with mean value of the array.\n",
        "  for i in range (len(array)):\n",
        "    if np.isnan(array[i]):\n",
        "      array[i]=mean_arr\n",
        "\n",
        "  return array"
      ],
      "execution_count": null,
      "outputs": []
    }
  ]
}