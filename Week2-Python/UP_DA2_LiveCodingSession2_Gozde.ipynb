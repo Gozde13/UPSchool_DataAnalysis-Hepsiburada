{
  "nbformat": 4,
  "nbformat_minor": 0,
  "metadata": {
    "colab": {
      "name": "UP-DA2-LiveCodingSession2-Gozde.ipynb",
      "provenance": []
    },
    "kernelspec": {
      "name": "python3",
      "display_name": "Python 3"
    },
    "language_info": {
      "name": "python"
    }
  },
  "cells": [
    {
      "cell_type": "markdown",
      "metadata": {
        "id": "Gn7RBvv9oKLL"
      },
      "source": [
        "TASK-A: Please provide a list of integers that are prime numbers from 1 to 1000.\n",
        "- You need a Boolean prime number function that will determine whether an input number is prime\n",
        "or not.\n",
        "- You need an initially empty list and you need to add the prime numbers one-by-one.\n",
        "prime_list = []\n",
        "- Then please try to optimize your code in terms of efficiency (remove the redundant operations as\n",
        "many as possible."
      ]
    },
    {
      "cell_type": "code",
      "metadata": {
        "colab": {
          "base_uri": "https://localhost:8080/"
        },
        "id": "P8bUngPgoO3q",
        "outputId": "37b4ba31-5090-474b-b6ce-2e0380196990"
      },
      "source": [
        "def is_prime(num):                    # this function tries to find the given number prime or not\n",
        "    for i in range(3, int(num/2)):    # but for simlicity just looks for the half of the number\n",
        "        if(num%i==0):\n",
        "            return False\n",
        "\n",
        "    return True\n",
        "\n",
        "prime_list = [2]                     # since there is one even prime number, I added 2 to this list.\n",
        "\n",
        "for i in range (3,1000,2):           # I looked only odd numbers so I incremented 2 number starting from 3\n",
        "    if is_prime(i):                   # with is_prime() we find prime numbers and finally add to prime_list[]\n",
        "        prime_list.append(i)         \n",
        "\n",
        "print(prime_list)"
      ],
      "execution_count": null,
      "outputs": [
        {
          "output_type": "stream",
          "name": "stdout",
          "text": [
            "[2, 3, 5, 7, 11, 13, 17, 19, 23, 29, 31, 37, 41, 43, 47, 53, 59, 61, 67, 71, 73, 79, 83, 89, 97, 101, 103, 107, 109, 113, 127, 131, 137, 139, 149, 151, 157, 163, 167, 173, 179, 181, 191, 193, 197, 199, 211, 223, 227, 229, 233, 239, 241, 251, 257, 263, 269, 271, 277, 281, 283, 293, 307, 311, 313, 317, 331, 337, 347, 349, 353, 359, 367, 373, 379, 383, 389, 397, 401, 409, 419, 421, 431, 433, 439, 443, 449, 457, 461, 463, 467, 479, 487, 491, 499, 503, 509, 521, 523, 541, 547, 557, 563, 569, 571, 577, 587, 593, 599, 601, 607, 613, 617, 619, 631, 641, 643, 647, 653, 659, 661, 673, 677, 683, 691, 701, 709, 719, 727, 733, 739, 743, 751, 757, 761, 769, 773, 787, 797, 809, 811, 821, 823, 827, 829, 839, 853, 857, 859, 863, 877, 881, 883, 887, 907, 911, 919, 929, 937, 941, 947, 953, 967, 971, 977, 983, 991, 997]\n"
          ]
        }
      ]
    },
    {
      "cell_type": "markdown",
      "metadata": {
        "id": "0goIgNYxpOzM"
      },
      "source": [
        "TASK-B: Please provide a list of the first 5 perfect numbers. Perfect numbers are \n",
        "- You need to write a Boolean function that will determine whether a given number is perfect or not.\n",
        "- You need an empty list that will be filled up with the first 7 perfect numbers.\n",
        "- Optimization is always the main key for coding.\n",
        "\"\"\""
      ]
    },
    {
      "cell_type": "code",
      "metadata": {
        "id": "UOr8dhDjpb-i",
        "colab": {
          "base_uri": "https://localhost:8080/"
        },
        "outputId": "7973c52d-f32e-43f9-9225-c0c51c251312"
      },
      "source": [
        "def is_perfect(num):  # this function tries to find the number is perfect or not\n",
        "            sum = 1\n",
        "            for i in range(2,num):\n",
        "                if (num % i == 0):  # if number is divisible by i, it adds to sum value\n",
        "                    sum = sum + i\n",
        "            return sum == num  # if sum value equals to entered number then number perfect number\n",
        "\n",
        "perfect_list = []                     # I created empty list called perfect_list[]\n",
        "\n",
        "i=2\n",
        "while (len(perfect_list)<4):           # I will look only len(perfect_list)=5, since in the qustion ask for length is 5\n",
        "    if is_perfect(i):                   # with is_prime() we find prime numbers and finally add to prime_list[]\n",
        "        perfect_list.append(i)             \n",
        "    i = i + 2\n",
        "\n",
        "print(perfect_list)  "
      ],
      "execution_count": null,
      "outputs": [
        {
          "output_type": "stream",
          "name": "stdout",
          "text": [
            "[6, 28, 496, 8128]\n"
          ]
        }
      ]
    },
    {
      "cell_type": "markdown",
      "metadata": {
        "id": "KdZVExQ2vJVP"
      },
      "source": [
        "\n",
        "TASK-C: Please write a function that will calculate the product of digits of a given number.\n",
        "Then it should check whether it is equal to the given number. \n",
        "Then please provide a list of these numbers from 1 to 1000.\n",
        "It should include these integers: 1, 2, 3, 4, 5, 6, 7, 8, 9"
      ]
    },
    {
      "cell_type": "code",
      "metadata": {
        "id": "6--iMdfdvM39",
        "colab": {
          "base_uri": "https://localhost:8080/"
        },
        "outputId": "dc720ccc-22e8-4896-97d2-21774a6da9c8"
      },
      "source": [
        "def tunas_number(num):                          # this function calculates whether the product of the digits of a number is equal to the number itself \n",
        "    numberlist = [int(x) for x in str(num) ]    # firstly split number into its digits\n",
        "    \n",
        "    result = 1                                  #here multiplies digits of the number and assign it to result\n",
        "    for i in numberlist:\n",
        "      result = result * i\n",
        "         \n",
        "    if(num==result):                            # prints tunas_number\n",
        "      print(num)\n",
        "\n",
        "tuna_list = []                                  #here created empty list to look for numbers between 1 and 1000\n",
        "for i in range(1,1001):\n",
        "  if tunas_number(i):\n",
        "    tuna_list.append(i)\n",
        "\n",
        "print(tuna_list)"
      ],
      "execution_count": null,
      "outputs": [
        {
          "output_type": "stream",
          "name": "stdout",
          "text": [
            "1\n",
            "2\n",
            "3\n",
            "4\n",
            "5\n",
            "6\n",
            "7\n",
            "8\n",
            "9\n",
            "[]\n"
          ]
        }
      ]
    },
    {
      "cell_type": "code",
      "metadata": {
        "id": "tfBJTakPwSNN"
      },
      "source": [
        ""
      ],
      "execution_count": null,
      "outputs": []
    }
  ]
}