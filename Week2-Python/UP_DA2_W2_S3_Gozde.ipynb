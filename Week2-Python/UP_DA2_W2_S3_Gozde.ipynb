{
  "nbformat": 4,
  "nbformat_minor": 0,
  "metadata": {
    "colab": {
      "name": "UP-DA2-W2-S3-Gozde.ipynb",
      "provenance": []
    },
    "kernelspec": {
      "name": "python3",
      "display_name": "Python 3"
    },
    "language_info": {
      "name": "python"
    }
  },
  "cells": [
    {
      "cell_type": "markdown",
      "metadata": {
        "id": "0pB2w8PkvtHE"
      },
      "source": [
        "# Task - A\n",
        "* Please write a function that will calculate the difference between two sets such as A and B without explicitly calculating the intersection but implicitly inside a procedure/method."
      ]
    },
    {
      "cell_type": "code",
      "metadata": {
        "id": "s0AcgIA5rPdX"
      },
      "source": [
        "def set_differ(set1, set2):          # I created set_differ function which takes two inputs\n",
        "\n",
        "  intersection_set=set()             # then as an empty set I created intersection_Set\n",
        "\n",
        "  for i in set1:                     # firstly, I determined to intersection set with for loops\n",
        "    for j in set2:\n",
        "      if (i==j):\n",
        "        intersection_set.add(j)\n",
        "  print('Intersection set is :',intersection_set)\n",
        "\n",
        " \n",
        "  for j in intersection_set:       # then I looked difference between first given set and an intersection set\n",
        "    set1.remove(j)\n",
        "    \n",
        "  print('Difference set is: ',set1)   # finally, decided to set1 difference set2"
      ],
      "execution_count": null,
      "outputs": []
    },
    {
      "cell_type": "code",
      "metadata": {
        "colab": {
          "base_uri": "https://localhost:8080/"
        },
        "id": "NN63SMv0-cLm",
        "outputId": "b32b8056-1d56-4d85-87d5-9611864d2d52"
      },
      "source": [
        "\n",
        "set1= set()                                              # There are a lot of rows here, I created two empty sets \n",
        "set2= set()\n",
        "set1_len=int(input('Please write size of the set: '))    # then, I take lengths of the sets for the loops below\n",
        "set2_len=int(input('Please write size of the set: '))\n",
        "\n",
        "for i in range(set1_len):\n",
        "  element = input('Write elements of the set: ')         # here I took every elements one-by-one\n",
        "  set1.add(element)\n",
        "  \n",
        "print('Set1 is:',set1)                                   # I did this to see sets although it is not needed.\n",
        "\n",
        "for i in range(set2_len):\n",
        "    element = input('Write elements of the set: ')\n",
        "    set2.add(element)\n",
        "  \n",
        "print('Set2 is :',set2)\n",
        "\n",
        "set_differ(set1, set2)     # finally I called the function."
      ],
      "execution_count": null,
      "outputs": [
        {
          "output_type": "stream",
          "name": "stdout",
          "text": [
            "Please write size of the set: 3\n",
            "Please write size of the set: 3\n",
            "Write elements of the set: 1\n",
            "Write elements of the set: 2\n",
            "Write elements of the set: 3\n",
            "Set1 is: {'1', '2', '3'}\n",
            "Write elements of the set: 4\n",
            "Write elements of the set: 2\n",
            "Write elements of the set: 3\n",
            "Set2 is : {'4', '2', '3'}\n",
            "Intersection set is : {'2', '3'}\n",
            "Difference set is:  {'1'}\n"
          ]
        }
      ]
    },
    {
      "cell_type": "code",
      "metadata": {
        "colab": {
          "base_uri": "https://localhost:8080/"
        },
        "id": "FOHhaL8FCg9P",
        "outputId": "8a2b1795-a455-4ef6-c8de-b9eb6b39ff8e"
      },
      "source": [
        "set1 = {'red', 'blue', 'green', 'orange'}    # If we give the sets ready, function works like\n",
        "set2 = { 'blue', 23, 1, 8, 'green'}\n",
        "set_differ(set1, set2)"
      ],
      "execution_count": null,
      "outputs": [
        {
          "output_type": "stream",
          "name": "stdout",
          "text": [
            "Intersection set is : {'green', 'blue'}\n",
            "Difference set is:  {'orange', 'red'}\n"
          ]
        }
      ]
    },
    {
      "cell_type": "code",
      "metadata": {
        "colab": {
          "base_uri": "https://localhost:8080/"
        },
        "id": "qj3uOU8oEOin",
        "outputId": "a8a843ad-18d4-433d-dd11-f51c05c08862"
      },
      "source": [
        "set1 = {'red', 'blue', 'green', 'orange', 1, 2, 4, 23, 7}   \n",
        "set2 = { 'blue', 23, 1, 8, 'green','purple', 13}\n",
        "set_differ(set1, set2)"
      ],
      "execution_count": null,
      "outputs": [
        {
          "output_type": "stream",
          "name": "stdout",
          "text": [
            "Intersection set is : {'green', 1, 'blue', 23}\n",
            "Difference set is:  {2, 4, 7, 'orange', 'red'}\n"
          ]
        }
      ]
    },
    {
      "cell_type": "code",
      "metadata": {
        "colab": {
          "base_uri": "https://localhost:8080/"
        },
        "id": "ESaDsDRvEkAA",
        "outputId": "4d94ae90-47ca-46a8-d2b5-fc930079460c"
      },
      "source": [
        "set1={}\n",
        "set2={1,2,3}\n",
        "set_differ(set1, set2)"
      ],
      "execution_count": null,
      "outputs": [
        {
          "output_type": "stream",
          "name": "stdout",
          "text": [
            "Intersection set is : set()\n",
            "Difference set is:  {}\n"
          ]
        }
      ]
    },
    {
      "cell_type": "code",
      "metadata": {
        "colab": {
          "base_uri": "https://localhost:8080/"
        },
        "id": "86cNDTOiErrP",
        "outputId": "9f557bc8-50ef-4015-d49a-89ccd3714c31"
      },
      "source": [
        "set1={1,2,3}\n",
        "set2={1,2,3}\n",
        "set_differ(set1, set2)"
      ],
      "execution_count": null,
      "outputs": [
        {
          "output_type": "stream",
          "name": "stdout",
          "text": [
            "Intersection set is : {1, 2, 3}\n",
            "Difference set is:  set()\n"
          ]
        }
      ]
    },
    {
      "cell_type": "markdown",
      "metadata": {
        "id": "K0Ebp-kD6zkj"
      },
      "source": [
        "# Task B\n",
        "* Please provide a dictionary in python filed with meaninful 10 items.\n",
        "\n",
        "Then please use remove/iteration/update methods to manipulate the dictionary"
      ]
    },
    {
      "cell_type": "code",
      "metadata": {
        "id": "nEM2C2zAyYAB"
      },
      "source": [
        "Cities ={'01':'Adana', '06':'Ankara','07':'Antalya','09':'Aydın', '16':'Bursa', '27':'Gaziantep','31':'Hatay','33':'Mersin','34':'İstanbul', '35':'İzmir'}"
      ],
      "execution_count": null,
      "outputs": []
    },
    {
      "cell_type": "code",
      "metadata": {
        "colab": {
          "base_uri": "https://localhost:8080/"
        },
        "id": "MQTxR6A_KgyR",
        "outputId": "8d2d99ba-2c05-4653-8594-d24a760cf11e"
      },
      "source": [
        "Cities"
      ],
      "execution_count": null,
      "outputs": [
        {
          "output_type": "execute_result",
          "data": {
            "text/plain": [
              "{'01': 'Adana',\n",
              " '06': 'Ankara',\n",
              " '07': 'Antalya',\n",
              " '09': 'Aydın',\n",
              " '16': 'Bursa',\n",
              " '27': 'Gaziantep',\n",
              " '31': 'Hatay',\n",
              " '33': 'Mersin',\n",
              " '34': 'İstanbul',\n",
              " '35': 'İzmir'}"
            ]
          },
          "metadata": {},
          "execution_count": 36
        }
      ]
    },
    {
      "cell_type": "code",
      "metadata": {
        "colab": {
          "base_uri": "https://localhost:8080/"
        },
        "id": "FStVdAQaK2KK",
        "outputId": "d6b989f0-2224-4bc8-d8d6-f1e6a45e114a"
      },
      "source": [
        "len(Cities)"
      ],
      "execution_count": null,
      "outputs": [
        {
          "output_type": "execute_result",
          "data": {
            "text/plain": [
              "10"
            ]
          },
          "metadata": {},
          "execution_count": 37
        }
      ]
    },
    {
      "cell_type": "code",
      "metadata": {
        "colab": {
          "base_uri": "https://localhost:8080/"
        },
        "id": "76rGfOGXLKVE",
        "outputId": "b96b43ae-76b8-4e11-d366-896c5531e6fd"
      },
      "source": [
        "Cities.values()"
      ],
      "execution_count": null,
      "outputs": [
        {
          "output_type": "execute_result",
          "data": {
            "text/plain": [
              "dict_values(['Adana', 'Ankara', 'Antalya', 'Aydın', 'Bursa', 'Gaziantep', 'Hatay', 'Mersin', 'İstanbul', 'İzmir'])"
            ]
          },
          "metadata": {},
          "execution_count": 38
        }
      ]
    },
    {
      "cell_type": "code",
      "metadata": {
        "colab": {
          "base_uri": "https://localhost:8080/"
        },
        "id": "MoH7lnJ4La76",
        "outputId": "a59bfbcd-1e22-4372-a3bb-3dc4f42722b9"
      },
      "source": [
        "Cities.keys()"
      ],
      "execution_count": null,
      "outputs": [
        {
          "output_type": "execute_result",
          "data": {
            "text/plain": [
              "dict_keys(['01', '06', '07', '09', '16', '27', '31', '33', '34', '35'])"
            ]
          },
          "metadata": {},
          "execution_count": 39
        }
      ]
    },
    {
      "cell_type": "code",
      "metadata": {
        "colab": {
          "base_uri": "https://localhost:8080/"
        },
        "id": "uc7xpmDmLueH",
        "outputId": "7a2e6453-d637-4b91-8175-cac99ce04a9e"
      },
      "source": [
        "for keys, values in Cities.items():\n",
        "  print(keys)\n",
        "  print(values)\n",
        "  print(values, 'corresponds to ', keys)\n",
        "  print('-------------------------------')\n"
      ],
      "execution_count": null,
      "outputs": [
        {
          "output_type": "stream",
          "name": "stdout",
          "text": [
            "01\n",
            "Adana\n",
            "Adana corresponds to  01\n",
            "-------------------------------\n",
            "06\n",
            "Ankara\n",
            "Ankara corresponds to  06\n",
            "-------------------------------\n",
            "07\n",
            "Antalya\n",
            "Antalya corresponds to  07\n",
            "-------------------------------\n",
            "09\n",
            "Aydın\n",
            "Aydın corresponds to  09\n",
            "-------------------------------\n",
            "16\n",
            "Bursa\n",
            "Bursa corresponds to  16\n",
            "-------------------------------\n",
            "27\n",
            "Gaziantep\n",
            "Gaziantep corresponds to  27\n",
            "-------------------------------\n",
            "31\n",
            "Hatay\n",
            "Hatay corresponds to  31\n",
            "-------------------------------\n",
            "33\n",
            "Mersin\n",
            "Mersin corresponds to  33\n",
            "-------------------------------\n",
            "34\n",
            "İstanbul\n",
            "İstanbul corresponds to  34\n",
            "-------------------------------\n",
            "35\n",
            "İzmir\n",
            "İzmir corresponds to  35\n",
            "-------------------------------\n"
          ]
        }
      ]
    },
    {
      "cell_type": "code",
      "metadata": {
        "id": "v0QgoSExMzv2"
      },
      "source": [
        "Cities.clear()"
      ],
      "execution_count": null,
      "outputs": []
    },
    {
      "cell_type": "code",
      "metadata": {
        "colab": {
          "base_uri": "https://localhost:8080/"
        },
        "id": "nH6jz9rZFK8a",
        "outputId": "6cd6e125-a948-4372-d0da-05c9b5cecdcc"
      },
      "source": [
        "Cities"
      ],
      "execution_count": null,
      "outputs": [
        {
          "output_type": "execute_result",
          "data": {
            "text/plain": [
              "{}"
            ]
          },
          "metadata": {},
          "execution_count": 44
        }
      ]
    },
    {
      "cell_type": "markdown",
      "metadata": {
        "id": "y5C2Q9UGM0Gp"
      },
      "source": [
        "# Task - C\n",
        "* Please provide a dictionary in python filled with 20 numeric values with different keys.\n",
        "\n",
        "Please find the max, min value and range of the dictionary"
      ]
    },
    {
      "cell_type": "markdown",
      "metadata": {
        "id": "GLZBotfWBJAg"
      },
      "source": [
        "I created dictionary randomly. I looked max, min and range of the dictionary."
      ]
    },
    {
      "cell_type": "code",
      "metadata": {
        "id": "__AiMefNNYja"
      },
      "source": [
        "MyDict={'a':100, 'b':23, 'c': 345, 'd':120, 'e':175, 'f':250, 'g':600, 'h':34, 'i':450, 'j':13, 'k':50, 'l':45, 'm':25, 'n':200, 'p':9, \n",
        "        'r':30, 's':24, 't':70, 'u':80, 'z':29}"
      ],
      "execution_count": 101,
      "outputs": []
    },
    {
      "cell_type": "code",
      "metadata": {
        "id": "OybPfxjIVw9g",
        "colab": {
          "base_uri": "https://localhost:8080/"
        },
        "outputId": "5c387eeb-0a04-4fae-b444-de4a38d2ed19"
      },
      "source": [
        "len(MyDict)"
      ],
      "execution_count": 102,
      "outputs": [
        {
          "output_type": "execute_result",
          "data": {
            "text/plain": [
              "20"
            ]
          },
          "metadata": {},
          "execution_count": 102
        }
      ]
    },
    {
      "cell_type": "code",
      "metadata": {
        "id": "OPK8rLk8Vw6Y",
        "colab": {
          "base_uri": "https://localhost:8080/"
        },
        "outputId": "eba9149f-9af9-4199-8321-38266830b302"
      },
      "source": [
        "max= MyDict['a']                     # I assigned first value of the dictionary as max value\n",
        "for keys, values in MyDict.items():  # then loop determines the max one\n",
        "  if values>max:\n",
        "    max=values\n",
        "  \n",
        "print('Maximum value in MyDict is:',max)"
      ],
      "execution_count": 103,
      "outputs": [
        {
          "output_type": "stream",
          "name": "stdout",
          "text": [
            "Maximum value in MyDict is: 600\n"
          ]
        }
      ]
    },
    {
      "cell_type": "code",
      "metadata": {
        "id": "6aRi7C3mVw3m",
        "colab": {
          "base_uri": "https://localhost:8080/"
        },
        "outputId": "0cc5ba97-96f5-46de-82ff-02d9de682c28"
      },
      "source": [
        "min = MyDict['a']                    # I assigned first value of the dictionary as min value\n",
        "for keys, values in MyDict.items():  # In the loop when values smaller than the min value it is changed as min .\n",
        "  if values<min:\n",
        "    min=values\n",
        "\n",
        "print('Minimum value in MyDict is:', min)"
      ],
      "execution_count": 104,
      "outputs": [
        {
          "output_type": "stream",
          "name": "stdout",
          "text": [
            "Minimum value in MyDict is: 9\n"
          ]
        }
      ]
    },
    {
      "cell_type": "code",
      "metadata": {
        "colab": {
          "base_uri": "https://localhost:8080/"
        },
        "id": "LHobXemIBAqB",
        "outputId": "004b0d69-4bc6-4656-e2ef-d0905dd2c866"
      },
      "source": [
        "range = max- min      # range is difference between max and the min values.\n",
        "range"
      ],
      "execution_count": 105,
      "outputs": [
        {
          "output_type": "execute_result",
          "data": {
            "text/plain": [
              "591"
            ]
          },
          "metadata": {},
          "execution_count": 105
        }
      ]
    },
    {
      "cell_type": "markdown",
      "metadata": {
        "id": "w0OVeCz8VxpQ"
      },
      "source": [
        "# Task-D\n",
        "* Please provide a function for that will take dictionary and variable srting.\n",
        "* Then provide a relevant output as a printed output. That is if variable is in dictionary print has variable if not print there is no variable in dictionary"
      ]
    },
    {
      "cell_type": "code",
      "metadata": {
        "id": "JExWwi3_VzVc"
      },
      "source": [
        "def is_variable_in_dict(Mydict, var):    # this function takes two inputs: first one is dictionary and second one is string\n",
        "\n",
        "  if var in Mydict:                      # controls if var is in dictionary, then look for its count \n",
        "    if Mydict[var]>0:\n",
        "      print(Mydict, 'has ', Mydict[var],var)\n",
        "    else:\n",
        "      print('No',var, 'left')\n",
        "  else:                                  # if var is not in dictionary \n",
        "    print('No ', var,)"
      ],
      "execution_count": null,
      "outputs": []
    },
    {
      "cell_type": "code",
      "metadata": {
        "id": "I22dBAGRVzSs",
        "colab": {
          "base_uri": "https://localhost:8080/"
        },
        "outputId": "39a14633-8a74-4678-b1ac-38c0c577bf02"
      },
      "source": [
        "#I wrote it to create a dictionary by writing individual elements.\n",
        "\n",
        "Mydict_len = int(input('Please write the length of the dictionary: '))   # first I took length of the dict.\n",
        "while i<Mydict_len:\n",
        "  keys = input(\"Enter key for Mydict:\")                                  # in the while-loop I take keys and values separately \n",
        "  values = int(input(\"Enter value for Mydict:\"))         \n",
        "  Mydict={}\n",
        "  Mydict[keys] = values\n",
        "  i= i+1\n",
        "    \n",
        "varr=input('Please write a variable ')\n",
        "\n",
        "is_variable_in_dict(Mydict, varr)                                        # and send it to is_variable_in_dict function."
      ],
      "execution_count": null,
      "outputs": [
        {
          "output_type": "stream",
          "name": "stdout",
          "text": [
            "Please write the length of the dictionary: 2\n",
            "Enter key for Mydict:'banana'\n",
            "Enter value for Mydict:2\n",
            "Enter key for Mydict:'apple'\n",
            "Enter value for Mydict:0\n",
            "Please write a variable 'apple'\n",
            "No 'apple' left\n"
          ]
        }
      ]
    },
    {
      "cell_type": "code",
      "metadata": {
        "colab": {
          "base_uri": "https://localhost:8080/"
        },
        "id": "4u3YKRIzSoHv",
        "outputId": "cb82698c-bc03-401f-e7e3-2e1cfd0d5406"
      },
      "source": [
        "vegetables={'corn':10, 'lettuce':2, 'cucumber':0, 'garlic':1, 'leek':0}\n",
        "var = 'corn'\n",
        "is_variable_in_dict(vegetables, var)"
      ],
      "execution_count": null,
      "outputs": [
        {
          "output_type": "stream",
          "name": "stdout",
          "text": [
            "{'corn': 10, 'lettuce': 2, 'cucumber': 0, 'garlic': 1, 'leek': 0} has  10 corn\n"
          ]
        }
      ]
    },
    {
      "cell_type": "code",
      "metadata": {
        "id": "2SzZmQH6Vy5M",
        "colab": {
          "base_uri": "https://localhost:8080/"
        },
        "outputId": "ae838f9c-9a58-48e0-e624-7434a78c080f"
      },
      "source": [
        "fruits={'mango':5, 'apple':2, 'orange':0, 'banana':1, 'cheery':0}\n",
        "var = 'orange'\n",
        "is_variable_in_dict(fruits, var)"
      ],
      "execution_count": null,
      "outputs": [
        {
          "output_type": "stream",
          "name": "stdout",
          "text": [
            "No orange left\n"
          ]
        }
      ]
    },
    {
      "cell_type": "code",
      "metadata": {
        "colab": {
          "base_uri": "https://localhost:8080/"
        },
        "id": "qcpUBjX4VLEH",
        "outputId": "797a85ff-c272-40e7-d55c-7c96aaba2687"
      },
      "source": [
        "fruits={'mango':5, 'apple':2, 'orange':0, 'banana':1, 'cheery':0}\n",
        "var = 'mango'\n",
        "is_variable_in_dict(fruits, var)"
      ],
      "execution_count": null,
      "outputs": [
        {
          "output_type": "stream",
          "name": "stdout",
          "text": [
            "{'mango': 5, 'apple': 2, 'orange': 0, 'banana': 1, 'cheery': 0} has  5 mango\n"
          ]
        }
      ]
    },
    {
      "cell_type": "markdown",
      "metadata": {
        "id": "qvEa2263V0J8"
      },
      "source": [
        "# Task - E\n",
        "* In the search of a triangle\n",
        "* Please get three input values as numbers  from user one-by-one.\n",
        "* Put them in a list.\n",
        "* Suppose that these are the lengths of a triangle.\n",
        "* Determine whether this is a possible triangle or not\n",
        "* If yes please calculate the perimeter and area of the triangle and print all of the calculated values as an output.\n"
      ]
    },
    {
      "cell_type": "code",
      "metadata": {
        "id": "OpY1Gi2_9KjM"
      },
      "source": [
        "import math"
      ],
      "execution_count": null,
      "outputs": []
    },
    {
      "cell_type": "code",
      "metadata": {
        "id": "SrbZCTYcV24t"
      },
      "source": [
        "def triangle(a, b, c):                       # this function determines from 3 sides if there can be a triangle\n",
        "  if abs(a-c)<b<(a+c):                       # if possible calculate perimeter and the area\n",
        "    perimeter = (a+b+c)\n",
        "    s = (perimeter/2)\n",
        "    print('Perimeter is :', perimeter)\n",
        "    area=math.sqrt(s*(s-a)*(s-b)*(s-c))\n",
        "    print('Area is :', area)\n",
        "  else:                                                    # if not possible it states there cannot be a triangle with these edges.\n",
        "    print('There cannot be a triangle with these sides.')     \n"
      ],
      "execution_count": null,
      "outputs": []
    },
    {
      "cell_type": "code",
      "metadata": {
        "colab": {
          "base_uri": "https://localhost:8080/"
        },
        "id": "NL5wnZfT6E9V",
        "outputId": "7fe00906-5637-4f9f-bc2f-ac9bea414830"
      },
      "source": [
        "# you can try for other edges here\n",
        "Triangle_edges=[]                                  # empty list for edges\n",
        "a=int(input('Please enter the first edge: '))      # to take 3 edeges separately I use input func.\n",
        "Triangle_edges.append(a)\n",
        "b=int(input('Please enter the first edge: '))\n",
        "Triangle_edges.append(b)\n",
        "c=int(input('Please enter the first edge: '))\n",
        "Triangle_edges.append(c)\n",
        "print(Triangle_edges)\n",
        "\n",
        "triangle(a, b,c )"
      ],
      "execution_count": null,
      "outputs": [
        {
          "output_type": "stream",
          "name": "stdout",
          "text": [
            "Please enter the first edge: 5\n",
            "Please enter the first edge: 12\n",
            "Please enter the first edge: 13\n",
            "[5, 12, 13]\n",
            "Perimeter is : 30\n",
            "Area is : 30.0\n"
          ]
        }
      ]
    },
    {
      "cell_type": "code",
      "metadata": {
        "colab": {
          "base_uri": "https://localhost:8080/"
        },
        "id": "R7u24kqg6Xxm",
        "outputId": "c9196168-3180-4672-954a-98cbfc4f92f6"
      },
      "source": [
        "triangle(5,12,13)"
      ],
      "execution_count": null,
      "outputs": [
        {
          "output_type": "stream",
          "name": "stdout",
          "text": [
            "Perimeter is : 30\n",
            "Area is : 30.0\n"
          ]
        }
      ]
    },
    {
      "cell_type": "code",
      "metadata": {
        "colab": {
          "base_uri": "https://localhost:8080/"
        },
        "id": "3wu4cKzuFdS_",
        "outputId": "354d873c-ea43-4282-b35d-0061451f10d5"
      },
      "source": [
        "triangle(1,5,7)"
      ],
      "execution_count": null,
      "outputs": [
        {
          "output_type": "stream",
          "name": "stdout",
          "text": [
            "There cannot be a triangle with these sides.\n"
          ]
        }
      ]
    },
    {
      "cell_type": "code",
      "metadata": {
        "colab": {
          "base_uri": "https://localhost:8080/"
        },
        "id": "gGgjYxLWFhV1",
        "outputId": "a8f21612-43cb-4886-8159-60b70f906731"
      },
      "source": [
        "triangle(9,12,15)"
      ],
      "execution_count": null,
      "outputs": [
        {
          "output_type": "stream",
          "name": "stdout",
          "text": [
            "Perimeter is : 36\n",
            "Area is : 54.0\n"
          ]
        }
      ]
    },
    {
      "cell_type": "code",
      "metadata": {
        "colab": {
          "base_uri": "https://localhost:8080/"
        },
        "id": "qk79ZIWk-AjJ",
        "outputId": "58230dd7-8eac-453a-cc53-eba1454f10f9"
      },
      "source": [
        "Triangle_edges=[]\n",
        "a=int(input('Please enter the first edge: '))           # we can also solve this problem without function\n",
        "Triangle_edges.append(a)                                # we take three inputs and decide to these 3 sides whether can create a triangle or not\n",
        "b=int(input('Please enter the first edge: '))\n",
        "Triangle_edges.append(b)\n",
        "c=int(input('Please enter the first edge: '))\n",
        "Triangle_edges.append(c)\n",
        "\n",
        "if abs(a-c)<b<(a+c):\n",
        "  perimeter = (a+b+c)         \n",
        "  s = (perimeter/2)\n",
        "  print('Perimeter is :', perimeter) \n",
        "  area=math.sqrt(s*(s-a)*(s-b)*(s-c))\n",
        "  print('Area is :', area)\n",
        "else:\n",
        "  print('There cannot be a triangle with these sides.')\n"
      ],
      "execution_count": null,
      "outputs": [
        {
          "output_type": "stream",
          "name": "stdout",
          "text": [
            "Please enter the first edge: 6\n",
            "Please enter the first edge: 8\n",
            "Please enter the first edge: 10\n",
            "Perimeter is : 24\n",
            "Area is : 24.0\n"
          ]
        }
      ]
    }
  ]
}