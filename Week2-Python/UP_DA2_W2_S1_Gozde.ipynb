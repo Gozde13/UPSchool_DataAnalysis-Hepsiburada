{
  "nbformat": 4,
  "nbformat_minor": 0,
  "metadata": {
    "colab": {
      "name": "UP-DA2-W2-S1-Gozde.ipynb",
      "provenance": []
    },
    "kernelspec": {
      "name": "python3",
      "display_name": "Python 3"
    },
    "language_info": {
      "name": "python"
    }
  },
  "cells": [
    {
      "cell_type": "markdown",
      "metadata": {
        "id": "IC8uZL0iuZ8a"
      },
      "source": [
        "Task-A\n",
        "* Please provide a list of even integers from 0 to 100"
      ]
    },
    {
      "cell_type": "code",
      "metadata": {
        "id": "HVt6N2L1ujU7"
      },
      "source": [
        "my_list = []\n",
        "for i in range(0,101,2):\n",
        "  my_list.append(i)"
      ],
      "execution_count": null,
      "outputs": []
    },
    {
      "cell_type": "code",
      "metadata": {
        "colab": {
          "base_uri": "https://localhost:8080/"
        },
        "id": "esgGz9UBu1ad",
        "outputId": "187154ad-3212-43dc-da76-2466b2413272"
      },
      "source": [
        "len(my_list)"
      ],
      "execution_count": null,
      "outputs": [
        {
          "output_type": "execute_result",
          "data": {
            "text/plain": [
              "51"
            ]
          },
          "metadata": {},
          "execution_count": 5
        }
      ]
    },
    {
      "cell_type": "code",
      "metadata": {
        "colab": {
          "base_uri": "https://localhost:8080/"
        },
        "id": "7Pvk97B5u3Oe",
        "outputId": "433fbea3-796c-4250-c3c0-56554562db45"
      },
      "source": [
        "my_list"
      ],
      "execution_count": null,
      "outputs": [
        {
          "output_type": "execute_result",
          "data": {
            "text/plain": [
              "[0,\n",
              " 2,\n",
              " 4,\n",
              " 6,\n",
              " 8,\n",
              " 10,\n",
              " 12,\n",
              " 14,\n",
              " 16,\n",
              " 18,\n",
              " 20,\n",
              " 22,\n",
              " 24,\n",
              " 26,\n",
              " 28,\n",
              " 30,\n",
              " 32,\n",
              " 34,\n",
              " 36,\n",
              " 38,\n",
              " 40,\n",
              " 42,\n",
              " 44,\n",
              " 46,\n",
              " 48,\n",
              " 50,\n",
              " 52,\n",
              " 54,\n",
              " 56,\n",
              " 58,\n",
              " 60,\n",
              " 62,\n",
              " 64,\n",
              " 66,\n",
              " 68,\n",
              " 70,\n",
              " 72,\n",
              " 74,\n",
              " 76,\n",
              " 78,\n",
              " 80,\n",
              " 82,\n",
              " 84,\n",
              " 86,\n",
              " 88,\n",
              " 90,\n",
              " 92,\n",
              " 94,\n",
              " 96,\n",
              " 98,\n",
              " 100]"
            ]
          },
          "metadata": {},
          "execution_count": 16
        }
      ]
    },
    {
      "cell_type": "markdown",
      "metadata": {
        "id": "VdgWr73IvFV6"
      },
      "source": [
        "Task-B\n",
        "* Please provide a function list of composed of integer numbers from n1 to n2 with an incrementation value of n3."
      ]
    },
    {
      "cell_type": "code",
      "metadata": {
        "id": "E_B0EPVpu-ou"
      },
      "source": [
        "def list_bet(num1, num2, num3):         # This function takes 3 inputs, num3 is the incrementation\n",
        "  list = []\n",
        "  for i in range(num1, num2, num3):     # append to list from num1 to num2 with an incrementation num3\n",
        "    list.append(i)\n",
        "\n",
        "  return list"
      ],
      "execution_count": null,
      "outputs": []
    },
    {
      "cell_type": "code",
      "metadata": {
        "colab": {
          "base_uri": "https://localhost:8080/"
        },
        "id": "MmPf7kSozuAP",
        "outputId": "1fdec773-effc-4b15-f82f-fbba0b124c5b"
      },
      "source": [
        "list_bet(1,5,1)"
      ],
      "execution_count": null,
      "outputs": [
        {
          "output_type": "execute_result",
          "data": {
            "text/plain": [
              "[1, 2, 3, 4]"
            ]
          },
          "metadata": {},
          "execution_count": 14
        }
      ]
    },
    {
      "cell_type": "code",
      "metadata": {
        "colab": {
          "base_uri": "https://localhost:8080/"
        },
        "id": "beutkhtjz1l6",
        "outputId": "0e773ba5-ff00-4a8f-bd4e-f871a958d816"
      },
      "source": [
        "list_bet(2,14,3)"
      ],
      "execution_count": null,
      "outputs": [
        {
          "output_type": "execute_result",
          "data": {
            "text/plain": [
              "[2, 5, 8, 11]"
            ]
          },
          "metadata": {},
          "execution_count": 15
        }
      ]
    },
    {
      "cell_type": "markdown",
      "metadata": {
        "id": "UPNNQIWH0bFH"
      },
      "source": [
        "Task-C\n",
        "* Please write a function that will check whether any input list contains an input value"
      ]
    },
    {
      "cell_type": "code",
      "metadata": {
        "id": "60FQTYeWz_6Z"
      },
      "source": [
        "def is_there(my_list, q_item): # this function look for is q_item available in my_list\n",
        "  for i in my_list:\n",
        "    if i==q_item:\n",
        "      return True\n",
        "    \n",
        "  return False\n",
        "\n"
      ],
      "execution_count": null,
      "outputs": []
    },
    {
      "cell_type": "code",
      "metadata": {
        "colab": {
          "base_uri": "https://localhost:8080/"
        },
        "id": "HqxJhSpV2wuY",
        "outputId": "dbea375b-e7bc-471b-a864-946f18ef16ed"
      },
      "source": [
        "is_there([1,2,3,4,5],\"tuna\")"
      ],
      "execution_count": null,
      "outputs": [
        {
          "output_type": "execute_result",
          "data": {
            "text/plain": [
              "False"
            ]
          },
          "metadata": {},
          "execution_count": 52
        }
      ]
    },
    {
      "cell_type": "code",
      "metadata": {
        "colab": {
          "base_uri": "https://localhost:8080/"
        },
        "id": "8J-5vk3x2173",
        "outputId": "4395cbfd-8e48-4773-d257-7db186a2cfa6"
      },
      "source": [
        "is_there([1,2,3],3)"
      ],
      "execution_count": null,
      "outputs": [
        {
          "output_type": "execute_result",
          "data": {
            "text/plain": [
              "True"
            ]
          },
          "metadata": {},
          "execution_count": 53
        }
      ]
    },
    {
      "cell_type": "code",
      "metadata": {
        "colab": {
          "base_uri": "https://localhost:8080/"
        },
        "id": "DS6anYzR4vqK",
        "outputId": "693db84c-119c-4937-fb68-c1b7af84aa63"
      },
      "source": [
        "is_there([1,2,1.1,\"tuna\"], \"tuna\")"
      ],
      "execution_count": null,
      "outputs": [
        {
          "output_type": "execute_result",
          "data": {
            "text/plain": [
              "True"
            ]
          },
          "metadata": {},
          "execution_count": 54
        }
      ]
    },
    {
      "cell_type": "code",
      "metadata": {
        "colab": {
          "base_uri": "https://localhost:8080/"
        },
        "id": "eJ6pxThk410Q",
        "outputId": "7cde33aa-d630-4ac4-995a-110d04535144"
      },
      "source": [
        "list = [23, 34,11, 'a', 'asdsf', 100]\n",
        "is_there(list, 'a')"
      ],
      "execution_count": null,
      "outputs": [
        {
          "output_type": "execute_result",
          "data": {
            "text/plain": [
              "True"
            ]
          },
          "metadata": {},
          "execution_count": 56
        }
      ]
    },
    {
      "cell_type": "code",
      "metadata": {
        "colab": {
          "base_uri": "https://localhost:8080/"
        },
        "id": "ONF5K-aa6A6R",
        "outputId": "e1c9d94a-316f-4d4e-831f-fcd985f703ba"
      },
      "source": [
        "is_there(list,22)"
      ],
      "execution_count": null,
      "outputs": [
        {
          "output_type": "execute_result",
          "data": {
            "text/plain": [
              "False"
            ]
          },
          "metadata": {},
          "execution_count": 57
        }
      ]
    },
    {
      "cell_type": "markdown",
      "metadata": {
        "id": "La4dsbHq6mP9"
      },
      "source": [
        "Task-D\n",
        "* Please write a function that will find the smallest value in a list with using while function."
      ]
    },
    {
      "cell_type": "code",
      "metadata": {
        "id": "MSO95KI56Gli"
      },
      "source": [
        "def minimum_value(mylist):          # this function finds the minimum value of a list\n",
        "  min = mylist[0]\n",
        "  i=0     \n",
        "  while(i<len(mylist)):             # using while loop\n",
        "    if mylist[i]<min:\n",
        "      min=mylist[i]\n",
        "    i=i+1\n",
        "\n",
        "  return min"
      ],
      "execution_count": null,
      "outputs": []
    },
    {
      "cell_type": "code",
      "metadata": {
        "colab": {
          "base_uri": "https://localhost:8080/"
        },
        "id": "3FBiEnTsBsYG",
        "outputId": "bef0b902-7758-4296-b835-1a88f039b86f"
      },
      "source": [
        "minimum_value([8,2,3,5,10])"
      ],
      "execution_count": null,
      "outputs": [
        {
          "output_type": "execute_result",
          "data": {
            "text/plain": [
              "2"
            ]
          },
          "metadata": {},
          "execution_count": 71
        }
      ]
    },
    {
      "cell_type": "code",
      "metadata": {
        "colab": {
          "base_uri": "https://localhost:8080/"
        },
        "id": "g9YJBp-8Bw7f",
        "outputId": "432bec0a-edb8-475c-e824-a3bf276ed7b9"
      },
      "source": [
        "minimum_value([12,1,22,10,2,0,4])"
      ],
      "execution_count": null,
      "outputs": [
        {
          "output_type": "execute_result",
          "data": {
            "text/plain": [
              "0"
            ]
          },
          "metadata": {},
          "execution_count": 72
        }
      ]
    },
    {
      "cell_type": "code",
      "metadata": {
        "colab": {
          "base_uri": "https://localhost:8080/"
        },
        "id": "zShdjiGPEF2n",
        "outputId": "4868f80a-0e42-4389-a6f1-a3671730dab0"
      },
      "source": [
        "minimum_value([12,1,22,10,2,0,4,-4])"
      ],
      "execution_count": null,
      "outputs": [
        {
          "output_type": "execute_result",
          "data": {
            "text/plain": [
              "-4"
            ]
          },
          "metadata": {},
          "execution_count": 73
        }
      ]
    },
    {
      "cell_type": "code",
      "metadata": {
        "colab": {
          "base_uri": "https://localhost:8080/"
        },
        "id": "4pWzappUEJLO",
        "outputId": "fdcbde3f-a74f-45c8-f4d8-d33686dae696"
      },
      "source": [
        "minimum_value([12,1,22,-7,10,2,0,4,-4])"
      ],
      "execution_count": null,
      "outputs": [
        {
          "output_type": "execute_result",
          "data": {
            "text/plain": [
              "-7"
            ]
          },
          "metadata": {},
          "execution_count": 74
        }
      ]
    },
    {
      "cell_type": "code",
      "metadata": {
        "colab": {
          "base_uri": "https://localhost:8080/"
        },
        "id": "egy2E_oKEMQA",
        "outputId": "8eda5eaf-9afe-4e0c-b900-89ad9f0cf135"
      },
      "source": [
        "minimum_value([10])"
      ],
      "execution_count": null,
      "outputs": [
        {
          "output_type": "execute_result",
          "data": {
            "text/plain": [
              "10"
            ]
          },
          "metadata": {},
          "execution_count": 75
        }
      ]
    },
    {
      "cell_type": "markdown",
      "metadata": {
        "id": "G4jAyrFxErqo"
      },
      "source": [
        "Derste aldığım notlar:"
      ]
    },
    {
      "cell_type": "code",
      "metadata": {
        "colab": {
          "base_uri": "https://localhost:8080/"
        },
        "id": "EdECB9AHEVnb",
        "outputId": "7260f8a0-758a-47f0-820e-9bbdc636b43a"
      },
      "source": [
        "#dictionary\n",
        "d = {1:10, 2:20, 3:30,4:40}\n",
        "d"
      ],
      "execution_count": null,
      "outputs": [
        {
          "output_type": "execute_result",
          "data": {
            "text/plain": [
              "{1: 10, 2: 20, 3: 30, 4: 40}"
            ]
          },
          "metadata": {},
          "execution_count": 77
        }
      ]
    },
    {
      "cell_type": "code",
      "metadata": {
        "colab": {
          "base_uri": "https://localhost:8080/"
        },
        "id": "U0mdITdcJuld",
        "outputId": "0ab48e09-6ba5-44a8-a379-49a132a8729f"
      },
      "source": [
        "d.items()"
      ],
      "execution_count": null,
      "outputs": [
        {
          "output_type": "execute_result",
          "data": {
            "text/plain": [
              "dict_items([(1, 10), (2, 20), (3, 30), (4, 40)])"
            ]
          },
          "metadata": {},
          "execution_count": 78
        }
      ]
    },
    {
      "cell_type": "code",
      "metadata": {
        "colab": {
          "base_uri": "https://localhost:8080/"
        },
        "id": "GR-0YiKgJxG_",
        "outputId": "7d081dbb-30f5-4fe0-ba16-8fcefd87a3df"
      },
      "source": [
        "d[4] # 4 is a key value and 40 is a dictionary value"
      ],
      "execution_count": null,
      "outputs": [
        {
          "output_type": "execute_result",
          "data": {
            "text/plain": [
              "40"
            ]
          },
          "metadata": {},
          "execution_count": 79
        }
      ]
    },
    {
      "cell_type": "code",
      "metadata": {
        "colab": {
          "base_uri": "https://localhost:8080/"
        },
        "id": "pvM1traQKhpk",
        "outputId": "c76778e3-f074-4223-86d7-3927c856030e"
      },
      "source": [
        "d.update({8:80})\n",
        "d"
      ],
      "execution_count": null,
      "outputs": [
        {
          "output_type": "execute_result",
          "data": {
            "text/plain": [
              "{1: 10, 2: 20, 3: 30, 4: 40, 8: 80}"
            ]
          },
          "metadata": {},
          "execution_count": 84
        }
      ]
    },
    {
      "cell_type": "code",
      "metadata": {
        "id": "x6CfDL13J0Mg"
      },
      "source": [
        "# to find key is in dictionary or not\n",
        "def is_key_present(x):\n",
        "  if x in d:\n",
        "    print('Key is present in the dictionary')\n",
        "  else:\n",
        "    print('Key is not in the dictionary')"
      ],
      "execution_count": null,
      "outputs": []
    },
    {
      "cell_type": "code",
      "metadata": {
        "colab": {
          "base_uri": "https://localhost:8080/"
        },
        "id": "LxktqCBcKU2B",
        "outputId": "a79f465b-95e1-4156-c81a-eeaf968466b1"
      },
      "source": [
        "is_key_present(5)"
      ],
      "execution_count": null,
      "outputs": [
        {
          "output_type": "stream",
          "name": "stdout",
          "text": [
            "Key is not in the dictionary\n"
          ]
        }
      ]
    },
    {
      "cell_type": "code",
      "metadata": {
        "colab": {
          "base_uri": "https://localhost:8080/"
        },
        "id": "9u7xVCwyKW9Z",
        "outputId": "cb3884fc-1686-4e82-ed1d-ca4544ff623a"
      },
      "source": [
        "is_key_present(8)"
      ],
      "execution_count": null,
      "outputs": [
        {
          "output_type": "stream",
          "name": "stdout",
          "text": [
            "Key is present in the dictionary\n"
          ]
        }
      ]
    }
  ]
}