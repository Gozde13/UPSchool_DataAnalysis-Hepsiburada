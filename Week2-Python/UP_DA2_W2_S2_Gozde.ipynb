{
  "nbformat": 4,
  "nbformat_minor": 0,
  "metadata": {
    "colab": {
      "name": "UP-DA2-W2-S2-Gozde.ipynb",
      "provenance": []
    },
    "kernelspec": {
      "name": "python3",
      "display_name": "Python 3"
    },
    "language_info": {
      "name": "python"
    }
  },
  "cells": [
    {
      "cell_type": "markdown",
      "metadata": {
        "id": "fnFIfTqnUQVa"
      },
      "source": [
        "# Task A\n",
        "Please create a tuple consists of your name and surname then \n",
        "\n",
        "please write a code that will find out which letter is in this tuple how many times."
      ]
    },
    {
      "cell_type": "code",
      "metadata": {
        "id": "ZIKlvKj3UrSk"
      },
      "source": [
        "def count_letter(tuplex):     # this function takes input, then convert it to a tuple\n",
        "  tuple(tuplex)\n",
        "  for i in tuplex:            # counts the letter in the tuple\n",
        "    print(i,tuplex.count(i))"
      ],
      "execution_count": null,
      "outputs": []
    },
    {
      "cell_type": "code",
      "metadata": {
        "colab": {
          "base_uri": "https://localhost:8080/"
        },
        "id": "HFHKs-0-UgIN",
        "outputId": "393f8ae3-f77a-43b4-bf39-405c0016e804"
      },
      "source": [
        "tuplex = input('Please enter your name and surname: ')"
      ],
      "execution_count": null,
      "outputs": [
        {
          "name": "stdout",
          "output_type": "stream",
          "text": [
            "Please enter your name and surname: gozde gozutok\n"
          ]
        }
      ]
    },
    {
      "cell_type": "code",
      "metadata": {
        "colab": {
          "base_uri": "https://localhost:8080/"
        },
        "id": "j4SenNF2Uu-9",
        "outputId": "f0a46a91-57e3-427e-9ebc-9820a2f4bb98"
      },
      "source": [
        "count_letter(tuplex) # we need to print every letter once."
      ],
      "execution_count": null,
      "outputs": [
        {
          "output_type": "stream",
          "name": "stdout",
          "text": [
            "g 2\n",
            "o 3\n",
            "z 2\n",
            "d 1\n",
            "e 1\n",
            "  1\n",
            "g 2\n",
            "o 3\n",
            "z 2\n",
            "u 1\n",
            "t 1\n",
            "o 3\n",
            "k 1\n"
          ]
        }
      ]
    },
    {
      "cell_type": "markdown",
      "metadata": {
        "id": "XU1ywUzrgksw"
      },
      "source": [
        "I did little modification to count_letter function"
      ]
    },
    {
      "cell_type": "code",
      "metadata": {
        "id": "Gkvr-Ii2VTkn"
      },
      "source": [
        "def count_letter(tuplex):     # this function takes input, then convert it to a tuple\n",
        "  tuple(tuplex)\n",
        "  for i in set(tuplex):            # I converted to a set because i need distinct letters\n",
        "    print(i,tuplex.count(i))"
      ],
      "execution_count": null,
      "outputs": []
    },
    {
      "cell_type": "code",
      "metadata": {
        "colab": {
          "base_uri": "https://localhost:8080/"
        },
        "id": "QbqBXizsfjJZ",
        "outputId": "196ae278-6f19-435f-d229-620d2b88b5ab"
      },
      "source": [
        "tuplex = input('Please enter your name and surname: ')"
      ],
      "execution_count": null,
      "outputs": [
        {
          "name": "stdout",
          "output_type": "stream",
          "text": [
            "Please enter your name and surname: tuna cakar\n"
          ]
        }
      ]
    },
    {
      "cell_type": "code",
      "metadata": {
        "colab": {
          "base_uri": "https://localhost:8080/"
        },
        "id": "1K2Vie5lfmLm",
        "outputId": "303ade8d-3d06-4374-d45d-5f12c7a0ab8c"
      },
      "source": [
        "count_letter(tuplex) # we need to print every letter once."
      ],
      "execution_count": null,
      "outputs": [
        {
          "output_type": "stream",
          "name": "stdout",
          "text": [
            "a 3\n",
            "c 1\n",
            "r 1\n",
            "k 1\n",
            "  1\n",
            "n 1\n",
            "t 1\n",
            "u 1\n"
          ]
        }
      ]
    },
    {
      "cell_type": "code",
      "metadata": {
        "colab": {
          "base_uri": "https://localhost:8080/"
        },
        "id": "DuxMwIANfwRp",
        "outputId": "cbc511be-d4f8-4a19-b4d4-40a9bbbf5b6d"
      },
      "source": [
        "count_letter(('gozde gozutok'))"
      ],
      "execution_count": null,
      "outputs": [
        {
          "output_type": "stream",
          "name": "stdout",
          "text": [
            "o 3\n",
            "k 1\n",
            "d 1\n",
            "g 2\n",
            "e 1\n",
            "  1\n",
            "u 1\n",
            "t 1\n",
            "z 2\n"
          ]
        }
      ]
    },
    {
      "cell_type": "code",
      "metadata": {
        "colab": {
          "base_uri": "https://localhost:8080/"
        },
        "id": "a8gyN4GponmQ",
        "outputId": "8f34b526-e4f0-4c69-f43b-c0576edcbec3"
      },
      "source": [
        "count_letter('up school data analysis')"
      ],
      "execution_count": null,
      "outputs": [
        {
          "output_type": "stream",
          "name": "stdout",
          "text": [
            "i 1\n",
            "a 4\n",
            "c 1\n",
            "o 2\n",
            "d 1\n",
            "  3\n",
            "s 3\n",
            "n 1\n",
            "y 1\n",
            "u 1\n",
            "t 1\n",
            "h 1\n",
            "p 1\n",
            "l 2\n"
          ]
        }
      ]
    },
    {
      "cell_type": "markdown",
      "metadata": {
        "id": "ruq-nhRymj31"
      },
      "source": [
        "# Task B\n",
        "* Provide a piece of Python code to replace last value of tuples in a list"
      ]
    },
    {
      "cell_type": "code",
      "metadata": {
        "id": "Z99tiGIammW7"
      },
      "source": [
        "def replace_list(listx):    # this function replace last value of tuples with 100\n",
        "   print([x[:-1]+(100,) for x in listx])\n"
      ],
      "execution_count": null,
      "outputs": []
    },
    {
      "cell_type": "code",
      "metadata": {
        "colab": {
          "base_uri": "https://localhost:8080/"
        },
        "id": "VrpFoMoVvb6t",
        "outputId": "28da1d1d-d1ec-4d85-c6f3-7db241c64b58"
      },
      "source": [
        "listx = [(1, 2, 4,5,3), (40, 50, 60), (7, 8, 9)]\n",
        "replace_list(listx)"
      ],
      "execution_count": null,
      "outputs": [
        {
          "output_type": "stream",
          "name": "stdout",
          "text": [
            "[(1, 2, 4, 5, 100), (40, 50, 100), (7, 8, 100)]\n"
          ]
        }
      ]
    },
    {
      "cell_type": "code",
      "metadata": {
        "colab": {
          "base_uri": "https://localhost:8080/"
        },
        "id": "TVcGtvfTlZcR",
        "outputId": "1c4d07a4-5130-4995-cf0f-13b623a67dc8"
      },
      "source": [
        "replace_list([(1,2,3,4,5)])"
      ],
      "execution_count": null,
      "outputs": [
        {
          "output_type": "stream",
          "name": "stdout",
          "text": [
            "[(1, 2, 3, 4, 100)]\n"
          ]
        }
      ]
    },
    {
      "cell_type": "code",
      "metadata": {
        "colab": {
          "base_uri": "https://localhost:8080/"
        },
        "id": "d0QOeUnhmTKg",
        "outputId": "7ae16e93-11ea-46d4-80e5-90f188e648fa"
      },
      "source": [
        "replace_list([(10,10),(20,20),(30,30)])"
      ],
      "execution_count": null,
      "outputs": [
        {
          "output_type": "stream",
          "name": "stdout",
          "text": [
            "[(10, 100), (20, 100), (30, 100)]\n"
          ]
        }
      ]
    },
    {
      "cell_type": "code",
      "metadata": {
        "colab": {
          "base_uri": "https://localhost:8080/"
        },
        "id": "oBvCKm6jn5dV",
        "outputId": "02d92c06-75da-48df-e197-4955c5bde32f"
      },
      "source": [
        "replace_list([(10,10),(10,10)])"
      ],
      "execution_count": null,
      "outputs": [
        {
          "output_type": "stream",
          "name": "stdout",
          "text": [
            "[(10, 100), (10, 100)]\n"
          ]
        }
      ]
    },
    {
      "cell_type": "markdown",
      "metadata": {
        "id": "Pgr8qNY9mnY0"
      },
      "source": [
        "# Task C\n",
        "\n",
        "Write a Python program to convert a given tuple of positive integers to an integer.\n",
        "\n",
        "e.g. -> original tuple (1, 2, 3) --> output: 123"
      ]
    },
    {
      "cell_type": "code",
      "metadata": {
        "id": "ku-EH_QjnCjI"
      },
      "source": [
        "def tuple_convert(tuplex):                      # this function convert the tuple into an integer\n",
        "  integer = ''.join(str(x) for x in tuplex)     # firstly converted tuple into a string then jion every element\n",
        "  print(int(integer))                           "
      ],
      "execution_count": null,
      "outputs": []
    },
    {
      "cell_type": "code",
      "metadata": {
        "colab": {
          "base_uri": "https://localhost:8080/"
        },
        "id": "siGeAEUun-4O",
        "outputId": "9d740c90-f952-4c69-baa7-4828fbd67451"
      },
      "source": [
        "tuple_convert((1,2,3))"
      ],
      "execution_count": null,
      "outputs": [
        {
          "output_type": "stream",
          "name": "stdout",
          "text": [
            "123\n"
          ]
        }
      ]
    },
    {
      "cell_type": "code",
      "metadata": {
        "colab": {
          "base_uri": "https://localhost:8080/"
        },
        "id": "aKJJFJxRoBGD",
        "outputId": "3db476fc-90ae-4c60-e8f3-9e12b129a104"
      },
      "source": [
        "tuple_convert((23,13,56))"
      ],
      "execution_count": null,
      "outputs": [
        {
          "output_type": "stream",
          "name": "stdout",
          "text": [
            "231356\n"
          ]
        }
      ]
    },
    {
      "cell_type": "code",
      "metadata": {
        "colab": {
          "base_uri": "https://localhost:8080/"
        },
        "id": "X5ICs9q0oPV5",
        "outputId": "d3773e5f-f0f0-41d9-83f8-292f364f3573"
      },
      "source": [
        "tuple_convert((10, 20, 30, 40, 50))"
      ],
      "execution_count": null,
      "outputs": [
        {
          "output_type": "stream",
          "name": "stdout",
          "text": [
            "1020304050\n"
          ]
        }
      ]
    },
    {
      "cell_type": "code",
      "metadata": {
        "id": "G5YndERFoBqS",
        "colab": {
          "base_uri": "https://localhost:8080/"
        },
        "outputId": "82cdbb81-0d3d-4671-8b27-e043f61f4ea6"
      },
      "source": [
        "tuple_convert((1,1,1,1,1,1,1))"
      ],
      "execution_count": null,
      "outputs": [
        {
          "output_type": "stream",
          "name": "stdout",
          "text": [
            "1111111\n"
          ]
        }
      ]
    },
    {
      "cell_type": "markdown",
      "metadata": {
        "id": "wRTWciiipEC1"
      },
      "source": [
        "# Task D\n",
        "\n",
        "Write a python program to find the largest integer in a tuple\n",
        "\n",
        "e.g (12, 40,2) --> output: 40"
      ]
    },
    {
      "cell_type": "code",
      "metadata": {
        "id": "LPAik6GloVR6"
      },
      "source": [
        "def max_tuple(tuplex):         # this function finds max value of a tuple\n",
        "  max = tuplex[0]\n",
        "  for i in range(0,len(tuplex)):\n",
        "    if (tuplex[i]>max):\n",
        "      max =tuplex[i]\n",
        "    else:\n",
        "      i=i+1\n",
        "  print( max)"
      ],
      "execution_count": null,
      "outputs": []
    },
    {
      "cell_type": "code",
      "metadata": {
        "colab": {
          "base_uri": "https://localhost:8080/"
        },
        "id": "3JhoH0tfpwnv",
        "outputId": "63068915-013a-427f-e3e9-35b85628946c"
      },
      "source": [
        "max_tuple((10,20,30))"
      ],
      "execution_count": null,
      "outputs": [
        {
          "output_type": "stream",
          "name": "stdout",
          "text": [
            "30\n"
          ]
        }
      ]
    },
    {
      "cell_type": "code",
      "metadata": {
        "colab": {
          "base_uri": "https://localhost:8080/"
        },
        "id": "pZzz6DcDqOuN",
        "outputId": "e16db00b-3af8-46f5-8b6c-79cdbda8564a"
      },
      "source": [
        "max_tuple((123, 45, 67, 300, 49))"
      ],
      "execution_count": null,
      "outputs": [
        {
          "output_type": "stream",
          "name": "stdout",
          "text": [
            "300\n"
          ]
        }
      ]
    },
    {
      "cell_type": "code",
      "metadata": {
        "colab": {
          "base_uri": "https://localhost:8080/"
        },
        "id": "hziUpLS0sD6N",
        "outputId": "06d7f1f4-7d1c-4317-83a2-360656a16215"
      },
      "source": [
        "max_tuple((300,200,100,20,34,50))"
      ],
      "execution_count": null,
      "outputs": [
        {
          "output_type": "stream",
          "name": "stdout",
          "text": [
            "300\n"
          ]
        }
      ]
    },
    {
      "cell_type": "code",
      "metadata": {
        "colab": {
          "base_uri": "https://localhost:8080/"
        },
        "id": "pmor4rbjl2hH",
        "outputId": "0f0e436f-9dd9-443b-9f76-97be1d5c20f8"
      },
      "source": [
        "max_tuple((10,10,10))"
      ],
      "execution_count": null,
      "outputs": [
        {
          "output_type": "stream",
          "name": "stdout",
          "text": [
            "10\n"
          ]
        }
      ]
    },
    {
      "cell_type": "markdown",
      "metadata": {
        "id": "G46Is4MNsQAB"
      },
      "source": [
        "This max_tuple function is working but I want to solve it with short steps. \n",
        "\n",
        "I did some modifications."
      ]
    },
    {
      "cell_type": "code",
      "metadata": {
        "id": "ajDsQkO5sM1r"
      },
      "source": [
        "def max_int(tuplex):  # this function takes tuple containing integer numbers and find max value of the tuple\n",
        "  max = tuplex[0]\n",
        "  for i in tuplex:\n",
        "    if (i>max):\n",
        "      max=i\n",
        "\n",
        "  print(max)"
      ],
      "execution_count": null,
      "outputs": []
    },
    {
      "cell_type": "code",
      "metadata": {
        "colab": {
          "base_uri": "https://localhost:8080/"
        },
        "id": "3AJNrnCvtpEA",
        "outputId": "df80094d-9d77-45f5-93f2-958099625bf4"
      },
      "source": [
        "max_int((100,20,30))"
      ],
      "execution_count": null,
      "outputs": [
        {
          "output_type": "stream",
          "name": "stdout",
          "text": [
            "100\n"
          ]
        }
      ]
    },
    {
      "cell_type": "code",
      "metadata": {
        "colab": {
          "base_uri": "https://localhost:8080/"
        },
        "id": "946zndfYtsb0",
        "outputId": "b9e47560-a928-4f26-8bba-a5ec95989c10"
      },
      "source": [
        "max_int((1,2,3))"
      ],
      "execution_count": null,
      "outputs": [
        {
          "output_type": "stream",
          "name": "stdout",
          "text": [
            "3\n"
          ]
        }
      ]
    },
    {
      "cell_type": "code",
      "metadata": {
        "colab": {
          "base_uri": "https://localhost:8080/"
        },
        "id": "PNmaE2Lgt84W",
        "outputId": "254bd753-7d0b-410f-b85a-243b9824aed4"
      },
      "source": [
        "max_int((230,300,200,400,2))"
      ],
      "execution_count": null,
      "outputs": [
        {
          "output_type": "stream",
          "name": "stdout",
          "text": [
            "400\n"
          ]
        }
      ]
    },
    {
      "cell_type": "code",
      "metadata": {
        "colab": {
          "base_uri": "https://localhost:8080/"
        },
        "id": "rA8kCwBLuAHZ",
        "outputId": "e5a1c67e-807c-4d2d-a6e1-f9608acd6427"
      },
      "source": [
        "max_int((0,40,2,3,4,67))"
      ],
      "execution_count": null,
      "outputs": [
        {
          "output_type": "stream",
          "name": "stdout",
          "text": [
            "67\n"
          ]
        }
      ]
    },
    {
      "cell_type": "code",
      "metadata": {
        "colab": {
          "base_uri": "https://localhost:8080/"
        },
        "id": "qo8y1HkVlsPB",
        "outputId": "4be19140-d25a-4377-852f-8ab9a9394e79"
      },
      "source": [
        "max_int((54,54,54,54))"
      ],
      "execution_count": null,
      "outputs": [
        {
          "output_type": "stream",
          "name": "stdout",
          "text": [
            "54\n"
          ]
        }
      ]
    }
  ]
}