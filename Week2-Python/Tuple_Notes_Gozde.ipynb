{
  "nbformat": 4,
  "nbformat_minor": 0,
  "metadata": {
    "colab": {
      "name": "Tuple Notes- Gozde.ipynb",
      "provenance": []
    },
    "kernelspec": {
      "name": "python3",
      "display_name": "Python 3"
    },
    "language_info": {
      "name": "python"
    }
  },
  "cells": [
    {
      "cell_type": "markdown",
      "metadata": {
        "id": "xDkNWwHZw7rf"
      },
      "source": [
        "## Tuple Notes\n",
        "\n",
        "* tuplex = ('w', 2, 5, 'a', 'o','i',7)\n",
        "\n",
        " tuplex[0] -> w\n",
        "\n",
        " tuplex[-1] -> 7\n",
        "\n",
        " tuplex[-3] -> o\n",
        "\n",
        "print('w' in tuplex) -> True\n",
        "\n",
        " print(3 in tuplex) -> False\n",
        "\n",
        "## How to convert a list to a tuple\n",
        "\n",
        "listx = [5, 10, 7, 4, 15, 3]\n",
        "tuplex = tuple(listx)\n",
        "tuplex - > (5, 10, 7, 4, 15, 3)\n",
        "\n",
        "tuplex2 = (3, 4, 5)\n",
        "\n",
        "n1, n2, n3 = tuplex2 -> n1= 3, n2=4, n3=5\n",
        "\n",
        "print(n1+n2+n3) -> 12 # unpacking a tuple\n",
        "\n",
        "## How can we add an element to a tuple?\n",
        "\n",
        "tuplex=(1,2,3,4,5)\n",
        "tuplex = tuplex[:5] + (15, 20, 25) +tuplex[:5] # we can add like this\n",
        "tuplex -> (1,2,3,4,5,15,20,25,1,2,3,4,5)\n",
        "\n",
        "or\n",
        "\n",
        "listx= list(tuplex)\n",
        "listx.append(30)\n",
        "tuplex = tuple(listx)\n",
        "print(tuplex) -> (1,2,3,45,30)\n",
        "\n",
        "# How to know the number of  elements has repeated?\n",
        "\n",
        "with count function we can find for example: \n",
        "\n",
        "tuplex.count(4) gives us how many 4 in the tuplex\n",
        "\n",
        "## How to remove an item from a tuple?\n",
        "\n",
        "tuplex = (1,2,3,4,5,'w','e')\n",
        "listx = list(tuplex)\n",
        "listx.remove('e')   # we can remove an item from a tuple with remove method.\n",
        "tuple(listx) - > (1,2,3,4,5,'w)\n",
        "\n",
        "## How to find an index of an item of the tuple? \n",
        "\n",
        "tuplex.index(x): if x is in tuplex returns the index of x otherwise it returns value error\n",
        "\n",
        "## How to find the size of a tuple?\n",
        "\n",
        "len(tuplex) # we can find the length of a tuple with len function\n",
        "\n"
      ]
    },
    {
      "cell_type": "code",
      "metadata": {
        "colab": {
          "base_uri": "https://localhost:8080/"
        },
        "id": "h3NK_FppxS58",
        "outputId": "6a6f5135-1bc2-47e7-afe8-44379af24e89"
      },
      "source": [
        "tuplex = ('w', 2, 5, 'a', 'o','i',7)\n",
        "print('w' in tuplex)"
      ],
      "execution_count": 1,
      "outputs": [
        {
          "output_type": "stream",
          "name": "stdout",
          "text": [
            "True\n"
          ]
        }
      ]
    },
    {
      "cell_type": "code",
      "metadata": {
        "id": "XWXlPy1sxpQ5"
      },
      "source": [
        "tuplex2 = (3, 4, 5) \n",
        "n1, n2, n3 = tuplex2"
      ],
      "execution_count": 2,
      "outputs": []
    },
    {
      "cell_type": "code",
      "metadata": {
        "colab": {
          "base_uri": "https://localhost:8080/"
        },
        "id": "0pQuSonD2Ndr",
        "outputId": "3afdb4db-a59b-4063-bdbf-41fdf5d77768"
      },
      "source": [
        "print(n1+n2+n3)"
      ],
      "execution_count": 3,
      "outputs": [
        {
          "output_type": "stream",
          "name": "stdout",
          "text": [
            "12\n"
          ]
        }
      ]
    }
  ]
}